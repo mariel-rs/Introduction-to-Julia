{
 "cells": [
  {
   "cell_type": "markdown",
   "metadata": {},
   "source": [
    "# Julia is fast\n",
    "\n",
    "Very often, benchmarks are used to compare languages.  These benchmarks can lead to long discussions, first as to exactly what is being benchmarked and secondly what explains the differences.  These simple questions can sometimes get more complicated than you at first might imagine.\n",
    "\n",
    "The purpose of this notebook is for you to see a simple benchmark for yourself.  One can read the notebook and see what happened on the author's Macbook Pro with a 4-core Intel Core I7, or run the notebook yourself.\n",
    "\n",
    "(This material began life as a wonderful lecture by Steven Johnson at MIT: https://github.com/stevengj/18S096/blob/master/lectures/lecture1/Boxes-and-registers.ipynb.)"
   ]
  },
  {
   "cell_type": "markdown",
   "metadata": {},
   "source": [
    "# Outline of this notebook\n",
    "\n",
    "- Define the sum function\n",
    "- Implementations & benchmarking of sum in...\n",
    "    - C (hand-written)\n",
    "    - C (hand-written with -ffast-math)\n",
    "    - python (built-in)\n",
    "    - python (numpy)\n",
    "    - python (hand-written)\n",
    "    - Julia (built-in)\n",
    "    - Julia (hand-written)\n",
    "    - Julia (hand-written with SIMD)\n",
    "- Summary of benchmarks"
   ]
  },
  {
   "cell_type": "markdown",
   "metadata": {},
   "source": [
    "# `sum`: An easy enough function to understand"
   ]
  },
  {
   "cell_type": "markdown",
   "metadata": {},
   "source": [
    "Consider the  **sum** function `sum(a)`, which computes\n",
    "$$\n",
    "\\mathrm{sum}(a) = \\sum_{i=1}^n a_i,\n",
    "$$\n",
    "where $n$ is the length of `a`."
   ]
  },
  {
   "cell_type": "code",
   "execution_count": 1,
   "metadata": {},
   "outputs": [
    {
     "data": {
      "text/plain": [
       "10000000-element Vector{Float64}:\n",
       " 0.7854516120755995\n",
       " 0.019043324560068853\n",
       " 0.9113228795387293\n",
       " 0.5869661003790914\n",
       " 0.42950519359921\n",
       " 0.4040024777763398\n",
       " 0.8700447641910213\n",
       " 0.8119875338620798\n",
       " 0.03863092535430701\n",
       " 0.2398405172774748\n",
       " 0.9508718326504098\n",
       " 0.5344788275528426\n",
       " 0.31745281320233565\n",
       " ⋮\n",
       " 0.7274183447417528\n",
       " 0.32839992486997427\n",
       " 0.6706576876098649\n",
       " 0.7193604489072492\n",
       " 0.6467839661585812\n",
       " 0.3949613463365942\n",
       " 0.7435348794438442\n",
       " 0.5717347279726755\n",
       " 0.9959649947946162\n",
       " 0.7389915863218465\n",
       " 0.5550830251203778\n",
       " 0.02449366720686741"
      ]
     },
     "execution_count": 1,
     "metadata": {},
     "output_type": "execute_result"
    }
   ],
   "source": [
    "a = rand(10^7) # 1D vector of random numbers, uniform on [0,1)"
   ]
  },
  {
   "cell_type": "code",
   "execution_count": 2,
   "metadata": {},
   "outputs": [
    {
     "data": {
      "text/plain": [
       "5.000209785830769e6"
      ]
     },
     "execution_count": 2,
     "metadata": {},
     "output_type": "execute_result"
    }
   ],
   "source": [
    "sum(a)"
   ]
  },
  {
   "cell_type": "markdown",
   "metadata": {},
   "source": [
    "The expected result is 0.5 * 10^7, since the mean of each entry is 0.5"
   ]
  },
  {
   "cell_type": "markdown",
   "metadata": {},
   "source": [
    "# Benchmarking a few ways in a few languages"
   ]
  },
  {
   "cell_type": "code",
   "execution_count": 3,
   "metadata": {},
   "outputs": [
    {
     "name": "stdout",
     "output_type": "stream",
     "text": [
      "  0.004653 seconds (1 allocation: 16 bytes)\n"
     ]
    },
    {
     "data": {
      "text/plain": [
       "5.000209785830769e6"
      ]
     },
     "execution_count": 3,
     "metadata": {},
     "output_type": "execute_result"
    }
   ],
   "source": [
    "@time sum(a)"
   ]
  },
  {
   "cell_type": "code",
   "execution_count": 4,
   "metadata": {},
   "outputs": [
    {
     "name": "stdout",
     "output_type": "stream",
     "text": [
      "  0.004498 seconds (1 allocation: 16 bytes)\n"
     ]
    },
    {
     "data": {
      "text/plain": [
       "5.000209785830769e6"
      ]
     },
     "execution_count": 4,
     "metadata": {},
     "output_type": "execute_result"
    }
   ],
   "source": [
    "@time sum(a)"
   ]
  },
  {
   "cell_type": "code",
   "execution_count": 5,
   "metadata": {},
   "outputs": [
    {
     "name": "stdout",
     "output_type": "stream",
     "text": [
      "  0.005992 seconds (1 allocation: 16 bytes)\n"
     ]
    },
    {
     "data": {
      "text/plain": [
       "5.000209785830769e6"
      ]
     },
     "execution_count": 5,
     "metadata": {},
     "output_type": "execute_result"
    }
   ],
   "source": [
    "@time sum(a)"
   ]
  },
  {
   "cell_type": "markdown",
   "metadata": {},
   "source": [
    "The `@time` macro can yield noisy results, so it's not our best choice for benchmarking!\n",
    "\n",
    "Luckily, Julia has a `BenchmarkTools.jl` package to make benchmarking easy and accurate:"
   ]
  },
  {
   "cell_type": "code",
   "execution_count": 6,
   "metadata": {},
   "outputs": [
    {
     "name": "stderr",
     "output_type": "stream",
     "text": [
      "\u001b[33m\u001b[1m┌ \u001b[22m\u001b[39m\u001b[33m\u001b[1mWarning: \u001b[22m\u001b[39mcould not download https://pkg.julialang.org/registries\n",
      "\u001b[33m\u001b[1m│ \u001b[22m\u001b[39m  exception = HTTP/2 502 while requesting https://pkg.julialang.org/registries\n",
      "\u001b[33m\u001b[1m└ \u001b[22m\u001b[39m\u001b[90m@ Pkg.Registry /cache/build/default-amdci5-6/julialang/julia-release-1-dot-8/usr/share/julia/stdlib/v1.8/Pkg/src/Registry/Registry.jl:68\u001b[39m\n",
      "\u001b[32m\u001b[1m    Updating\u001b[22m\u001b[39m registry at `~/.julia/registries/General.toml`\n",
      "\u001b[32m\u001b[1m   Resolving\u001b[22m\u001b[39m package versions...\n",
      "\u001b[32m\u001b[1m  No Changes\u001b[22m\u001b[39m to `~/Documents/code/julia_courses/Introduction-to-Julia/Project.toml`\n",
      "\u001b[32m\u001b[1m  No Changes\u001b[22m\u001b[39m to `~/Documents/code/julia_courses/Introduction-to-Julia/Manifest.toml`\n"
     ]
    }
   ],
   "source": [
    "using Pkg\n",
    "Pkg.add(\"BenchmarkTools\")"
   ]
  },
  {
   "cell_type": "code",
   "execution_count": 7,
   "metadata": {},
   "outputs": [],
   "source": [
    "using BenchmarkTools"
   ]
  },
  {
   "cell_type": "markdown",
   "metadata": {},
   "source": [
    "#  1. The C language\n",
    "\n",
    "C is often considered the gold standard: difficult on the human, nice for the machine. Getting within a factor of 2 of C is often satisfying. Nonetheless, even within C, there are many kinds of optimizations possible that a naive C writer may or may not get the advantage of.\n",
    "\n",
    "The current author does not speak C, so he does not read the cell below, but is happy to know that you can put C code in a Julia session, compile it, and run it. Note that the `\"\"\"` wrap a multi-line string."
   ]
  },
  {
   "cell_type": "code",
   "execution_count": 8,
   "metadata": {},
   "outputs": [
    {
     "data": {
      "text/plain": [
       "c_sum (generic function with 1 method)"
      ]
     },
     "execution_count": 8,
     "metadata": {},
     "output_type": "execute_result"
    }
   ],
   "source": [
    "using Libdl\n",
    "C_code = \"\"\"\n",
    "#include <stddef.h>\n",
    "double c_sum(size_t n, double *X) {\n",
    "    double s = 0.0;\n",
    "    for (size_t i = 0; i < n; ++i) {\n",
    "        s += X[i];\n",
    "    }\n",
    "    return s;\n",
    "}\n",
    "\"\"\"\n",
    "\n",
    "const Clib = tempname()   # make a temporary file\n",
    "\n",
    "\n",
    "# compile to a shared library by piping C_code to gcc\n",
    "# (works only if you have gcc installed):\n",
    "\n",
    "open(`gcc -fPIC -O3 -msse3 -xc -shared -o $(Clib * \".\" * Libdl.dlext) -`, \"w\") do f\n",
    "    print(f, C_code) \n",
    "end\n",
    "\n",
    "# define a Julia function that calls the C function:\n",
    "c_sum(X::Array{Float64}) = ccall((\"c_sum\", Clib), Float64, (Csize_t, Ptr{Float64}), length(X), X)"
   ]
  },
  {
   "cell_type": "code",
   "execution_count": 9,
   "metadata": {},
   "outputs": [
    {
     "data": {
      "text/plain": [
       "5.000209785831712e6"
      ]
     },
     "execution_count": 9,
     "metadata": {},
     "output_type": "execute_result"
    }
   ],
   "source": [
    "c_sum(a)"
   ]
  },
  {
   "cell_type": "code",
   "execution_count": 10,
   "metadata": {},
   "outputs": [
    {
     "data": {
      "text/plain": [
       "true"
      ]
     },
     "execution_count": 10,
     "metadata": {},
     "output_type": "execute_result"
    }
   ],
   "source": [
    "c_sum(a) ≈ sum(a) # type \\approx and then <TAB> to get the ≈ symbolb"
   ]
  },
  {
   "cell_type": "code",
   "execution_count": 11,
   "metadata": {},
   "outputs": [
    {
     "data": {
      "text/plain": [
       "9.434297680854797e-7"
      ]
     },
     "execution_count": 11,
     "metadata": {},
     "output_type": "execute_result"
    }
   ],
   "source": [
    "c_sum(a) - sum(a)"
   ]
  },
  {
   "cell_type": "code",
   "execution_count": 12,
   "metadata": {
    "scrolled": true
   },
   "outputs": [
    {
     "data": {
      "text/plain": [
       "isapprox (generic function with 9 methods)"
      ]
     },
     "execution_count": 12,
     "metadata": {},
     "output_type": "execute_result"
    }
   ],
   "source": [
    "≈  # alias for the `isapprox` function"
   ]
  },
  {
   "cell_type": "code",
   "execution_count": 13,
   "metadata": {
    "scrolled": true
   },
   "outputs": [
    {
     "name": "stdout",
     "output_type": "stream",
     "text": [
      "search: \u001b[0m\u001b[1mi\u001b[22m\u001b[0m\u001b[1ms\u001b[22m\u001b[0m\u001b[1ma\u001b[22m\u001b[0m\u001b[1mp\u001b[22m\u001b[0m\u001b[1mp\u001b[22m\u001b[0m\u001b[1mr\u001b[22m\u001b[0m\u001b[1mo\u001b[22m\u001b[0m\u001b[1mx\u001b[22m\n",
      "\n"
     ]
    },
    {
     "data": {
      "text/latex": [
       "\\begin{verbatim}\n",
       "isapprox(x, y; atol::Real=0, rtol::Real=atol>0 ? 0 : √eps, nans::Bool=false[, norm::Function])\n",
       "\\end{verbatim}\n",
       "Inexact equality comparison. Two numbers compare equal if their relative distance \\emph{or} their absolute distance is within tolerance bounds: \\texttt{isapprox} returns \\texttt{true} if \\texttt{norm(x-y) <= max(atol, rtol*max(norm(x), norm(y)))}. The default \\texttt{atol} is zero and the default \\texttt{rtol} depends on the types of \\texttt{x} and \\texttt{y}. The keyword argument \\texttt{nans} determines whether or not NaN values are considered equal (defaults to false).\n",
       "\n",
       "For real or complex floating-point values, if an \\texttt{atol > 0} is not specified, \\texttt{rtol} defaults to the square root of \\href{@ref}{\\texttt{eps}} of the type of \\texttt{x} or \\texttt{y}, whichever is bigger (least precise). This corresponds to requiring equality of about half of the significant digits. Otherwise, e.g. for integer arguments or if an \\texttt{atol > 0} is supplied, \\texttt{rtol} defaults to zero.\n",
       "\n",
       "The \\texttt{norm} keyword defaults to \\texttt{abs} for numeric \\texttt{(x,y)} and to \\texttt{LinearAlgebra.norm} for arrays (where an alternative \\texttt{norm} choice is sometimes useful). When \\texttt{x} and \\texttt{y} are arrays, if \\texttt{norm(x-y)} is not finite (i.e. \\texttt{±Inf} or \\texttt{NaN}), the comparison falls back to checking whether all elements of \\texttt{x} and \\texttt{y} are approximately equal component-wise.\n",
       "\n",
       "The binary operator \\texttt{≈} is equivalent to \\texttt{isapprox} with the default arguments, and \\texttt{x ≉ y} is equivalent to \\texttt{!isapprox(x,y)}.\n",
       "\n",
       "Note that \\texttt{x ≈ 0} (i.e., comparing to zero with the default tolerances) is equivalent to \\texttt{x == 0} since the default \\texttt{atol} is \\texttt{0}.  In such cases, you should either supply an appropriate \\texttt{atol} (or use \\texttt{norm(x) ≤ atol}) or rearrange your code (e.g. use \\texttt{x ≈ y} rather than \\texttt{x - y ≈ 0}).   It is not possible to pick a nonzero \\texttt{atol} automatically because it depends on the overall scaling (the \"units\") of your problem: for example, in \\texttt{x - y ≈ 0}, \\texttt{atol=1e-9} is an absurdly small tolerance if \\texttt{x} is the \\href{https://en.wikipedia.org/wiki/Earth_radius}{radius of the Earth} in meters, but an absurdly large tolerance if \\texttt{x} is the \\href{https://en.wikipedia.org/wiki/Bohr_radius}{radius of a Hydrogen atom} in meters.\n",
       "\n",
       "\\begin{quote}\n",
       "\\textbf{compat}\n",
       "\n",
       "Julia 1.6\n",
       "\n",
       "Passing the \\texttt{norm} keyword argument when comparing numeric (non-array) arguments requires Julia 1.6 or later.\n",
       "\n",
       "\\end{quote}\n",
       "\\section{Examples}\n",
       "\\begin{verbatim}\n",
       "julia> isapprox(0.1, 0.15; atol=0.05)\n",
       "true\n",
       "\n",
       "julia> isapprox(0.1, 0.15; rtol=0.34)\n",
       "true\n",
       "\n",
       "julia> isapprox(0.1, 0.15; rtol=0.33)\n",
       "false\n",
       "\n",
       "julia> 0.1 + 1e-10 ≈ 0.1\n",
       "true\n",
       "\n",
       "julia> 1e-10 ≈ 0\n",
       "false\n",
       "\n",
       "julia> isapprox(1e-10, 0, atol=1e-8)\n",
       "true\n",
       "\n",
       "julia> isapprox([10.0^9, 1.0], [10.0^9, 2.0]) # using `norm`\n",
       "true\n",
       "\\end{verbatim}\n",
       "\\rule{\\textwidth}{1pt}\n",
       "\\begin{verbatim}\n",
       "isapprox(x; kwargs...) / ≈(x; kwargs...)\n",
       "\\end{verbatim}\n",
       "Create a function that compares its argument to \\texttt{x} using \\texttt{≈}, i.e. a function equivalent to \\texttt{y -> y ≈ x}.\n",
       "\n",
       "The keyword arguments supported here are the same as those in the 2-argument \\texttt{isapprox}.\n",
       "\n",
       "\\begin{quote}\n",
       "\\textbf{compat}\n",
       "\n",
       "Julia 1.5\n",
       "\n",
       "This method requires Julia 1.5 or later.\n",
       "\n",
       "\\end{quote}\n"
      ],
      "text/markdown": [
       "```\n",
       "isapprox(x, y; atol::Real=0, rtol::Real=atol>0 ? 0 : √eps, nans::Bool=false[, norm::Function])\n",
       "```\n",
       "\n",
       "Inexact equality comparison. Two numbers compare equal if their relative distance *or* their absolute distance is within tolerance bounds: `isapprox` returns `true` if `norm(x-y) <= max(atol, rtol*max(norm(x), norm(y)))`. The default `atol` is zero and the default `rtol` depends on the types of `x` and `y`. The keyword argument `nans` determines whether or not NaN values are considered equal (defaults to false).\n",
       "\n",
       "For real or complex floating-point values, if an `atol > 0` is not specified, `rtol` defaults to the square root of [`eps`](@ref) of the type of `x` or `y`, whichever is bigger (least precise). This corresponds to requiring equality of about half of the significant digits. Otherwise, e.g. for integer arguments or if an `atol > 0` is supplied, `rtol` defaults to zero.\n",
       "\n",
       "The `norm` keyword defaults to `abs` for numeric `(x,y)` and to `LinearAlgebra.norm` for arrays (where an alternative `norm` choice is sometimes useful). When `x` and `y` are arrays, if `norm(x-y)` is not finite (i.e. `±Inf` or `NaN`), the comparison falls back to checking whether all elements of `x` and `y` are approximately equal component-wise.\n",
       "\n",
       "The binary operator `≈` is equivalent to `isapprox` with the default arguments, and `x ≉ y` is equivalent to `!isapprox(x,y)`.\n",
       "\n",
       "Note that `x ≈ 0` (i.e., comparing to zero with the default tolerances) is equivalent to `x == 0` since the default `atol` is `0`.  In such cases, you should either supply an appropriate `atol` (or use `norm(x) ≤ atol`) or rearrange your code (e.g. use `x ≈ y` rather than `x - y ≈ 0`).   It is not possible to pick a nonzero `atol` automatically because it depends on the overall scaling (the \"units\") of your problem: for example, in `x - y ≈ 0`, `atol=1e-9` is an absurdly small tolerance if `x` is the [radius of the Earth](https://en.wikipedia.org/wiki/Earth_radius) in meters, but an absurdly large tolerance if `x` is the [radius of a Hydrogen atom](https://en.wikipedia.org/wiki/Bohr_radius) in meters.\n",
       "\n",
       "!!! compat \"Julia 1.6\"\n",
       "    Passing the `norm` keyword argument when comparing numeric (non-array) arguments requires Julia 1.6 or later.\n",
       "\n",
       "\n",
       "# Examples\n",
       "\n",
       "```jldoctest\n",
       "julia> isapprox(0.1, 0.15; atol=0.05)\n",
       "true\n",
       "\n",
       "julia> isapprox(0.1, 0.15; rtol=0.34)\n",
       "true\n",
       "\n",
       "julia> isapprox(0.1, 0.15; rtol=0.33)\n",
       "false\n",
       "\n",
       "julia> 0.1 + 1e-10 ≈ 0.1\n",
       "true\n",
       "\n",
       "julia> 1e-10 ≈ 0\n",
       "false\n",
       "\n",
       "julia> isapprox(1e-10, 0, atol=1e-8)\n",
       "true\n",
       "\n",
       "julia> isapprox([10.0^9, 1.0], [10.0^9, 2.0]) # using `norm`\n",
       "true\n",
       "```\n",
       "\n",
       "---\n",
       "\n",
       "```\n",
       "isapprox(x; kwargs...) / ≈(x; kwargs...)\n",
       "```\n",
       "\n",
       "Create a function that compares its argument to `x` using `≈`, i.e. a function equivalent to `y -> y ≈ x`.\n",
       "\n",
       "The keyword arguments supported here are the same as those in the 2-argument `isapprox`.\n",
       "\n",
       "!!! compat \"Julia 1.5\"\n",
       "    This method requires Julia 1.5 or later.\n",
       "\n"
      ],
      "text/plain": [
       "\u001b[36m  isapprox(x, y; atol::Real=0, rtol::Real=atol>0 ? 0 : √eps, nans::Bool=false[, norm::Function])\u001b[39m\n",
       "\n",
       "  Inexact equality comparison. Two numbers compare equal if their relative\n",
       "  distance \u001b[4mor\u001b[24m their absolute distance is within tolerance bounds: \u001b[36misapprox\u001b[39m\n",
       "  returns \u001b[36mtrue\u001b[39m if \u001b[36mnorm(x-y) <= max(atol, rtol*max(norm(x), norm(y)))\u001b[39m. The\n",
       "  default \u001b[36matol\u001b[39m is zero and the default \u001b[36mrtol\u001b[39m depends on the types of \u001b[36mx\u001b[39m and \u001b[36my\u001b[39m.\n",
       "  The keyword argument \u001b[36mnans\u001b[39m determines whether or not NaN values are\n",
       "  considered equal (defaults to false).\n",
       "\n",
       "  For real or complex floating-point values, if an \u001b[36matol > 0\u001b[39m is not specified,\n",
       "  \u001b[36mrtol\u001b[39m defaults to the square root of \u001b[36meps\u001b[39m of the type of \u001b[36mx\u001b[39m or \u001b[36my\u001b[39m, whichever is\n",
       "  bigger (least precise). This corresponds to requiring equality of about half\n",
       "  of the significant digits. Otherwise, e.g. for integer arguments or if an\n",
       "  \u001b[36matol > 0\u001b[39m is supplied, \u001b[36mrtol\u001b[39m defaults to zero.\n",
       "\n",
       "  The \u001b[36mnorm\u001b[39m keyword defaults to \u001b[36mabs\u001b[39m for numeric \u001b[36m(x,y)\u001b[39m and to \u001b[36mLinearAlgebra.norm\u001b[39m\n",
       "  for arrays (where an alternative \u001b[36mnorm\u001b[39m choice is sometimes useful). When \u001b[36mx\u001b[39m\n",
       "  and \u001b[36my\u001b[39m are arrays, if \u001b[36mnorm(x-y)\u001b[39m is not finite (i.e. \u001b[36m±Inf\u001b[39m or \u001b[36mNaN\u001b[39m), the\n",
       "  comparison falls back to checking whether all elements of \u001b[36mx\u001b[39m and \u001b[36my\u001b[39m are\n",
       "  approximately equal component-wise.\n",
       "\n",
       "  The binary operator \u001b[36m≈\u001b[39m is equivalent to \u001b[36misapprox\u001b[39m with the default arguments,\n",
       "  and \u001b[36mx ≉ y\u001b[39m is equivalent to \u001b[36m!isapprox(x,y)\u001b[39m.\n",
       "\n",
       "  Note that \u001b[36mx ≈ 0\u001b[39m (i.e., comparing to zero with the default tolerances) is\n",
       "  equivalent to \u001b[36mx == 0\u001b[39m since the default \u001b[36matol\u001b[39m is \u001b[36m0\u001b[39m. In such cases, you should\n",
       "  either supply an appropriate \u001b[36matol\u001b[39m (or use \u001b[36mnorm(x) ≤ atol\u001b[39m) or rearrange your\n",
       "  code (e.g. use \u001b[36mx ≈ y\u001b[39m rather than \u001b[36mx - y ≈ 0\u001b[39m). It is not possible to pick a\n",
       "  nonzero \u001b[36matol\u001b[39m automatically because it depends on the overall scaling (the\n",
       "  \"units\") of your problem: for example, in \u001b[36mx - y ≈ 0\u001b[39m, \u001b[36matol=1e-9\u001b[39m is an\n",
       "  absurdly small tolerance if \u001b[36mx\u001b[39m is the radius of the Earth\n",
       "  (https://en.wikipedia.org/wiki/Earth_radius) in meters, but an absurdly\n",
       "  large tolerance if \u001b[36mx\u001b[39m is the radius of a Hydrogen atom\n",
       "  (https://en.wikipedia.org/wiki/Bohr_radius) in meters.\n",
       "\n",
       "\u001b[39m\u001b[1m  │ \u001b[22m\u001b[39m\u001b[1mJulia 1.6\u001b[22m\n",
       "\u001b[39m\u001b[1m  │\u001b[22m\n",
       "\u001b[39m\u001b[1m  │\u001b[22m  Passing the \u001b[36mnorm\u001b[39m keyword argument when comparing numeric\n",
       "\u001b[39m\u001b[1m  │\u001b[22m  (non-array) arguments requires Julia 1.6 or later.\n",
       "\n",
       "\u001b[1m  Examples\u001b[22m\n",
       "\u001b[1m  ≡≡≡≡≡≡≡≡≡≡\u001b[22m\n",
       "\n",
       "\u001b[36m  julia> isapprox(0.1, 0.15; atol=0.05)\u001b[39m\n",
       "\u001b[36m  true\u001b[39m\n",
       "\u001b[36m  \u001b[39m\n",
       "\u001b[36m  julia> isapprox(0.1, 0.15; rtol=0.34)\u001b[39m\n",
       "\u001b[36m  true\u001b[39m\n",
       "\u001b[36m  \u001b[39m\n",
       "\u001b[36m  julia> isapprox(0.1, 0.15; rtol=0.33)\u001b[39m\n",
       "\u001b[36m  false\u001b[39m\n",
       "\u001b[36m  \u001b[39m\n",
       "\u001b[36m  julia> 0.1 + 1e-10 ≈ 0.1\u001b[39m\n",
       "\u001b[36m  true\u001b[39m\n",
       "\u001b[36m  \u001b[39m\n",
       "\u001b[36m  julia> 1e-10 ≈ 0\u001b[39m\n",
       "\u001b[36m  false\u001b[39m\n",
       "\u001b[36m  \u001b[39m\n",
       "\u001b[36m  julia> isapprox(1e-10, 0, atol=1e-8)\u001b[39m\n",
       "\u001b[36m  true\u001b[39m\n",
       "\u001b[36m  \u001b[39m\n",
       "\u001b[36m  julia> isapprox([10.0^9, 1.0], [10.0^9, 2.0]) # using `norm`\u001b[39m\n",
       "\u001b[36m  true\u001b[39m\n",
       "\n",
       "  ────────────────────────────────────────────────────────────────────────────\n",
       "\n",
       "\u001b[36m  isapprox(x; kwargs...) / ≈(x; kwargs...)\u001b[39m\n",
       "\n",
       "  Create a function that compares its argument to \u001b[36mx\u001b[39m using \u001b[36m≈\u001b[39m, i.e. a function\n",
       "  equivalent to \u001b[36my -> y ≈ x\u001b[39m.\n",
       "\n",
       "  The keyword arguments supported here are the same as those in the 2-argument\n",
       "  \u001b[36misapprox\u001b[39m.\n",
       "\n",
       "\u001b[39m\u001b[1m  │ \u001b[22m\u001b[39m\u001b[1mJulia 1.5\u001b[22m\n",
       "\u001b[39m\u001b[1m  │\u001b[22m\n",
       "\u001b[39m\u001b[1m  │\u001b[22m  This method requires Julia 1.5 or later."
      ]
     },
     "execution_count": 13,
     "metadata": {},
     "output_type": "execute_result"
    }
   ],
   "source": [
    "?isapprox"
   ]
  },
  {
   "cell_type": "markdown",
   "metadata": {},
   "source": [
    "We can now benchmark the C code directly from Julia:"
   ]
  },
  {
   "cell_type": "code",
   "execution_count": 14,
   "metadata": {},
   "outputs": [
    {
     "data": {
      "text/plain": [
       "BenchmarkTools.Trial: 380 samples with 1 evaluation.\n",
       " Range \u001b[90m(\u001b[39m\u001b[36m\u001b[1mmin\u001b[22m\u001b[39m … \u001b[35mmax\u001b[39m\u001b[90m):  \u001b[39m\u001b[36m\u001b[1m10.653 ms\u001b[22m\u001b[39m … \u001b[35m23.372 ms\u001b[39m  \u001b[90m┊\u001b[39m GC \u001b[90m(\u001b[39mmin … max\u001b[90m): \u001b[39m0.00% … 0.00%\n",
       " Time  \u001b[90m(\u001b[39m\u001b[34m\u001b[1mmedian\u001b[22m\u001b[39m\u001b[90m):     \u001b[39m\u001b[34m\u001b[1m12.730 ms              \u001b[22m\u001b[39m\u001b[90m┊\u001b[39m GC \u001b[90m(\u001b[39mmedian\u001b[90m):    \u001b[39m0.00%\n",
       " Time  \u001b[90m(\u001b[39m\u001b[32m\u001b[1mmean\u001b[22m\u001b[39m ± \u001b[32mσ\u001b[39m\u001b[90m):   \u001b[39m\u001b[32m\u001b[1m13.156 ms\u001b[22m\u001b[39m ± \u001b[32m 2.053 ms\u001b[39m  \u001b[90m┊\u001b[39m GC \u001b[90m(\u001b[39mmean ± σ\u001b[90m):  \u001b[39m0.00% ± 0.00%\n",
       "\n",
       "  \u001b[39m \u001b[39m█\u001b[39m▄\u001b[39m▆\u001b[39m▃\u001b[39m▄\u001b[39m▅\u001b[39m▂\u001b[39m▇\u001b[39m▂\u001b[39m▂\u001b[39m▂\u001b[39m▂\u001b[39m▂\u001b[34m▄\u001b[39m\u001b[39m▂\u001b[39m▃\u001b[32m \u001b[39m\u001b[39m▄\u001b[39m \u001b[39m▃\u001b[39m \u001b[39m \u001b[39m \u001b[39m \u001b[39m \u001b[39m \u001b[39m▁\u001b[39m \u001b[39m \u001b[39m \u001b[39m \u001b[39m \u001b[39m \u001b[39m \u001b[39m \u001b[39m \u001b[39m \u001b[39m \u001b[39m \u001b[39m \u001b[39m \u001b[39m \u001b[39m \u001b[39m \u001b[39m \u001b[39m \u001b[39m \u001b[39m \u001b[39m \u001b[39m \u001b[39m \u001b[39m \u001b[39m \u001b[39m \u001b[39m \u001b[39m \u001b[39m \u001b[39m \u001b[39m \u001b[39m \n",
       "  \u001b[39m█\u001b[39m█\u001b[39m█\u001b[39m█\u001b[39m█\u001b[39m█\u001b[39m█\u001b[39m█\u001b[39m█\u001b[39m█\u001b[39m█\u001b[39m█\u001b[39m█\u001b[39m█\u001b[34m█\u001b[39m\u001b[39m█\u001b[39m█\u001b[32m█\u001b[39m\u001b[39m█\u001b[39m█\u001b[39m█\u001b[39m█\u001b[39m▇\u001b[39m▇\u001b[39m▃\u001b[39m▆\u001b[39m▃\u001b[39m█\u001b[39m▆\u001b[39m▆\u001b[39m▃\u001b[39m▆\u001b[39m▆\u001b[39m▄\u001b[39m▄\u001b[39m▃\u001b[39m▃\u001b[39m▇\u001b[39m▅\u001b[39m▃\u001b[39m▁\u001b[39m▆\u001b[39m▁\u001b[39m▁\u001b[39m▃\u001b[39m▁\u001b[39m▄\u001b[39m▃\u001b[39m▃\u001b[39m▃\u001b[39m▃\u001b[39m▃\u001b[39m▃\u001b[39m▁\u001b[39m▁\u001b[39m▃\u001b[39m▃\u001b[39m▁\u001b[39m▃\u001b[39m \u001b[39m▄\n",
       "  10.7 ms\u001b[90m         Histogram: frequency by time\u001b[39m        19.4 ms \u001b[0m\u001b[1m<\u001b[22m\n",
       "\n",
       " Memory estimate\u001b[90m: \u001b[39m\u001b[33m0 bytes\u001b[39m, allocs estimate\u001b[90m: \u001b[39m\u001b[33m0\u001b[39m."
      ]
     },
     "execution_count": 14,
     "metadata": {},
     "output_type": "execute_result"
    }
   ],
   "source": [
    "c_bench = @benchmark c_sum($a)"
   ]
  },
  {
   "cell_type": "code",
   "execution_count": 15,
   "metadata": {},
   "outputs": [
    {
     "name": "stdout",
     "output_type": "stream",
     "text": [
      "C: Fastest time was 10.652793 msec\n"
     ]
    }
   ],
   "source": [
    "println(\"C: Fastest time was $(minimum(c_bench.times) / 1e6) msec\")"
   ]
  },
  {
   "cell_type": "code",
   "execution_count": 16,
   "metadata": {
    "scrolled": true
   },
   "outputs": [
    {
     "data": {
      "text/plain": [
       "Dict{Any, Any} with 1 entry:\n",
       "  \"C\" => 10.6528"
      ]
     },
     "execution_count": 16,
     "metadata": {},
     "output_type": "execute_result"
    }
   ],
   "source": [
    "d = Dict()  # a \"dictionary\", i.e. an associative array\n",
    "d[\"C\"] = minimum(c_bench.times) / 1e6  # in milliseconds\n",
    "d"
   ]
  },
  {
   "cell_type": "code",
   "execution_count": 17,
   "metadata": {
    "scrolled": true
   },
   "outputs": [
    {
     "data": {
      "text/plain": [
       "Plots.GRBackend()"
      ]
     },
     "execution_count": 17,
     "metadata": {},
     "output_type": "execute_result"
    }
   ],
   "source": [
    "using Plots\n",
    "gr()"
   ]
  },
  {
   "cell_type": "code",
   "execution_count": 18,
   "metadata": {},
   "outputs": [
    {
     "data": {
      "image/svg+xml": "<?xml version=\"1.0\" encoding=\"utf-8\"?>\n<svg xmlns=\"http://www.w3.org/2000/svg\" xmlns:xlink=\"http://www.w3.org/1999/xlink\" width=\"600\" height=\"400\" viewBox=\"0 0 2400 1600\">\n<defs>\n  <clipPath id=\"clip670\">\n    <rect x=\"0\" y=\"0\" width=\"2400\" height=\"1600\"/>\n  </clipPath>\n</defs>\n<path clip-path=\"url(#clip670)\" d=\"\nM0 1600 L2400 1600 L2400 0 L0 0  Z\n  \" fill=\"#ffffff\" fill-rule=\"evenodd\" fill-opacity=\"1\"/>\n<defs>\n  <clipPath id=\"clip671\">\n    <rect x=\"480\" y=\"0\" width=\"1681\" height=\"1600\"/>\n  </clipPath>\n</defs>\n<path clip-path=\"url(#clip670)\" d=\"\nM247.459 1423.18 L2352.76 1423.18 L2352.76 47.2441 L247.459 47.2441  Z\n  \" fill=\"#ffffff\" fill-rule=\"evenodd\" fill-opacity=\"1\"/>\n<defs>\n  <clipPath id=\"clip672\">\n    <rect x=\"247\" y=\"47\" width=\"2106\" height=\"1377\"/>\n  </clipPath>\n</defs>\n<polyline clip-path=\"url(#clip672)\" style=\"stroke:#000000; stroke-linecap:round; stroke-linejoin:round; stroke-width:2; stroke-opacity:0.1; fill:none\" points=\"\n  612.074,1423.18 612.074,47.2441 \n  \"/>\n<polyline clip-path=\"url(#clip672)\" style=\"stroke:#000000; stroke-linecap:round; stroke-linejoin:round; stroke-width:2; stroke-opacity:0.1; fill:none\" points=\"\n  1122.44,1423.18 1122.44,47.2441 \n  \"/>\n<polyline clip-path=\"url(#clip672)\" style=\"stroke:#000000; stroke-linecap:round; stroke-linejoin:round; stroke-width:2; stroke-opacity:0.1; fill:none\" points=\"\n  1632.81,1423.18 1632.81,47.2441 \n  \"/>\n<polyline clip-path=\"url(#clip672)\" style=\"stroke:#000000; stroke-linecap:round; stroke-linejoin:round; stroke-width:2; stroke-opacity:0.1; fill:none\" points=\"\n  2143.18,1423.18 2143.18,47.2441 \n  \"/>\n<polyline clip-path=\"url(#clip670)\" style=\"stroke:#000000; stroke-linecap:round; stroke-linejoin:round; stroke-width:4; stroke-opacity:1; fill:none\" points=\"\n  247.459,1423.18 2352.76,1423.18 \n  \"/>\n<polyline clip-path=\"url(#clip670)\" style=\"stroke:#000000; stroke-linecap:round; stroke-linejoin:round; stroke-width:4; stroke-opacity:1; fill:none\" points=\"\n  612.074,1423.18 612.074,1404.28 \n  \"/>\n<polyline clip-path=\"url(#clip670)\" style=\"stroke:#000000; stroke-linecap:round; stroke-linejoin:round; stroke-width:4; stroke-opacity:1; fill:none\" points=\"\n  1122.44,1423.18 1122.44,1404.28 \n  \"/>\n<polyline clip-path=\"url(#clip670)\" style=\"stroke:#000000; stroke-linecap:round; stroke-linejoin:round; stroke-width:4; stroke-opacity:1; fill:none\" points=\"\n  1632.81,1423.18 1632.81,1404.28 \n  \"/>\n<polyline clip-path=\"url(#clip670)\" style=\"stroke:#000000; stroke-linecap:round; stroke-linejoin:round; stroke-width:4; stroke-opacity:1; fill:none\" points=\"\n  2143.18,1423.18 2143.18,1404.28 \n  \"/>\n<path clip-path=\"url(#clip670)\" d=\"M564.146 1481.64 L571.785 1481.64 L571.785 1455.28 L563.475 1456.95 L563.475 1452.69 L571.739 1451.02 L576.415 1451.02 L576.415 1481.64 L584.054 1481.64 L584.054 1485.58 L564.146 1485.58 L564.146 1481.64 Z\" fill=\"#000000\" fill-rule=\"evenodd\" fill-opacity=\"1\" /><path clip-path=\"url(#clip670)\" d=\"M594.308 1481.64 L601.947 1481.64 L601.947 1455.28 L593.637 1456.95 L593.637 1452.69 L601.901 1451.02 L606.577 1451.02 L606.577 1481.64 L614.215 1481.64 L614.215 1485.58 L594.308 1485.58 L594.308 1481.64 Z\" fill=\"#000000\" fill-rule=\"evenodd\" fill-opacity=\"1\" /><path clip-path=\"url(#clip670)\" d=\"M623.66 1479.7 L628.544 1479.7 L628.544 1485.58 L623.66 1485.58 L623.66 1479.7 Z\" fill=\"#000000\" fill-rule=\"evenodd\" fill-opacity=\"1\" /><path clip-path=\"url(#clip670)\" d=\"M648.729 1454.1 Q645.118 1454.1 643.289 1457.66 Q641.484 1461.2 641.484 1468.33 Q641.484 1475.44 643.289 1479.01 Q645.118 1482.55 648.729 1482.55 Q652.363 1482.55 654.169 1479.01 Q655.998 1475.44 655.998 1468.33 Q655.998 1461.2 654.169 1457.66 Q652.363 1454.1 648.729 1454.1 M648.729 1450.39 Q654.539 1450.39 657.595 1455 Q660.674 1459.58 660.674 1468.33 Q660.674 1477.06 657.595 1481.67 Q654.539 1486.25 648.729 1486.25 Q642.919 1486.25 639.84 1481.67 Q636.785 1477.06 636.785 1468.33 Q636.785 1459.58 639.84 1455 Q642.919 1450.39 648.729 1450.39 Z\" fill=\"#000000\" fill-rule=\"evenodd\" fill-opacity=\"1\" /><path clip-path=\"url(#clip670)\" d=\"M1075.01 1481.64 L1082.65 1481.64 L1082.65 1455.28 L1074.34 1456.95 L1074.34 1452.69 L1082.61 1451.02 L1087.28 1451.02 L1087.28 1481.64 L1094.92 1481.64 L1094.92 1485.58 L1075.01 1485.58 L1075.01 1481.64 Z\" fill=\"#000000\" fill-rule=\"evenodd\" fill-opacity=\"1\" /><path clip-path=\"url(#clip670)\" d=\"M1105.18 1481.64 L1112.81 1481.64 L1112.81 1455.28 L1104.5 1456.95 L1104.5 1452.69 L1112.77 1451.02 L1117.44 1451.02 L1117.44 1481.64 L1125.08 1481.64 L1125.08 1485.58 L1105.18 1485.58 L1105.18 1481.64 Z\" fill=\"#000000\" fill-rule=\"evenodd\" fill-opacity=\"1\" /><path clip-path=\"url(#clip670)\" d=\"M1134.53 1479.7 L1139.41 1479.7 L1139.41 1485.58 L1134.53 1485.58 L1134.53 1479.7 Z\" fill=\"#000000\" fill-rule=\"evenodd\" fill-opacity=\"1\" /><path clip-path=\"url(#clip670)\" d=\"M1149.64 1451.02 L1168 1451.02 L1168 1454.96 L1153.93 1454.96 L1153.93 1463.43 Q1154.94 1463.08 1155.96 1462.92 Q1156.98 1462.73 1158 1462.73 Q1163.79 1462.73 1167.17 1465.9 Q1170.55 1469.08 1170.55 1474.49 Q1170.55 1480.07 1167.07 1483.17 Q1163.6 1486.25 1157.28 1486.25 Q1155.11 1486.25 1152.84 1485.88 Q1150.59 1485.51 1148.19 1484.77 L1148.19 1480.07 Q1150.27 1481.2 1152.49 1481.76 Q1154.71 1482.32 1157.19 1482.32 Q1161.19 1482.32 1163.53 1480.21 Q1165.87 1478.1 1165.87 1474.49 Q1165.87 1470.88 1163.53 1468.77 Q1161.19 1466.67 1157.19 1466.67 Q1155.31 1466.67 1153.44 1467.08 Q1151.59 1467.5 1149.64 1468.38 L1149.64 1451.02 Z\" fill=\"#000000\" fill-rule=\"evenodd\" fill-opacity=\"1\" /><path clip-path=\"url(#clip670)\" d=\"M1584.89 1481.64 L1592.53 1481.64 L1592.53 1455.28 L1584.22 1456.95 L1584.22 1452.69 L1592.48 1451.02 L1597.16 1451.02 L1597.16 1481.64 L1604.79 1481.64 L1604.79 1485.58 L1584.89 1485.58 L1584.89 1481.64 Z\" fill=\"#000000\" fill-rule=\"evenodd\" fill-opacity=\"1\" /><path clip-path=\"url(#clip670)\" d=\"M1618.27 1481.64 L1634.59 1481.64 L1634.59 1485.58 L1612.64 1485.58 L1612.64 1481.64 Q1615.3 1478.89 1619.89 1474.26 Q1624.49 1469.61 1625.67 1468.27 Q1627.92 1465.74 1628.8 1464.01 Q1629.7 1462.25 1629.7 1460.56 Q1629.7 1457.8 1627.76 1456.07 Q1625.84 1454.33 1622.73 1454.33 Q1620.53 1454.33 1618.08 1455.09 Q1615.65 1455.86 1612.87 1457.41 L1612.87 1452.69 Q1615.7 1451.55 1618.15 1450.97 Q1620.6 1450.39 1622.64 1450.39 Q1628.01 1450.39 1631.21 1453.08 Q1634.4 1455.77 1634.4 1460.26 Q1634.4 1462.39 1633.59 1464.31 Q1632.8 1466.2 1630.7 1468.8 Q1630.12 1469.47 1627.02 1472.69 Q1623.91 1475.88 1618.27 1481.64 Z\" fill=\"#000000\" fill-rule=\"evenodd\" fill-opacity=\"1\" /><path clip-path=\"url(#clip670)\" d=\"M1644.4 1479.7 L1649.28 1479.7 L1649.28 1485.58 L1644.4 1485.58 L1644.4 1479.7 Z\" fill=\"#000000\" fill-rule=\"evenodd\" fill-opacity=\"1\" /><path clip-path=\"url(#clip670)\" d=\"M1669.47 1454.1 Q1665.86 1454.1 1664.03 1457.66 Q1662.22 1461.2 1662.22 1468.33 Q1662.22 1475.44 1664.03 1479.01 Q1665.86 1482.55 1669.47 1482.55 Q1673.1 1482.55 1674.91 1479.01 Q1676.74 1475.44 1676.74 1468.33 Q1676.74 1461.2 1674.91 1457.66 Q1673.1 1454.1 1669.47 1454.1 M1669.47 1450.39 Q1675.28 1450.39 1678.34 1455 Q1681.41 1459.58 1681.41 1468.33 Q1681.41 1477.06 1678.34 1481.67 Q1675.28 1486.25 1669.47 1486.25 Q1663.66 1486.25 1660.58 1481.67 Q1657.53 1477.06 1657.53 1468.33 Q1657.53 1459.58 1660.58 1455 Q1663.66 1450.39 1669.47 1450.39 Z\" fill=\"#000000\" fill-rule=\"evenodd\" fill-opacity=\"1\" /><path clip-path=\"url(#clip670)\" d=\"M2095.75 1481.64 L2103.39 1481.64 L2103.39 1455.28 L2095.08 1456.95 L2095.08 1452.69 L2103.35 1451.02 L2108.02 1451.02 L2108.02 1481.64 L2115.66 1481.64 L2115.66 1485.58 L2095.75 1485.58 L2095.75 1481.64 Z\" fill=\"#000000\" fill-rule=\"evenodd\" fill-opacity=\"1\" /><path clip-path=\"url(#clip670)\" d=\"M2129.13 1481.64 L2145.45 1481.64 L2145.45 1485.58 L2123.51 1485.58 L2123.51 1481.64 Q2126.17 1478.89 2130.75 1474.26 Q2135.36 1469.61 2136.54 1468.27 Q2138.79 1465.74 2139.67 1464.01 Q2140.57 1462.25 2140.57 1460.56 Q2140.57 1457.8 2138.62 1456.07 Q2136.7 1454.33 2133.6 1454.33 Q2131.4 1454.33 2128.95 1455.09 Q2126.52 1455.86 2123.74 1457.41 L2123.74 1452.69 Q2126.56 1451.55 2129.02 1450.97 Q2131.47 1450.39 2133.51 1450.39 Q2138.88 1450.39 2142.07 1453.08 Q2145.27 1455.77 2145.27 1460.26 Q2145.27 1462.39 2144.46 1464.31 Q2143.67 1466.2 2141.56 1468.8 Q2140.99 1469.47 2137.88 1472.69 Q2134.78 1475.88 2129.13 1481.64 Z\" fill=\"#000000\" fill-rule=\"evenodd\" fill-opacity=\"1\" /><path clip-path=\"url(#clip670)\" d=\"M2155.27 1479.7 L2160.15 1479.7 L2160.15 1485.58 L2155.27 1485.58 L2155.27 1479.7 Z\" fill=\"#000000\" fill-rule=\"evenodd\" fill-opacity=\"1\" /><path clip-path=\"url(#clip670)\" d=\"M2170.38 1451.02 L2188.74 1451.02 L2188.74 1454.96 L2174.67 1454.96 L2174.67 1463.43 Q2175.68 1463.08 2176.7 1462.92 Q2177.72 1462.73 2178.74 1462.73 Q2184.53 1462.73 2187.91 1465.9 Q2191.29 1469.08 2191.29 1474.49 Q2191.29 1480.07 2187.81 1483.17 Q2184.34 1486.25 2178.02 1486.25 Q2175.85 1486.25 2173.58 1485.88 Q2171.33 1485.51 2168.93 1484.77 L2168.93 1480.07 Q2171.01 1481.2 2173.23 1481.76 Q2175.45 1482.32 2177.93 1482.32 Q2181.93 1482.32 2184.27 1480.21 Q2186.61 1478.1 2186.61 1474.49 Q2186.61 1470.88 2184.27 1468.77 Q2181.93 1466.67 2177.93 1466.67 Q2176.05 1466.67 2174.18 1467.08 Q2172.33 1467.5 2170.38 1468.38 L2170.38 1451.02 Z\" fill=\"#000000\" fill-rule=\"evenodd\" fill-opacity=\"1\" /><path clip-path=\"url(#clip670)\" d=\"M1131.45 1539.24 Q1133.64 1535.29 1136.7 1533.41 Q1139.76 1531.54 1143.89 1531.54 Q1149.46 1531.54 1152.49 1535.45 Q1155.51 1539.33 1155.51 1546.53 L1155.51 1568.04 L1149.62 1568.04 L1149.62 1546.72 Q1149.62 1541.59 1147.81 1539.11 Q1145.99 1536.63 1142.27 1536.63 Q1137.72 1536.63 1135.08 1539.65 Q1132.43 1542.68 1132.43 1547.9 L1132.43 1568.04 L1126.55 1568.04 L1126.55 1546.72 Q1126.55 1541.56 1124.73 1539.11 Q1122.92 1536.63 1119.13 1536.63 Q1114.64 1536.63 1112 1539.68 Q1109.36 1542.71 1109.36 1547.9 L1109.36 1568.04 L1103.47 1568.04 L1103.47 1532.4 L1109.36 1532.4 L1109.36 1537.93 Q1111.36 1534.66 1114.17 1533.1 Q1116.97 1531.54 1120.82 1531.54 Q1124.7 1531.54 1127.41 1533.51 Q1130.14 1535.48 1131.45 1539.24 Z\" fill=\"#000000\" fill-rule=\"evenodd\" fill-opacity=\"1\" /><path clip-path=\"url(#clip670)\" d=\"M1167.19 1532.4 L1173.05 1532.4 L1173.05 1568.04 L1167.19 1568.04 L1167.19 1532.4 M1167.19 1518.52 L1173.05 1518.52 L1173.05 1525.93 L1167.19 1525.93 L1167.19 1518.52 Z\" fill=\"#000000\" fill-rule=\"evenodd\" fill-opacity=\"1\" /><path clip-path=\"url(#clip670)\" d=\"M1185.3 1518.52 L1191.16 1518.52 L1191.16 1568.04 L1185.3 1568.04 L1185.3 1518.52 Z\" fill=\"#000000\" fill-rule=\"evenodd\" fill-opacity=\"1\" /><path clip-path=\"url(#clip670)\" d=\"M1203.41 1518.52 L1209.27 1518.52 L1209.27 1568.04 L1203.41 1568.04 L1203.41 1518.52 Z\" fill=\"#000000\" fill-rule=\"evenodd\" fill-opacity=\"1\" /><path clip-path=\"url(#clip670)\" d=\"M1221.52 1532.4 L1227.38 1532.4 L1227.38 1568.04 L1221.52 1568.04 L1221.52 1532.4 M1221.52 1518.52 L1227.38 1518.52 L1227.38 1525.93 L1221.52 1525.93 L1221.52 1518.52 Z\" fill=\"#000000\" fill-rule=\"evenodd\" fill-opacity=\"1\" /><path clip-path=\"url(#clip670)\" d=\"M1262.36 1533.45 L1262.36 1538.98 Q1259.88 1537.71 1257.2 1537.07 Q1254.53 1536.44 1251.66 1536.44 Q1247.3 1536.44 1245.11 1537.77 Q1242.94 1539.11 1242.94 1541.79 Q1242.94 1543.82 1244.5 1545 Q1246.06 1546.15 1250.77 1547.2 L1252.78 1547.64 Q1259.02 1548.98 1261.63 1551.43 Q1264.27 1553.85 1264.27 1558.21 Q1264.27 1563.17 1260.32 1566.07 Q1256.41 1568.97 1249.53 1568.97 Q1246.67 1568.97 1243.55 1568.39 Q1240.46 1567.85 1237.02 1566.74 L1237.02 1560.69 Q1240.27 1562.38 1243.42 1563.24 Q1246.57 1564.07 1249.66 1564.07 Q1253.8 1564.07 1256.02 1562.66 Q1258.25 1561.23 1258.25 1558.65 Q1258.25 1556.27 1256.63 1554.99 Q1255.04 1553.72 1249.6 1552.54 L1247.56 1552.07 Q1242.12 1550.92 1239.7 1548.56 Q1237.28 1546.18 1237.28 1542.04 Q1237.28 1537.01 1240.84 1534.27 Q1244.41 1531.54 1250.96 1531.54 Q1254.21 1531.54 1257.08 1532.01 Q1259.94 1532.49 1262.36 1533.45 Z\" fill=\"#000000\" fill-rule=\"evenodd\" fill-opacity=\"1\" /><path clip-path=\"url(#clip670)\" d=\"M1304.09 1548.76 L1304.09 1551.62 L1277.16 1551.62 Q1277.54 1557.67 1280.79 1560.85 Q1284.07 1564 1289.89 1564 Q1293.26 1564 1296.42 1563.17 Q1299.6 1562.35 1302.72 1560.69 L1302.72 1566.23 Q1299.57 1567.57 1296.26 1568.27 Q1292.95 1568.97 1289.54 1568.97 Q1281.01 1568.97 1276.01 1564 Q1271.05 1559.04 1271.05 1550.57 Q1271.05 1541.82 1275.76 1536.69 Q1280.5 1531.54 1288.52 1531.54 Q1295.71 1531.54 1299.88 1536.18 Q1304.09 1540.8 1304.09 1548.76 M1298.23 1547.04 Q1298.17 1542.23 1295.52 1539.37 Q1292.91 1536.5 1288.59 1536.5 Q1283.68 1536.5 1280.72 1539.27 Q1277.8 1542.04 1277.35 1547.07 L1298.23 1547.04 Z\" fill=\"#000000\" fill-rule=\"evenodd\" fill-opacity=\"1\" /><path clip-path=\"url(#clip670)\" d=\"M1339.35 1533.76 L1339.35 1539.24 Q1336.87 1537.87 1334.35 1537.2 Q1331.87 1536.5 1329.33 1536.5 Q1323.63 1536.5 1320.48 1540.13 Q1317.33 1543.73 1317.33 1550.25 Q1317.33 1556.78 1320.48 1560.4 Q1323.63 1564 1329.33 1564 Q1331.87 1564 1334.35 1563.33 Q1336.87 1562.63 1339.35 1561.26 L1339.35 1566.68 Q1336.9 1567.82 1334.26 1568.39 Q1331.65 1568.97 1328.69 1568.97 Q1320.64 1568.97 1315.89 1563.91 Q1311.15 1558.85 1311.15 1550.25 Q1311.15 1541.53 1315.93 1536.53 Q1320.73 1531.54 1329.07 1531.54 Q1331.78 1531.54 1334.35 1532.11 Q1336.93 1532.65 1339.35 1533.76 Z\" fill=\"#000000\" fill-rule=\"evenodd\" fill-opacity=\"1\" /><path clip-path=\"url(#clip670)\" d=\"M1363.35 1536.5 Q1358.64 1536.5 1355.9 1540.19 Q1353.17 1543.85 1353.17 1550.25 Q1353.17 1556.65 1355.87 1560.34 Q1358.61 1564 1363.35 1564 Q1368.03 1564 1370.77 1560.31 Q1373.5 1556.62 1373.5 1550.25 Q1373.5 1543.92 1370.77 1540.23 Q1368.03 1536.5 1363.35 1536.5 M1363.35 1531.54 Q1370.99 1531.54 1375.35 1536.5 Q1379.71 1541.47 1379.71 1550.25 Q1379.71 1559 1375.35 1564 Q1370.99 1568.97 1363.35 1568.97 Q1355.68 1568.97 1351.32 1564 Q1346.99 1559 1346.99 1550.25 Q1346.99 1541.47 1351.32 1536.5 Q1355.68 1531.54 1363.35 1531.54 Z\" fill=\"#000000\" fill-rule=\"evenodd\" fill-opacity=\"1\" /><path clip-path=\"url(#clip670)\" d=\"M1419.05 1546.53 L1419.05 1568.04 L1413.19 1568.04 L1413.19 1546.72 Q1413.19 1541.66 1411.22 1539.14 Q1409.25 1536.63 1405.3 1536.63 Q1400.56 1536.63 1397.82 1539.65 Q1395.08 1542.68 1395.08 1547.9 L1395.08 1568.04 L1389.2 1568.04 L1389.2 1532.4 L1395.08 1532.4 L1395.08 1537.93 Q1397.18 1534.72 1400.02 1533.13 Q1402.88 1531.54 1406.61 1531.54 Q1412.75 1531.54 1415.9 1535.36 Q1419.05 1539.14 1419.05 1546.53 Z\" fill=\"#000000\" fill-rule=\"evenodd\" fill-opacity=\"1\" /><path clip-path=\"url(#clip670)\" d=\"M1454.19 1537.81 L1454.19 1518.52 L1460.05 1518.52 L1460.05 1568.04 L1454.19 1568.04 L1454.19 1562.7 Q1452.34 1565.88 1449.51 1567.44 Q1446.71 1568.97 1442.76 1568.97 Q1436.3 1568.97 1432.23 1563.81 Q1428.19 1558.65 1428.19 1550.25 Q1428.19 1541.85 1432.23 1536.69 Q1436.3 1531.54 1442.76 1531.54 Q1446.71 1531.54 1449.51 1533.1 Q1452.34 1534.62 1454.19 1537.81 M1434.23 1550.25 Q1434.23 1556.71 1436.87 1560.4 Q1439.55 1564.07 1444.2 1564.07 Q1448.84 1564.07 1451.52 1560.4 Q1454.19 1556.71 1454.19 1550.25 Q1454.19 1543.79 1451.52 1540.13 Q1448.84 1536.44 1444.2 1536.44 Q1439.55 1536.44 1436.87 1540.13 Q1434.23 1543.79 1434.23 1550.25 Z\" fill=\"#000000\" fill-rule=\"evenodd\" fill-opacity=\"1\" /><path clip-path=\"url(#clip670)\" d=\"M1494.83 1533.45 L1494.83 1538.98 Q1492.35 1537.71 1489.68 1537.07 Q1487 1536.44 1484.14 1536.44 Q1479.78 1536.44 1477.58 1537.77 Q1475.42 1539.11 1475.42 1541.79 Q1475.42 1543.82 1476.98 1545 Q1478.54 1546.15 1483.25 1547.2 L1485.25 1547.64 Q1491.49 1548.98 1494.1 1551.43 Q1496.74 1553.85 1496.74 1558.21 Q1496.74 1563.17 1492.8 1566.07 Q1488.88 1568.97 1482.01 1568.97 Q1479.14 1568.97 1476.02 1568.39 Q1472.94 1567.85 1469.5 1566.74 L1469.5 1560.69 Q1472.75 1562.38 1475.9 1563.24 Q1479.05 1564.07 1482.13 1564.07 Q1486.27 1564.07 1488.5 1562.66 Q1490.73 1561.23 1490.73 1558.65 Q1490.73 1556.27 1489.11 1554.99 Q1487.51 1553.72 1482.07 1552.54 L1480.03 1552.07 Q1474.59 1550.92 1472.17 1548.56 Q1469.75 1546.18 1469.75 1542.04 Q1469.75 1537.01 1473.32 1534.27 Q1476.88 1531.54 1483.44 1531.54 Q1486.69 1531.54 1489.55 1532.01 Q1492.42 1532.49 1494.83 1533.45 Z\" fill=\"#000000\" fill-rule=\"evenodd\" fill-opacity=\"1\" /><polyline clip-path=\"url(#clip672)\" style=\"stroke:#000000; stroke-linecap:round; stroke-linejoin:round; stroke-width:2; stroke-opacity:0.1; fill:none\" points=\"\n  247.459,1384.24 2352.76,1384.24 \n  \"/>\n<polyline clip-path=\"url(#clip672)\" style=\"stroke:#000000; stroke-linecap:round; stroke-linejoin:round; stroke-width:2; stroke-opacity:0.1; fill:none\" points=\"\n  247.459,1059.73 2352.76,1059.73 \n  \"/>\n<polyline clip-path=\"url(#clip672)\" style=\"stroke:#000000; stroke-linecap:round; stroke-linejoin:round; stroke-width:2; stroke-opacity:0.1; fill:none\" points=\"\n  247.459,735.212 2352.76,735.212 \n  \"/>\n<polyline clip-path=\"url(#clip672)\" style=\"stroke:#000000; stroke-linecap:round; stroke-linejoin:round; stroke-width:2; stroke-opacity:0.1; fill:none\" points=\"\n  247.459,410.699 2352.76,410.699 \n  \"/>\n<polyline clip-path=\"url(#clip672)\" style=\"stroke:#000000; stroke-linecap:round; stroke-linejoin:round; stroke-width:2; stroke-opacity:0.1; fill:none\" points=\"\n  247.459,86.1857 2352.76,86.1857 \n  \"/>\n<polyline clip-path=\"url(#clip670)\" style=\"stroke:#000000; stroke-linecap:round; stroke-linejoin:round; stroke-width:4; stroke-opacity:1; fill:none\" points=\"\n  247.459,1423.18 247.459,47.2441 \n  \"/>\n<polyline clip-path=\"url(#clip670)\" style=\"stroke:#000000; stroke-linecap:round; stroke-linejoin:round; stroke-width:4; stroke-opacity:1; fill:none\" points=\"\n  247.459,1384.24 266.356,1384.24 \n  \"/>\n<polyline clip-path=\"url(#clip670)\" style=\"stroke:#000000; stroke-linecap:round; stroke-linejoin:round; stroke-width:4; stroke-opacity:1; fill:none\" points=\"\n  247.459,1059.73 266.356,1059.73 \n  \"/>\n<polyline clip-path=\"url(#clip670)\" style=\"stroke:#000000; stroke-linecap:round; stroke-linejoin:round; stroke-width:4; stroke-opacity:1; fill:none\" points=\"\n  247.459,735.212 266.356,735.212 \n  \"/>\n<polyline clip-path=\"url(#clip670)\" style=\"stroke:#000000; stroke-linecap:round; stroke-linejoin:round; stroke-width:4; stroke-opacity:1; fill:none\" points=\"\n  247.459,410.699 266.356,410.699 \n  \"/>\n<polyline clip-path=\"url(#clip670)\" style=\"stroke:#000000; stroke-linecap:round; stroke-linejoin:round; stroke-width:4; stroke-opacity:1; fill:none\" points=\"\n  247.459,86.1857 266.356,86.1857 \n  \"/>\n<path clip-path=\"url(#clip670)\" d=\"M154.283 1370.04 Q150.672 1370.04 148.843 1373.6 Q147.038 1377.14 147.038 1384.27 Q147.038 1391.38 148.843 1394.94 Q150.672 1398.49 154.283 1398.49 Q157.917 1398.49 159.723 1394.94 Q161.552 1391.38 161.552 1384.27 Q161.552 1377.14 159.723 1373.6 Q157.917 1370.04 154.283 1370.04 M154.283 1366.33 Q160.093 1366.33 163.149 1370.94 Q166.227 1375.52 166.227 1384.27 Q166.227 1393 163.149 1397.61 Q160.093 1402.19 154.283 1402.19 Q148.473 1402.19 145.394 1397.61 Q142.339 1393 142.339 1384.27 Q142.339 1375.52 145.394 1370.94 Q148.473 1366.33 154.283 1366.33 Z\" fill=\"#000000\" fill-rule=\"evenodd\" fill-opacity=\"1\" /><path clip-path=\"url(#clip670)\" d=\"M174.445 1395.64 L179.329 1395.64 L179.329 1401.52 L174.445 1401.52 L174.445 1395.64 Z\" fill=\"#000000\" fill-rule=\"evenodd\" fill-opacity=\"1\" /><path clip-path=\"url(#clip670)\" d=\"M199.514 1370.04 Q195.903 1370.04 194.075 1373.6 Q192.269 1377.14 192.269 1384.27 Q192.269 1391.38 194.075 1394.94 Q195.903 1398.49 199.514 1398.49 Q203.149 1398.49 204.954 1394.94 Q206.783 1391.38 206.783 1384.27 Q206.783 1377.14 204.954 1373.6 Q203.149 1370.04 199.514 1370.04 M199.514 1366.33 Q205.324 1366.33 208.38 1370.94 Q211.459 1375.52 211.459 1384.27 Q211.459 1393 208.38 1397.61 Q205.324 1402.19 199.514 1402.19 Q193.704 1402.19 190.625 1397.61 Q187.57 1393 187.57 1384.27 Q187.57 1375.52 190.625 1370.94 Q193.704 1366.33 199.514 1366.33 Z\" fill=\"#000000\" fill-rule=\"evenodd\" fill-opacity=\"1\" /><path clip-path=\"url(#clip670)\" d=\"M149.306 1073.07 L165.626 1073.07 L165.626 1077.01 L143.681 1077.01 L143.681 1073.07 Q146.343 1070.32 150.927 1065.69 Q155.533 1061.03 156.714 1059.69 Q158.959 1057.17 159.839 1055.43 Q160.741 1053.67 160.741 1051.98 Q160.741 1049.23 158.797 1047.49 Q156.876 1045.76 153.774 1045.76 Q151.575 1045.76 149.121 1046.52 Q146.691 1047.28 143.913 1048.83 L143.913 1044.11 Q146.737 1042.98 149.191 1042.4 Q151.644 1041.82 153.681 1041.82 Q159.052 1041.82 162.246 1044.51 Q165.44 1047.19 165.44 1051.68 Q165.44 1053.81 164.63 1055.73 Q163.843 1057.63 161.737 1060.22 Q161.158 1060.89 158.056 1064.11 Q154.954 1067.31 149.306 1073.07 Z\" fill=\"#000000\" fill-rule=\"evenodd\" fill-opacity=\"1\" /><path clip-path=\"url(#clip670)\" d=\"M175.44 1071.13 L180.325 1071.13 L180.325 1077.01 L175.44 1077.01 L175.44 1071.13 Z\" fill=\"#000000\" fill-rule=\"evenodd\" fill-opacity=\"1\" /><path clip-path=\"url(#clip670)\" d=\"M190.556 1042.45 L208.912 1042.45 L208.912 1046.38 L194.838 1046.38 L194.838 1054.85 Q195.857 1054.51 196.875 1054.34 Q197.894 1054.16 198.912 1054.16 Q204.699 1054.16 208.079 1057.33 Q211.459 1060.5 211.459 1065.92 Q211.459 1071.5 207.987 1074.6 Q204.514 1077.68 198.195 1077.68 Q196.019 1077.68 193.75 1077.31 Q191.505 1076.94 189.098 1076.19 L189.098 1071.5 Q191.181 1072.63 193.403 1073.19 Q195.625 1073.74 198.102 1073.74 Q202.107 1073.74 204.445 1071.63 Q206.783 1069.53 206.783 1065.92 Q206.783 1062.31 204.445 1060.2 Q202.107 1058.09 198.102 1058.09 Q196.227 1058.09 194.352 1058.51 Q192.5 1058.93 190.556 1059.81 L190.556 1042.45 Z\" fill=\"#000000\" fill-rule=\"evenodd\" fill-opacity=\"1\" /><path clip-path=\"url(#clip670)\" d=\"M144.329 717.932 L162.686 717.932 L162.686 721.867 L148.612 721.867 L148.612 730.339 Q149.63 729.992 150.649 729.83 Q151.667 729.645 152.686 729.645 Q158.473 729.645 161.852 732.816 Q165.232 735.987 165.232 741.404 Q165.232 746.983 161.76 750.085 Q158.288 753.163 151.968 753.163 Q149.792 753.163 147.524 752.793 Q145.279 752.423 142.871 751.682 L142.871 746.983 Q144.954 748.117 147.177 748.673 Q149.399 749.228 151.876 749.228 Q155.88 749.228 158.218 747.122 Q160.556 745.015 160.556 741.404 Q160.556 737.793 158.218 735.687 Q155.88 733.58 151.876 733.58 Q150.001 733.58 148.126 733.997 Q146.274 734.413 144.329 735.293 L144.329 717.932 Z\" fill=\"#000000\" fill-rule=\"evenodd\" fill-opacity=\"1\" /><path clip-path=\"url(#clip670)\" d=\"M174.445 746.612 L179.329 746.612 L179.329 752.492 L174.445 752.492 L174.445 746.612 Z\" fill=\"#000000\" fill-rule=\"evenodd\" fill-opacity=\"1\" /><path clip-path=\"url(#clip670)\" d=\"M199.514 721.011 Q195.903 721.011 194.075 724.575 Q192.269 728.117 192.269 735.247 Q192.269 742.353 194.075 745.918 Q195.903 749.46 199.514 749.46 Q203.149 749.46 204.954 745.918 Q206.783 742.353 206.783 735.247 Q206.783 728.117 204.954 724.575 Q203.149 721.011 199.514 721.011 M199.514 717.307 Q205.324 717.307 208.38 721.913 Q211.459 726.497 211.459 735.247 Q211.459 743.973 208.38 748.58 Q205.324 753.163 199.514 753.163 Q193.704 753.163 190.625 748.58 Q187.57 743.973 187.57 735.247 Q187.57 726.497 190.625 721.913 Q193.704 717.307 199.514 717.307 Z\" fill=\"#000000\" fill-rule=\"evenodd\" fill-opacity=\"1\" /><path clip-path=\"url(#clip670)\" d=\"M144.098 393.419 L166.32 393.419 L166.32 395.41 L153.774 427.979 L148.89 427.979 L160.695 397.354 L144.098 397.354 L144.098 393.419 Z\" fill=\"#000000\" fill-rule=\"evenodd\" fill-opacity=\"1\" /><path clip-path=\"url(#clip670)\" d=\"M175.44 422.099 L180.325 422.099 L180.325 427.979 L175.44 427.979 L175.44 422.099 Z\" fill=\"#000000\" fill-rule=\"evenodd\" fill-opacity=\"1\" /><path clip-path=\"url(#clip670)\" d=\"M190.556 393.419 L208.912 393.419 L208.912 397.354 L194.838 397.354 L194.838 405.826 Q195.857 405.479 196.875 405.317 Q197.894 405.132 198.912 405.132 Q204.699 405.132 208.079 408.303 Q211.459 411.474 211.459 416.891 Q211.459 422.47 207.987 425.571 Q204.514 428.65 198.195 428.65 Q196.019 428.65 193.75 428.28 Q191.505 427.909 189.098 427.169 L189.098 422.47 Q191.181 423.604 193.403 424.159 Q195.625 424.715 198.102 424.715 Q202.107 424.715 204.445 422.608 Q206.783 420.502 206.783 416.891 Q206.783 413.28 204.445 411.173 Q202.107 409.067 198.102 409.067 Q196.227 409.067 194.352 409.484 Q192.5 409.9 190.556 410.78 L190.556 393.419 Z\" fill=\"#000000\" fill-rule=\"evenodd\" fill-opacity=\"1\" /><path clip-path=\"url(#clip670)\" d=\"M114.931 99.5305 L122.57 99.5305 L122.57 73.1649 L114.26 74.8316 L114.26 70.5723 L122.524 68.9057 L127.2 68.9057 L127.2 99.5305 L134.839 99.5305 L134.839 103.466 L114.931 103.466 L114.931 99.5305 Z\" fill=\"#000000\" fill-rule=\"evenodd\" fill-opacity=\"1\" /><path clip-path=\"url(#clip670)\" d=\"M154.283 71.9844 Q150.672 71.9844 148.843 75.5492 Q147.038 79.0908 147.038 86.2204 Q147.038 93.3268 148.843 96.8916 Q150.672 100.433 154.283 100.433 Q157.917 100.433 159.723 96.8916 Q161.552 93.3268 161.552 86.2204 Q161.552 79.0908 159.723 75.5492 Q157.917 71.9844 154.283 71.9844 M154.283 68.2807 Q160.093 68.2807 163.149 72.8871 Q166.227 77.4704 166.227 86.2204 Q166.227 94.9472 163.149 99.5537 Q160.093 104.137 154.283 104.137 Q148.473 104.137 145.394 99.5537 Q142.339 94.9472 142.339 86.2204 Q142.339 77.4704 145.394 72.8871 Q148.473 68.2807 154.283 68.2807 Z\" fill=\"#000000\" fill-rule=\"evenodd\" fill-opacity=\"1\" /><path clip-path=\"url(#clip670)\" d=\"M174.445 97.5861 L179.329 97.5861 L179.329 103.466 L174.445 103.466 L174.445 97.5861 Z\" fill=\"#000000\" fill-rule=\"evenodd\" fill-opacity=\"1\" /><path clip-path=\"url(#clip670)\" d=\"M199.514 71.9844 Q195.903 71.9844 194.075 75.5492 Q192.269 79.0908 192.269 86.2204 Q192.269 93.3268 194.075 96.8916 Q195.903 100.433 199.514 100.433 Q203.149 100.433 204.954 96.8916 Q206.783 93.3268 206.783 86.2204 Q206.783 79.0908 204.954 75.5492 Q203.149 71.9844 199.514 71.9844 M199.514 68.2807 Q205.324 68.2807 208.38 72.8871 Q211.459 77.4704 211.459 86.2204 Q211.459 94.9472 208.38 99.5537 Q205.324 104.137 199.514 104.137 Q193.704 104.137 190.625 99.5537 Q187.57 94.9472 187.57 86.2204 Q187.57 77.4704 190.625 72.8871 Q193.704 68.2807 199.514 68.2807 Z\" fill=\"#000000\" fill-rule=\"evenodd\" fill-opacity=\"1\" /><path clip-path=\"url(#clip670)\" d=\"M29.7248 796.386 L35.1993 796.386 Q33.8307 798.869 33.1623 801.383 Q32.4621 803.866 32.4621 806.412 Q32.4621 812.11 36.0905 815.261 Q39.6872 818.412 46.212 818.412 Q52.7369 818.412 56.3653 815.261 Q59.9619 812.11 59.9619 806.412 Q59.9619 803.866 59.2935 801.383 Q58.5933 798.869 57.2247 796.386 L62.6355 796.386 Q63.7814 798.837 64.3543 801.479 Q64.9272 804.089 64.9272 807.049 Q64.9272 815.102 59.8664 819.844 Q54.8057 824.586 46.212 824.586 Q37.491 824.586 32.4939 819.812 Q27.4968 815.006 27.4968 806.667 Q27.4968 803.962 28.0697 801.383 Q28.6108 798.805 29.7248 796.386 Z\" fill=\"#000000\" fill-rule=\"evenodd\" fill-opacity=\"1\" /><path clip-path=\"url(#clip670)\" d=\"M32.4621 772.388 Q32.4621 777.098 36.1542 779.836 Q39.8145 782.573 46.212 782.573 Q52.6095 782.573 56.3017 779.867 Q59.9619 777.13 59.9619 772.388 Q59.9619 767.709 56.2698 764.972 Q52.5777 762.234 46.212 762.234 Q39.8781 762.234 36.186 764.972 Q32.4621 767.709 32.4621 772.388 M27.4968 772.388 Q27.4968 764.749 32.4621 760.388 Q37.4273 756.028 46.212 756.028 Q54.9649 756.028 59.9619 760.388 Q64.9272 764.749 64.9272 772.388 Q64.9272 780.058 59.9619 784.419 Q54.9649 788.748 46.212 788.748 Q37.4273 788.748 32.4621 784.419 Q27.4968 780.058 27.4968 772.388 Z\" fill=\"#000000\" fill-rule=\"evenodd\" fill-opacity=\"1\" /><path clip-path=\"url(#clip670)\" d=\"M49.9359 746.925 L28.3562 746.925 L28.3562 741.068 L49.7131 741.068 Q54.7739 741.068 57.3202 739.095 Q59.8346 737.122 59.8346 733.175 Q59.8346 728.432 56.8109 725.695 Q53.7872 722.926 48.5673 722.926 L28.3562 722.926 L28.3562 717.07 L64.0042 717.07 L64.0042 722.926 L58.5296 722.926 Q61.7762 725.059 63.3676 727.891 Q64.9272 730.692 64.9272 734.416 Q64.9272 740.559 61.1078 743.742 Q57.2883 746.925 49.9359 746.925 M27.4968 732.188 L27.4968 732.188 Z\" fill=\"#000000\" fill-rule=\"evenodd\" fill-opacity=\"1\" /><path clip-path=\"url(#clip670)\" d=\"M42.4881 675.374 L64.0042 675.374 L64.0042 681.231 L42.679 681.231 Q37.6183 681.231 35.1038 683.204 Q32.5894 685.178 32.5894 689.124 Q32.5894 693.867 35.6131 696.604 Q38.6368 699.341 43.8567 699.341 L64.0042 699.341 L64.0042 705.229 L28.3562 705.229 L28.3562 699.341 L33.8944 699.341 Q30.6797 697.241 29.0883 694.408 Q27.4968 691.543 27.4968 687.819 Q27.4968 681.676 31.3163 678.525 Q35.1038 675.374 42.4881 675.374 Z\" fill=\"#000000\" fill-rule=\"evenodd\" fill-opacity=\"1\" /><path clip-path=\"url(#clip670)\" d=\"M18.2347 657.9 L28.3562 657.9 L28.3562 645.837 L32.9077 645.837 L32.9077 657.9 L52.2594 657.9 Q56.6199 657.9 57.8613 656.723 Q59.1026 655.513 59.1026 651.853 L59.1026 645.837 L64.0042 645.837 L64.0042 651.853 Q64.0042 658.633 61.4897 661.211 Q58.9434 663.789 52.2594 663.789 L32.9077 663.789 L32.9077 668.086 L28.3562 668.086 L28.3562 663.789 L18.2347 663.789 L18.2347 657.9 Z\" fill=\"#000000\" fill-rule=\"evenodd\" fill-opacity=\"1\" /><path clip-path=\"url(#clip672)\" d=\"\nM254.815 1254.43 L254.815 1384.24 L305.852 1384.24 L305.852 1254.43 L254.815 1254.43 L254.815 1254.43  Z\n  \" fill=\"#009af9\" fill-rule=\"evenodd\" fill-opacity=\"1\"/>\n<polyline clip-path=\"url(#clip672)\" style=\"stroke:#000000; stroke-linecap:round; stroke-linejoin:round; stroke-width:4; stroke-opacity:1; fill:none\" points=\"\n  254.815,1254.43 254.815,1384.24 305.852,1384.24 305.852,1254.43 254.815,1254.43 \n  \"/>\n<path clip-path=\"url(#clip672)\" d=\"\nM305.852 735.212 L305.852 1384.24 L356.889 1384.24 L356.889 735.212 L305.852 735.212 L305.852 735.212  Z\n  \" fill=\"#009af9\" fill-rule=\"evenodd\" fill-opacity=\"1\"/>\n<polyline clip-path=\"url(#clip672)\" style=\"stroke:#000000; stroke-linecap:round; stroke-linejoin:round; stroke-width:4; stroke-opacity:1; fill:none\" points=\"\n  305.852,735.212 305.852,1384.24 356.889,1384.24 356.889,735.212 305.852,735.212 \n  \"/>\n<path clip-path=\"url(#clip672)\" d=\"\nM356.889 994.822 L356.889 1384.24 L407.926 1384.24 L407.926 994.822 L356.889 994.822 L356.889 994.822  Z\n  \" fill=\"#009af9\" fill-rule=\"evenodd\" fill-opacity=\"1\"/>\n<polyline clip-path=\"url(#clip672)\" style=\"stroke:#000000; stroke-linecap:round; stroke-linejoin:round; stroke-width:4; stroke-opacity:1; fill:none\" points=\"\n  356.889,994.822 356.889,1384.24 407.926,1384.24 407.926,994.822 356.889,994.822 \n  \"/>\n<path clip-path=\"url(#clip672)\" d=\"\nM407.926 994.822 L407.926 1384.24 L458.963 1384.24 L458.963 994.822 L407.926 994.822 L407.926 994.822  Z\n  \" fill=\"#009af9\" fill-rule=\"evenodd\" fill-opacity=\"1\"/>\n<polyline clip-path=\"url(#clip672)\" style=\"stroke:#000000; stroke-linecap:round; stroke-linejoin:round; stroke-width:4; stroke-opacity:1; fill:none\" points=\"\n  407.926,994.822 407.926,1384.24 458.963,1384.24 458.963,994.822 407.926,994.822 \n  \"/>\n<path clip-path=\"url(#clip672)\" d=\"\nM458.963 475.601 L458.963 1384.24 L510 1384.24 L510 475.601 L458.963 475.601 L458.963 475.601  Z\n  \" fill=\"#009af9\" fill-rule=\"evenodd\" fill-opacity=\"1\"/>\n<polyline clip-path=\"url(#clip672)\" style=\"stroke:#000000; stroke-linecap:round; stroke-linejoin:round; stroke-width:4; stroke-opacity:1; fill:none\" points=\"\n  458.963,475.601 458.963,1384.24 510,1384.24 510,475.601 458.963,475.601 \n  \"/>\n<path clip-path=\"url(#clip672)\" d=\"\nM510 86.1857 L510 1384.24 L561.037 1384.24 L561.037 86.1857 L510 86.1857 L510 86.1857  Z\n  \" fill=\"#009af9\" fill-rule=\"evenodd\" fill-opacity=\"1\"/>\n<polyline clip-path=\"url(#clip672)\" style=\"stroke:#000000; stroke-linecap:round; stroke-linejoin:round; stroke-width:4; stroke-opacity:1; fill:none\" points=\"\n  510,86.1857 510,1384.24 561.037,1384.24 561.037,86.1857 510,86.1857 \n  \"/>\n<path clip-path=\"url(#clip672)\" d=\"\nM561.037 735.212 L561.037 1384.24 L612.074 1384.24 L612.074 735.212 L561.037 735.212 L561.037 735.212  Z\n  \" fill=\"#009af9\" fill-rule=\"evenodd\" fill-opacity=\"1\"/>\n<polyline clip-path=\"url(#clip672)\" style=\"stroke:#000000; stroke-linecap:round; stroke-linejoin:round; stroke-width:4; stroke-opacity:1; fill:none\" points=\"\n  561.037,735.212 561.037,1384.24 612.074,1384.24 612.074,735.212 561.037,735.212 \n  \"/>\n<path clip-path=\"url(#clip672)\" d=\"\nM612.074 605.407 L612.074 1384.24 L663.111 1384.24 L663.111 605.407 L612.074 605.407 L612.074 605.407  Z\n  \" fill=\"#009af9\" fill-rule=\"evenodd\" fill-opacity=\"1\"/>\n<polyline clip-path=\"url(#clip672)\" style=\"stroke:#000000; stroke-linecap:round; stroke-linejoin:round; stroke-width:4; stroke-opacity:1; fill:none\" points=\"\n  612.074,605.407 612.074,1384.24 663.111,1384.24 663.111,605.407 612.074,605.407 \n  \"/>\n<path clip-path=\"url(#clip672)\" d=\"\nM663.111 865.017 L663.111 1384.24 L714.148 1384.24 L714.148 865.017 L663.111 865.017 L663.111 865.017  Z\n  \" fill=\"#009af9\" fill-rule=\"evenodd\" fill-opacity=\"1\"/>\n<polyline clip-path=\"url(#clip672)\" style=\"stroke:#000000; stroke-linecap:round; stroke-linejoin:round; stroke-width:4; stroke-opacity:1; fill:none\" points=\"\n  663.111,865.017 663.111,1384.24 714.148,1384.24 714.148,865.017 663.111,865.017 \n  \"/>\n<path clip-path=\"url(#clip672)\" d=\"\nM714.148 994.822 L714.148 1384.24 L765.185 1384.24 L765.185 994.822 L714.148 994.822 L714.148 994.822  Z\n  \" fill=\"#009af9\" fill-rule=\"evenodd\" fill-opacity=\"1\"/>\n<polyline clip-path=\"url(#clip672)\" style=\"stroke:#000000; stroke-linecap:round; stroke-linejoin:round; stroke-width:4; stroke-opacity:1; fill:none\" points=\"\n  714.148,994.822 714.148,1384.24 765.185,1384.24 765.185,994.822 714.148,994.822 \n  \"/>\n<path clip-path=\"url(#clip672)\" d=\"\nM765.185 215.991 L765.185 1384.24 L816.222 1384.24 L816.222 215.991 L765.185 215.991 L765.185 215.991  Z\n  \" fill=\"#009af9\" fill-rule=\"evenodd\" fill-opacity=\"1\"/>\n<polyline clip-path=\"url(#clip672)\" style=\"stroke:#000000; stroke-linecap:round; stroke-linejoin:round; stroke-width:4; stroke-opacity:1; fill:none\" points=\"\n  765.185,215.991 765.185,1384.24 816.222,1384.24 816.222,215.991 765.185,215.991 \n  \"/>\n<path clip-path=\"url(#clip672)\" d=\"\nM816.222 865.017 L816.222 1384.24 L867.259 1384.24 L867.259 865.017 L816.222 865.017 L816.222 865.017  Z\n  \" fill=\"#009af9\" fill-rule=\"evenodd\" fill-opacity=\"1\"/>\n<polyline clip-path=\"url(#clip672)\" style=\"stroke:#000000; stroke-linecap:round; stroke-linejoin:round; stroke-width:4; stroke-opacity:1; fill:none\" points=\"\n  816.222,865.017 816.222,1384.24 867.259,1384.24 867.259,865.017 816.222,865.017 \n  \"/>\n<path clip-path=\"url(#clip672)\" d=\"\nM867.259 345.796 L867.259 1384.24 L918.296 1384.24 L918.296 345.796 L867.259 345.796 L867.259 345.796  Z\n  \" fill=\"#009af9\" fill-rule=\"evenodd\" fill-opacity=\"1\"/>\n<polyline clip-path=\"url(#clip672)\" style=\"stroke:#000000; stroke-linecap:round; stroke-linejoin:round; stroke-width:4; stroke-opacity:1; fill:none\" points=\"\n  867.259,345.796 867.259,1384.24 918.296,1384.24 918.296,345.796 867.259,345.796 \n  \"/>\n<path clip-path=\"url(#clip672)\" d=\"\nM918.296 994.822 L918.296 1384.24 L969.333 1384.24 L969.333 994.822 L918.296 994.822 L918.296 994.822  Z\n  \" fill=\"#009af9\" fill-rule=\"evenodd\" fill-opacity=\"1\"/>\n<polyline clip-path=\"url(#clip672)\" style=\"stroke:#000000; stroke-linecap:round; stroke-linejoin:round; stroke-width:4; stroke-opacity:1; fill:none\" points=\"\n  918.296,994.822 918.296,1384.24 969.333,1384.24 969.333,994.822 918.296,994.822 \n  \"/>\n<path clip-path=\"url(#clip672)\" d=\"\nM969.333 735.212 L969.333 1384.24 L1020.37 1384.24 L1020.37 735.212 L969.333 735.212 L969.333 735.212  Z\n  \" fill=\"#009af9\" fill-rule=\"evenodd\" fill-opacity=\"1\"/>\n<polyline clip-path=\"url(#clip672)\" style=\"stroke:#000000; stroke-linecap:round; stroke-linejoin:round; stroke-width:4; stroke-opacity:1; fill:none\" points=\"\n  969.333,735.212 969.333,1384.24 1020.37,1384.24 1020.37,735.212 969.333,735.212 \n  \"/>\n<path clip-path=\"url(#clip672)\" d=\"\nM1020.37 605.407 L1020.37 1384.24 L1071.41 1384.24 L1071.41 605.407 L1020.37 605.407 L1020.37 605.407  Z\n  \" fill=\"#009af9\" fill-rule=\"evenodd\" fill-opacity=\"1\"/>\n<polyline clip-path=\"url(#clip672)\" style=\"stroke:#000000; stroke-linecap:round; stroke-linejoin:round; stroke-width:4; stroke-opacity:1; fill:none\" points=\"\n  1020.37,605.407 1020.37,1384.24 1071.41,1384.24 1071.41,605.407 1020.37,605.407 \n  \"/>\n<path clip-path=\"url(#clip672)\" d=\"\nM1071.41 994.822 L1071.41 1384.24 L1122.44 1384.24 L1122.44 994.822 L1071.41 994.822 L1071.41 994.822  Z\n  \" fill=\"#009af9\" fill-rule=\"evenodd\" fill-opacity=\"1\"/>\n<polyline clip-path=\"url(#clip672)\" style=\"stroke:#000000; stroke-linecap:round; stroke-linejoin:round; stroke-width:4; stroke-opacity:1; fill:none\" points=\"\n  1071.41,994.822 1071.41,1384.24 1122.44,1384.24 1122.44,994.822 1071.41,994.822 \n  \"/>\n<path clip-path=\"url(#clip672)\" d=\"\nM1122.44 1124.63 L1122.44 1384.24 L1173.48 1384.24 L1173.48 1124.63 L1122.44 1124.63 L1122.44 1124.63  Z\n  \" fill=\"#009af9\" fill-rule=\"evenodd\" fill-opacity=\"1\"/>\n<polyline clip-path=\"url(#clip672)\" style=\"stroke:#000000; stroke-linecap:round; stroke-linejoin:round; stroke-width:4; stroke-opacity:1; fill:none\" points=\"\n  1122.44,1124.63 1122.44,1384.24 1173.48,1384.24 1173.48,1124.63 1122.44,1124.63 \n  \"/>\n<path clip-path=\"url(#clip672)\" d=\"\nM1173.48 735.212 L1173.48 1384.24 L1224.52 1384.24 L1224.52 735.212 L1173.48 735.212 L1173.48 735.212  Z\n  \" fill=\"#009af9\" fill-rule=\"evenodd\" fill-opacity=\"1\"/>\n<polyline clip-path=\"url(#clip672)\" style=\"stroke:#000000; stroke-linecap:round; stroke-linejoin:round; stroke-width:4; stroke-opacity:1; fill:none\" points=\"\n  1173.48,735.212 1173.48,1384.24 1224.52,1384.24 1224.52,735.212 1173.48,735.212 \n  \"/>\n<path clip-path=\"url(#clip672)\" d=\"\nM1224.52 865.017 L1224.52 1384.24 L1275.56 1384.24 L1275.56 865.017 L1224.52 865.017 L1224.52 865.017  Z\n  \" fill=\"#009af9\" fill-rule=\"evenodd\" fill-opacity=\"1\"/>\n<polyline clip-path=\"url(#clip672)\" style=\"stroke:#000000; stroke-linecap:round; stroke-linejoin:round; stroke-width:4; stroke-opacity:1; fill:none\" points=\"\n  1224.52,865.017 1224.52,1384.24 1275.56,1384.24 1275.56,865.017 1224.52,865.017 \n  \"/>\n<path clip-path=\"url(#clip672)\" d=\"\nM1275.56 345.796 L1275.56 1384.24 L1326.59 1384.24 L1326.59 345.796 L1275.56 345.796 L1275.56 345.796  Z\n  \" fill=\"#009af9\" fill-rule=\"evenodd\" fill-opacity=\"1\"/>\n<polyline clip-path=\"url(#clip672)\" style=\"stroke:#000000; stroke-linecap:round; stroke-linejoin:round; stroke-width:4; stroke-opacity:1; fill:none\" points=\"\n  1275.56,345.796 1275.56,1384.24 1326.59,1384.24 1326.59,345.796 1275.56,345.796 \n  \"/>\n<path clip-path=\"url(#clip672)\" d=\"\nM1326.59 865.017 L1326.59 1384.24 L1377.63 1384.24 L1377.63 865.017 L1326.59 865.017 L1326.59 865.017  Z\n  \" fill=\"#009af9\" fill-rule=\"evenodd\" fill-opacity=\"1\"/>\n<polyline clip-path=\"url(#clip672)\" style=\"stroke:#000000; stroke-linecap:round; stroke-linejoin:round; stroke-width:4; stroke-opacity:1; fill:none\" points=\"\n  1326.59,865.017 1326.59,1384.24 1377.63,1384.24 1377.63,865.017 1326.59,865.017 \n  \"/>\n<path clip-path=\"url(#clip672)\" d=\"\nM1377.63 735.212 L1377.63 1384.24 L1428.67 1384.24 L1428.67 735.212 L1377.63 735.212 L1377.63 735.212  Z\n  \" fill=\"#009af9\" fill-rule=\"evenodd\" fill-opacity=\"1\"/>\n<polyline clip-path=\"url(#clip672)\" style=\"stroke:#000000; stroke-linecap:round; stroke-linejoin:round; stroke-width:4; stroke-opacity:1; fill:none\" points=\"\n  1377.63,735.212 1377.63,1384.24 1428.67,1384.24 1428.67,735.212 1377.63,735.212 \n  \"/>\n<path clip-path=\"url(#clip672)\" d=\"\nM1428.67 1124.63 L1428.67 1384.24 L1479.7 1384.24 L1479.7 1124.63 L1428.67 1124.63 L1428.67 1124.63  Z\n  \" fill=\"#009af9\" fill-rule=\"evenodd\" fill-opacity=\"1\"/>\n<polyline clip-path=\"url(#clip672)\" style=\"stroke:#000000; stroke-linecap:round; stroke-linejoin:round; stroke-width:4; stroke-opacity:1; fill:none\" points=\"\n  1428.67,1124.63 1428.67,1384.24 1479.7,1384.24 1479.7,1124.63 1428.67,1124.63 \n  \"/>\n<path clip-path=\"url(#clip672)\" d=\"\nM1479.7 605.407 L1479.7 1384.24 L1530.74 1384.24 L1530.74 605.407 L1479.7 605.407 L1479.7 605.407  Z\n  \" fill=\"#009af9\" fill-rule=\"evenodd\" fill-opacity=\"1\"/>\n<polyline clip-path=\"url(#clip672)\" style=\"stroke:#000000; stroke-linecap:round; stroke-linejoin:round; stroke-width:4; stroke-opacity:1; fill:none\" points=\"\n  1479.7,605.407 1479.7,1384.24 1530.74,1384.24 1530.74,605.407 1479.7,605.407 \n  \"/>\n<path clip-path=\"url(#clip672)\" d=\"\nM1530.74 865.017 L1530.74 1384.24 L1581.78 1384.24 L1581.78 865.017 L1530.74 865.017 L1530.74 865.017  Z\n  \" fill=\"#009af9\" fill-rule=\"evenodd\" fill-opacity=\"1\"/>\n<polyline clip-path=\"url(#clip672)\" style=\"stroke:#000000; stroke-linecap:round; stroke-linejoin:round; stroke-width:4; stroke-opacity:1; fill:none\" points=\"\n  1530.74,865.017 1530.74,1384.24 1581.78,1384.24 1581.78,865.017 1530.74,865.017 \n  \"/>\n<path clip-path=\"url(#clip672)\" d=\"\nM1581.78 345.796 L1581.78 1384.24 L1632.81 1384.24 L1632.81 345.796 L1581.78 345.796 L1581.78 345.796  Z\n  \" fill=\"#009af9\" fill-rule=\"evenodd\" fill-opacity=\"1\"/>\n<polyline clip-path=\"url(#clip672)\" style=\"stroke:#000000; stroke-linecap:round; stroke-linejoin:round; stroke-width:4; stroke-opacity:1; fill:none\" points=\"\n  1581.78,345.796 1581.78,1384.24 1632.81,1384.24 1632.81,345.796 1581.78,345.796 \n  \"/>\n<path clip-path=\"url(#clip672)\" d=\"\nM1632.81 865.017 L1632.81 1384.24 L1683.85 1384.24 L1683.85 865.017 L1632.81 865.017 L1632.81 865.017  Z\n  \" fill=\"#009af9\" fill-rule=\"evenodd\" fill-opacity=\"1\"/>\n<polyline clip-path=\"url(#clip672)\" style=\"stroke:#000000; stroke-linecap:round; stroke-linejoin:round; stroke-width:4; stroke-opacity:1; fill:none\" points=\"\n  1632.81,865.017 1632.81,1384.24 1683.85,1384.24 1683.85,865.017 1632.81,865.017 \n  \"/>\n<path clip-path=\"url(#clip672)\" d=\"\nM1683.85 865.017 L1683.85 1384.24 L1734.89 1384.24 L1734.89 865.017 L1683.85 865.017 L1683.85 865.017  Z\n  \" fill=\"#009af9\" fill-rule=\"evenodd\" fill-opacity=\"1\"/>\n<polyline clip-path=\"url(#clip672)\" style=\"stroke:#000000; stroke-linecap:round; stroke-linejoin:round; stroke-width:4; stroke-opacity:1; fill:none\" points=\"\n  1683.85,865.017 1683.85,1384.24 1734.89,1384.24 1734.89,865.017 1683.85,865.017 \n  \"/>\n<path clip-path=\"url(#clip672)\" d=\"\nM1734.89 994.822 L1734.89 1384.24 L1785.93 1384.24 L1785.93 994.822 L1734.89 994.822 L1734.89 994.822  Z\n  \" fill=\"#009af9\" fill-rule=\"evenodd\" fill-opacity=\"1\"/>\n<polyline clip-path=\"url(#clip672)\" style=\"stroke:#000000; stroke-linecap:round; stroke-linejoin:round; stroke-width:4; stroke-opacity:1; fill:none\" points=\"\n  1734.89,994.822 1734.89,1384.24 1785.93,1384.24 1785.93,994.822 1734.89,994.822 \n  \"/>\n<path clip-path=\"url(#clip672)\" d=\"\nM1785.93 735.212 L1785.93 1384.24 L1836.96 1384.24 L1836.96 735.212 L1785.93 735.212 L1785.93 735.212  Z\n  \" fill=\"#009af9\" fill-rule=\"evenodd\" fill-opacity=\"1\"/>\n<polyline clip-path=\"url(#clip672)\" style=\"stroke:#000000; stroke-linecap:round; stroke-linejoin:round; stroke-width:4; stroke-opacity:1; fill:none\" points=\"\n  1785.93,735.212 1785.93,1384.24 1836.96,1384.24 1836.96,735.212 1785.93,735.212 \n  \"/>\n<path clip-path=\"url(#clip672)\" d=\"\nM1836.96 865.017 L1836.96 1384.24 L1888 1384.24 L1888 865.017 L1836.96 865.017 L1836.96 865.017  Z\n  \" fill=\"#009af9\" fill-rule=\"evenodd\" fill-opacity=\"1\"/>\n<polyline clip-path=\"url(#clip672)\" style=\"stroke:#000000; stroke-linecap:round; stroke-linejoin:round; stroke-width:4; stroke-opacity:1; fill:none\" points=\"\n  1836.96,865.017 1836.96,1384.24 1888,1384.24 1888,865.017 1836.96,865.017 \n  \"/>\n<path clip-path=\"url(#clip672)\" d=\"\nM1888 994.822 L1888 1384.24 L1939.04 1384.24 L1939.04 994.822 L1888 994.822 L1888 994.822  Z\n  \" fill=\"#009af9\" fill-rule=\"evenodd\" fill-opacity=\"1\"/>\n<polyline clip-path=\"url(#clip672)\" style=\"stroke:#000000; stroke-linecap:round; stroke-linejoin:round; stroke-width:4; stroke-opacity:1; fill:none\" points=\"\n  1888,994.822 1888,1384.24 1939.04,1384.24 1939.04,994.822 1888,994.822 \n  \"/>\n<path clip-path=\"url(#clip672)\" d=\"\nM1939.04 1384.24 L1939.04 1384.24 L1990.07 1384.24 L1990.07 1384.24 L1939.04 1384.24 L1939.04 1384.24  Z\n  \" fill=\"#009af9\" fill-rule=\"evenodd\" fill-opacity=\"1\"/>\n<polyline clip-path=\"url(#clip672)\" style=\"stroke:#000000; stroke-linecap:round; stroke-linejoin:round; stroke-width:4; stroke-opacity:1; fill:none\" points=\"\n  1939.04,1384.24 1939.04,1384.24 1990.07,1384.24 1939.04,1384.24 \n  \"/>\n<path clip-path=\"url(#clip672)\" d=\"\nM1990.07 345.796 L1990.07 1384.24 L2041.11 1384.24 L2041.11 345.796 L1990.07 345.796 L1990.07 345.796  Z\n  \" fill=\"#009af9\" fill-rule=\"evenodd\" fill-opacity=\"1\"/>\n<polyline clip-path=\"url(#clip672)\" style=\"stroke:#000000; stroke-linecap:round; stroke-linejoin:round; stroke-width:4; stroke-opacity:1; fill:none\" points=\"\n  1990.07,345.796 1990.07,1384.24 2041.11,1384.24 2041.11,345.796 1990.07,345.796 \n  \"/>\n<path clip-path=\"url(#clip672)\" d=\"\nM2041.11 865.017 L2041.11 1384.24 L2092.15 1384.24 L2092.15 865.017 L2041.11 865.017 L2041.11 865.017  Z\n  \" fill=\"#009af9\" fill-rule=\"evenodd\" fill-opacity=\"1\"/>\n<polyline clip-path=\"url(#clip672)\" style=\"stroke:#000000; stroke-linecap:round; stroke-linejoin:round; stroke-width:4; stroke-opacity:1; fill:none\" points=\"\n  2041.11,865.017 2041.11,1384.24 2092.15,1384.24 2092.15,865.017 2041.11,865.017 \n  \"/>\n<path clip-path=\"url(#clip672)\" d=\"\nM2092.15 735.212 L2092.15 1384.24 L2143.18 1384.24 L2143.18 735.212 L2092.15 735.212 L2092.15 735.212  Z\n  \" fill=\"#009af9\" fill-rule=\"evenodd\" fill-opacity=\"1\"/>\n<polyline clip-path=\"url(#clip672)\" style=\"stroke:#000000; stroke-linecap:round; stroke-linejoin:round; stroke-width:4; stroke-opacity:1; fill:none\" points=\"\n  2092.15,735.212 2092.15,1384.24 2143.18,1384.24 2143.18,735.212 2092.15,735.212 \n  \"/>\n<path clip-path=\"url(#clip672)\" d=\"\nM2143.18 994.822 L2143.18 1384.24 L2194.22 1384.24 L2194.22 994.822 L2143.18 994.822 L2143.18 994.822  Z\n  \" fill=\"#009af9\" fill-rule=\"evenodd\" fill-opacity=\"1\"/>\n<polyline clip-path=\"url(#clip672)\" style=\"stroke:#000000; stroke-linecap:round; stroke-linejoin:round; stroke-width:4; stroke-opacity:1; fill:none\" points=\"\n  2143.18,994.822 2143.18,1384.24 2194.22,1384.24 2194.22,994.822 2143.18,994.822 \n  \"/>\n<path clip-path=\"url(#clip672)\" d=\"\nM2194.22 865.017 L2194.22 1384.24 L2245.26 1384.24 L2245.26 865.017 L2194.22 865.017 L2194.22 865.017  Z\n  \" fill=\"#009af9\" fill-rule=\"evenodd\" fill-opacity=\"1\"/>\n<polyline clip-path=\"url(#clip672)\" style=\"stroke:#000000; stroke-linecap:round; stroke-linejoin:round; stroke-width:4; stroke-opacity:1; fill:none\" points=\"\n  2194.22,865.017 2194.22,1384.24 2245.26,1384.24 2245.26,865.017 2194.22,865.017 \n  \"/>\n<path clip-path=\"url(#clip672)\" d=\"\nM2245.26 994.822 L2245.26 1384.24 L2296.3 1384.24 L2296.3 994.822 L2245.26 994.822 L2245.26 994.822  Z\n  \" fill=\"#009af9\" fill-rule=\"evenodd\" fill-opacity=\"1\"/>\n<polyline clip-path=\"url(#clip672)\" style=\"stroke:#000000; stroke-linecap:round; stroke-linejoin:round; stroke-width:4; stroke-opacity:1; fill:none\" points=\"\n  2245.26,994.822 2245.26,1384.24 2296.3,1384.24 2296.3,994.822 2245.26,994.822 \n  \"/>\n<path clip-path=\"url(#clip672)\" d=\"\nM2296.3 1254.43 L2296.3 1384.24 L2347.33 1384.24 L2347.33 1254.43 L2296.3 1254.43 L2296.3 1254.43  Z\n  \" fill=\"#009af9\" fill-rule=\"evenodd\" fill-opacity=\"1\"/>\n<polyline clip-path=\"url(#clip672)\" style=\"stroke:#000000; stroke-linecap:round; stroke-linejoin:round; stroke-width:4; stroke-opacity:1; fill:none\" points=\"\n  2296.3,1254.43 2296.3,1384.24 2347.33,1384.24 2347.33,1254.43 2296.3,1254.43 \n  \"/>\n<path clip-path=\"url(#clip672)\" d=\"\nM2347.33 86.1857 L2347.33 1384.24 L2398.37 1384.24 L2398.37 86.1857 L2347.33 86.1857 L2347.33 86.1857  Z\n  \" fill=\"#009af9\" fill-rule=\"evenodd\" fill-opacity=\"1\"/>\n<polyline clip-path=\"url(#clip672)\" style=\"stroke:#000000; stroke-linecap:round; stroke-linejoin:round; stroke-width:4; stroke-opacity:1; fill:none\" points=\"\n  2347.33,86.1857 2347.33,1384.24 2398.37,1384.24 2398.37,86.1857 2347.33,86.1857 \n  \"/>\n<path clip-path=\"url(#clip672)\" d=\"\nM2398.37 1254.43 L2398.37 1384.24 L2449.41 1384.24 L2449.41 1254.43 L2398.37 1254.43 L2398.37 1254.43  Z\n  \" fill=\"#009af9\" fill-rule=\"evenodd\" fill-opacity=\"1\"/>\n<polyline clip-path=\"url(#clip672)\" style=\"stroke:#000000; stroke-linecap:round; stroke-linejoin:round; stroke-width:4; stroke-opacity:1; fill:none\" points=\"\n  2398.37,1254.43 2398.37,1384.24 2449.41,1384.24 2449.41,1254.43 2398.37,1254.43 \n  \"/>\n<path clip-path=\"url(#clip672)\" d=\"\nM2449.41 735.212 L2449.41 1384.24 L2500.44 1384.24 L2500.44 735.212 L2449.41 735.212 L2449.41 735.212  Z\n  \" fill=\"#009af9\" fill-rule=\"evenodd\" fill-opacity=\"1\"/>\n<polyline clip-path=\"url(#clip672)\" style=\"stroke:#000000; stroke-linecap:round; stroke-linejoin:round; stroke-width:4; stroke-opacity:1; fill:none\" points=\"\n  2449.41,735.212 2449.41,1384.24 2500.44,1384.24 2500.44,735.212 2449.41,735.212 \n  \"/>\n<path clip-path=\"url(#clip672)\" d=\"\nM2500.44 605.407 L2500.44 1384.24 L2551.48 1384.24 L2551.48 605.407 L2500.44 605.407 L2500.44 605.407  Z\n  \" fill=\"#009af9\" fill-rule=\"evenodd\" fill-opacity=\"1\"/>\n<polyline clip-path=\"url(#clip672)\" style=\"stroke:#000000; stroke-linecap:round; stroke-linejoin:round; stroke-width:4; stroke-opacity:1; fill:none\" points=\"\n  2500.44,605.407 2500.44,1384.24 2551.48,1384.24 2551.48,605.407 2500.44,605.407 \n  \"/>\n<path clip-path=\"url(#clip672)\" d=\"\nM2551.48 994.822 L2551.48 1384.24 L2602.52 1384.24 L2602.52 994.822 L2551.48 994.822 L2551.48 994.822  Z\n  \" fill=\"#009af9\" fill-rule=\"evenodd\" fill-opacity=\"1\"/>\n<polyline clip-path=\"url(#clip672)\" style=\"stroke:#000000; stroke-linecap:round; stroke-linejoin:round; stroke-width:4; stroke-opacity:1; fill:none\" points=\"\n  2551.48,994.822 2551.48,1384.24 2602.52,1384.24 2602.52,994.822 2551.48,994.822 \n  \"/>\n<path clip-path=\"url(#clip672)\" d=\"\nM2602.52 865.017 L2602.52 1384.24 L2653.55 1384.24 L2653.55 865.017 L2602.52 865.017 L2602.52 865.017  Z\n  \" fill=\"#009af9\" fill-rule=\"evenodd\" fill-opacity=\"1\"/>\n<polyline clip-path=\"url(#clip672)\" style=\"stroke:#000000; stroke-linecap:round; stroke-linejoin:round; stroke-width:4; stroke-opacity:1; fill:none\" points=\"\n  2602.52,865.017 2602.52,1384.24 2653.55,1384.24 2653.55,865.017 2602.52,865.017 \n  \"/>\n<path clip-path=\"url(#clip672)\" d=\"\nM2653.55 1254.43 L2653.55 1384.24 L2704.59 1384.24 L2704.59 1254.43 L2653.55 1254.43 L2653.55 1254.43  Z\n  \" fill=\"#009af9\" fill-rule=\"evenodd\" fill-opacity=\"1\"/>\n<polyline clip-path=\"url(#clip672)\" style=\"stroke:#000000; stroke-linecap:round; stroke-linejoin:round; stroke-width:4; stroke-opacity:1; fill:none\" points=\"\n  2653.55,1254.43 2653.55,1384.24 2704.59,1384.24 2704.59,1254.43 2653.55,1254.43 \n  \"/>\n<path clip-path=\"url(#clip672)\" d=\"\nM2704.59 735.212 L2704.59 1384.24 L2755.63 1384.24 L2755.63 735.212 L2704.59 735.212 L2704.59 735.212  Z\n  \" fill=\"#009af9\" fill-rule=\"evenodd\" fill-opacity=\"1\"/>\n<polyline clip-path=\"url(#clip672)\" style=\"stroke:#000000; stroke-linecap:round; stroke-linejoin:round; stroke-width:4; stroke-opacity:1; fill:none\" points=\"\n  2704.59,735.212 2704.59,1384.24 2755.63,1384.24 2755.63,735.212 2704.59,735.212 \n  \"/>\n<path clip-path=\"url(#clip672)\" d=\"\nM2755.63 475.601 L2755.63 1384.24 L2806.67 1384.24 L2806.67 475.601 L2755.63 475.601 L2755.63 475.601  Z\n  \" fill=\"#009af9\" fill-rule=\"evenodd\" fill-opacity=\"1\"/>\n<polyline clip-path=\"url(#clip672)\" style=\"stroke:#000000; stroke-linecap:round; stroke-linejoin:round; stroke-width:4; stroke-opacity:1; fill:none\" points=\"\n  2755.63,475.601 2755.63,1384.24 2806.67,1384.24 2806.67,475.601 2755.63,475.601 \n  \"/>\n<path clip-path=\"url(#clip672)\" d=\"\nM2806.67 994.822 L2806.67 1384.24 L2857.7 1384.24 L2857.7 994.822 L2806.67 994.822 L2806.67 994.822  Z\n  \" fill=\"#009af9\" fill-rule=\"evenodd\" fill-opacity=\"1\"/>\n<polyline clip-path=\"url(#clip672)\" style=\"stroke:#000000; stroke-linecap:round; stroke-linejoin:round; stroke-width:4; stroke-opacity:1; fill:none\" points=\"\n  2806.67,994.822 2806.67,1384.24 2857.7,1384.24 2857.7,994.822 2806.67,994.822 \n  \"/>\n<path clip-path=\"url(#clip672)\" d=\"\nM2857.7 994.822 L2857.7 1384.24 L2908.74 1384.24 L2908.74 994.822 L2857.7 994.822 L2857.7 994.822  Z\n  \" fill=\"#009af9\" fill-rule=\"evenodd\" fill-opacity=\"1\"/>\n<polyline clip-path=\"url(#clip672)\" style=\"stroke:#000000; stroke-linecap:round; stroke-linejoin:round; stroke-width:4; stroke-opacity:1; fill:none\" points=\"\n  2857.7,994.822 2857.7,1384.24 2908.74,1384.24 2908.74,994.822 2857.7,994.822 \n  \"/>\n<path clip-path=\"url(#clip672)\" d=\"\nM2908.74 1124.63 L2908.74 1384.24 L2959.78 1384.24 L2959.78 1124.63 L2908.74 1124.63 L2908.74 1124.63  Z\n  \" fill=\"#009af9\" fill-rule=\"evenodd\" fill-opacity=\"1\"/>\n<polyline clip-path=\"url(#clip672)\" style=\"stroke:#000000; stroke-linecap:round; stroke-linejoin:round; stroke-width:4; stroke-opacity:1; fill:none\" points=\"\n  2908.74,1124.63 2908.74,1384.24 2959.78,1384.24 2959.78,1124.63 2908.74,1124.63 \n  \"/>\n<path clip-path=\"url(#clip672)\" d=\"\nM2959.78 605.407 L2959.78 1384.24 L3010.81 1384.24 L3010.81 605.407 L2959.78 605.407 L2959.78 605.407  Z\n  \" fill=\"#009af9\" fill-rule=\"evenodd\" fill-opacity=\"1\"/>\n<polyline clip-path=\"url(#clip672)\" style=\"stroke:#000000; stroke-linecap:round; stroke-linejoin:round; stroke-width:4; stroke-opacity:1; fill:none\" points=\"\n  2959.78,605.407 2959.78,1384.24 3010.81,1384.24 3010.81,605.407 2959.78,605.407 \n  \"/>\n<path clip-path=\"url(#clip672)\" d=\"\nM3010.81 735.212 L3010.81 1384.24 L3061.85 1384.24 L3061.85 735.212 L3010.81 735.212 L3010.81 735.212  Z\n  \" fill=\"#009af9\" fill-rule=\"evenodd\" fill-opacity=\"1\"/>\n<polyline clip-path=\"url(#clip672)\" style=\"stroke:#000000; stroke-linecap:round; stroke-linejoin:round; stroke-width:4; stroke-opacity:1; fill:none\" points=\"\n  3010.81,735.212 3010.81,1384.24 3061.85,1384.24 3061.85,735.212 3010.81,735.212 \n  \"/>\n<path clip-path=\"url(#clip672)\" d=\"\nM3061.85 865.017 L3061.85 1384.24 L3112.89 1384.24 L3112.89 865.017 L3061.85 865.017 L3061.85 865.017  Z\n  \" fill=\"#009af9\" fill-rule=\"evenodd\" fill-opacity=\"1\"/>\n<polyline clip-path=\"url(#clip672)\" style=\"stroke:#000000; stroke-linecap:round; stroke-linejoin:round; stroke-width:4; stroke-opacity:1; fill:none\" points=\"\n  3061.85,865.017 3061.85,1384.24 3112.89,1384.24 3112.89,865.017 3061.85,865.017 \n  \"/>\n<path clip-path=\"url(#clip672)\" d=\"\nM3112.89 735.212 L3112.89 1384.24 L3163.92 1384.24 L3163.92 735.212 L3112.89 735.212 L3112.89 735.212  Z\n  \" fill=\"#009af9\" fill-rule=\"evenodd\" fill-opacity=\"1\"/>\n<polyline clip-path=\"url(#clip672)\" style=\"stroke:#000000; stroke-linecap:round; stroke-linejoin:round; stroke-width:4; stroke-opacity:1; fill:none\" points=\"\n  3112.89,735.212 3112.89,1384.24 3163.92,1384.24 3163.92,735.212 3112.89,735.212 \n  \"/>\n<path clip-path=\"url(#clip672)\" d=\"\nM3163.92 1124.63 L3163.92 1384.24 L3214.96 1384.24 L3214.96 1124.63 L3163.92 1124.63 L3163.92 1124.63  Z\n  \" fill=\"#009af9\" fill-rule=\"evenodd\" fill-opacity=\"1\"/>\n<polyline clip-path=\"url(#clip672)\" style=\"stroke:#000000; stroke-linecap:round; stroke-linejoin:round; stroke-width:4; stroke-opacity:1; fill:none\" points=\"\n  3163.92,1124.63 3163.92,1384.24 3214.96,1384.24 3214.96,1124.63 3163.92,1124.63 \n  \"/>\n<path clip-path=\"url(#clip672)\" d=\"\nM3214.96 1124.63 L3214.96 1384.24 L3266 1384.24 L3266 1124.63 L3214.96 1124.63 L3214.96 1124.63  Z\n  \" fill=\"#009af9\" fill-rule=\"evenodd\" fill-opacity=\"1\"/>\n<polyline clip-path=\"url(#clip672)\" style=\"stroke:#000000; stroke-linecap:round; stroke-linejoin:round; stroke-width:4; stroke-opacity:1; fill:none\" points=\"\n  3214.96,1124.63 3214.96,1384.24 3266,1384.24 3266,1124.63 3214.96,1124.63 \n  \"/>\n<path clip-path=\"url(#clip672)\" d=\"\nM3266 735.212 L3266 1384.24 L3317.04 1384.24 L3317.04 735.212 L3266 735.212 L3266 735.212  Z\n  \" fill=\"#009af9\" fill-rule=\"evenodd\" fill-opacity=\"1\"/>\n<polyline clip-path=\"url(#clip672)\" style=\"stroke:#000000; stroke-linecap:round; stroke-linejoin:round; stroke-width:4; stroke-opacity:1; fill:none\" points=\"\n  3266,735.212 3266,1384.24 3317.04,1384.24 3317.04,735.212 3266,735.212 \n  \"/>\n<path clip-path=\"url(#clip672)\" d=\"\nM3317.04 1124.63 L3317.04 1384.24 L3368.07 1384.24 L3368.07 1124.63 L3317.04 1124.63 L3317.04 1124.63  Z\n  \" fill=\"#009af9\" fill-rule=\"evenodd\" fill-opacity=\"1\"/>\n<polyline clip-path=\"url(#clip672)\" style=\"stroke:#000000; stroke-linecap:round; stroke-linejoin:round; stroke-width:4; stroke-opacity:1; fill:none\" points=\"\n  3317.04,1124.63 3317.04,1384.24 3368.07,1384.24 3368.07,1124.63 3317.04,1124.63 \n  \"/>\n<path clip-path=\"url(#clip672)\" d=\"\nM3368.07 605.407 L3368.07 1384.24 L3419.11 1384.24 L3419.11 605.407 L3368.07 605.407 L3368.07 605.407  Z\n  \" fill=\"#009af9\" fill-rule=\"evenodd\" fill-opacity=\"1\"/>\n<polyline clip-path=\"url(#clip672)\" style=\"stroke:#000000; stroke-linecap:round; stroke-linejoin:round; stroke-width:4; stroke-opacity:1; fill:none\" points=\"\n  3368.07,605.407 3368.07,1384.24 3419.11,1384.24 3419.11,605.407 3368.07,605.407 \n  \"/>\n<path clip-path=\"url(#clip672)\" d=\"\nM3419.11 994.822 L3419.11 1384.24 L3470.15 1384.24 L3470.15 994.822 L3419.11 994.822 L3419.11 994.822  Z\n  \" fill=\"#009af9\" fill-rule=\"evenodd\" fill-opacity=\"1\"/>\n<polyline clip-path=\"url(#clip672)\" style=\"stroke:#000000; stroke-linecap:round; stroke-linejoin:round; stroke-width:4; stroke-opacity:1; fill:none\" points=\"\n  3419.11,994.822 3419.11,1384.24 3470.15,1384.24 3470.15,994.822 3419.11,994.822 \n  \"/>\n<path clip-path=\"url(#clip672)\" d=\"\nM3470.15 735.212 L3470.15 1384.24 L3521.18 1384.24 L3521.18 735.212 L3470.15 735.212 L3470.15 735.212  Z\n  \" fill=\"#009af9\" fill-rule=\"evenodd\" fill-opacity=\"1\"/>\n<polyline clip-path=\"url(#clip672)\" style=\"stroke:#000000; stroke-linecap:round; stroke-linejoin:round; stroke-width:4; stroke-opacity:1; fill:none\" points=\"\n  3470.15,735.212 3470.15,1384.24 3521.18,1384.24 3521.18,735.212 3470.15,735.212 \n  \"/>\n<path clip-path=\"url(#clip672)\" d=\"\nM3521.18 1384.24 L3521.18 1384.24 L3572.22 1384.24 L3572.22 1384.24 L3521.18 1384.24 L3521.18 1384.24  Z\n  \" fill=\"#009af9\" fill-rule=\"evenodd\" fill-opacity=\"1\"/>\n<polyline clip-path=\"url(#clip672)\" style=\"stroke:#000000; stroke-linecap:round; stroke-linejoin:round; stroke-width:4; stroke-opacity:1; fill:none\" points=\"\n  3521.18,1384.24 3521.18,1384.24 3572.22,1384.24 3521.18,1384.24 \n  \"/>\n<path clip-path=\"url(#clip672)\" d=\"\nM3572.22 1384.24 L3572.22 1384.24 L3623.26 1384.24 L3623.26 1384.24 L3572.22 1384.24 L3572.22 1384.24  Z\n  \" fill=\"#009af9\" fill-rule=\"evenodd\" fill-opacity=\"1\"/>\n<polyline clip-path=\"url(#clip672)\" style=\"stroke:#000000; stroke-linecap:round; stroke-linejoin:round; stroke-width:4; stroke-opacity:1; fill:none\" points=\"\n  3572.22,1384.24 3572.22,1384.24 3623.26,1384.24 3572.22,1384.24 \n  \"/>\n<path clip-path=\"url(#clip672)\" d=\"\nM3623.26 994.822 L3623.26 1384.24 L3674.3 1384.24 L3674.3 994.822 L3623.26 994.822 L3623.26 994.822  Z\n  \" fill=\"#009af9\" fill-rule=\"evenodd\" fill-opacity=\"1\"/>\n<polyline clip-path=\"url(#clip672)\" style=\"stroke:#000000; stroke-linecap:round; stroke-linejoin:round; stroke-width:4; stroke-opacity:1; fill:none\" points=\"\n  3623.26,994.822 3623.26,1384.24 3674.3,1384.24 3674.3,994.822 3623.26,994.822 \n  \"/>\n<path clip-path=\"url(#clip672)\" d=\"\nM3674.3 605.407 L3674.3 1384.24 L3725.33 1384.24 L3725.33 605.407 L3674.3 605.407 L3674.3 605.407  Z\n  \" fill=\"#009af9\" fill-rule=\"evenodd\" fill-opacity=\"1\"/>\n<polyline clip-path=\"url(#clip672)\" style=\"stroke:#000000; stroke-linecap:round; stroke-linejoin:round; stroke-width:4; stroke-opacity:1; fill:none\" points=\"\n  3674.3,605.407 3674.3,1384.24 3725.33,1384.24 3725.33,605.407 3674.3,605.407 \n  \"/>\n<path clip-path=\"url(#clip672)\" d=\"\nM3725.33 1124.63 L3725.33 1384.24 L3776.37 1384.24 L3776.37 1124.63 L3725.33 1124.63 L3725.33 1124.63  Z\n  \" fill=\"#009af9\" fill-rule=\"evenodd\" fill-opacity=\"1\"/>\n<polyline clip-path=\"url(#clip672)\" style=\"stroke:#000000; stroke-linecap:round; stroke-linejoin:round; stroke-width:4; stroke-opacity:1; fill:none\" points=\"\n  3725.33,1124.63 3725.33,1384.24 3776.37,1384.24 3776.37,1124.63 3725.33,1124.63 \n  \"/>\n<path clip-path=\"url(#clip672)\" d=\"\nM3776.37 1254.43 L3776.37 1384.24 L3827.41 1384.24 L3827.41 1254.43 L3776.37 1254.43 L3776.37 1254.43  Z\n  \" fill=\"#009af9\" fill-rule=\"evenodd\" fill-opacity=\"1\"/>\n<polyline clip-path=\"url(#clip672)\" style=\"stroke:#000000; stroke-linecap:round; stroke-linejoin:round; stroke-width:4; stroke-opacity:1; fill:none\" points=\"\n  3776.37,1254.43 3776.37,1384.24 3827.41,1384.24 3827.41,1254.43 3776.37,1254.43 \n  \"/>\n<path clip-path=\"url(#clip672)\" d=\"\nM3827.41 1124.63 L3827.41 1384.24 L3878.44 1384.24 L3878.44 1124.63 L3827.41 1124.63 L3827.41 1124.63  Z\n  \" fill=\"#009af9\" fill-rule=\"evenodd\" fill-opacity=\"1\"/>\n<polyline clip-path=\"url(#clip672)\" style=\"stroke:#000000; stroke-linecap:round; stroke-linejoin:round; stroke-width:4; stroke-opacity:1; fill:none\" points=\"\n  3827.41,1124.63 3827.41,1384.24 3878.44,1384.24 3878.44,1124.63 3827.41,1124.63 \n  \"/>\n<path clip-path=\"url(#clip672)\" d=\"\nM3878.44 1254.43 L3878.44 1384.24 L3929.48 1384.24 L3929.48 1254.43 L3878.44 1254.43 L3878.44 1254.43  Z\n  \" fill=\"#009af9\" fill-rule=\"evenodd\" fill-opacity=\"1\"/>\n<polyline clip-path=\"url(#clip672)\" style=\"stroke:#000000; stroke-linecap:round; stroke-linejoin:round; stroke-width:4; stroke-opacity:1; fill:none\" points=\"\n  3878.44,1254.43 3878.44,1384.24 3929.48,1384.24 3929.48,1254.43 3878.44,1254.43 \n  \"/>\n<path clip-path=\"url(#clip672)\" d=\"\nM3929.48 1384.24 L3929.48 1384.24 L3980.52 1384.24 L3980.52 1384.24 L3929.48 1384.24 L3929.48 1384.24  Z\n  \" fill=\"#009af9\" fill-rule=\"evenodd\" fill-opacity=\"1\"/>\n<polyline clip-path=\"url(#clip672)\" style=\"stroke:#000000; stroke-linecap:round; stroke-linejoin:round; stroke-width:4; stroke-opacity:1; fill:none\" points=\"\n  3929.48,1384.24 3929.48,1384.24 3980.52,1384.24 3929.48,1384.24 \n  \"/>\n<path clip-path=\"url(#clip672)\" d=\"\nM3980.52 1254.43 L3980.52 1384.24 L4031.55 1384.24 L4031.55 1254.43 L3980.52 1254.43 L3980.52 1254.43  Z\n  \" fill=\"#009af9\" fill-rule=\"evenodd\" fill-opacity=\"1\"/>\n<polyline clip-path=\"url(#clip672)\" style=\"stroke:#000000; stroke-linecap:round; stroke-linejoin:round; stroke-width:4; stroke-opacity:1; fill:none\" points=\"\n  3980.52,1254.43 3980.52,1384.24 4031.55,1384.24 4031.55,1254.43 3980.52,1254.43 \n  \"/>\n<path clip-path=\"url(#clip672)\" d=\"\nM4031.55 1124.63 L4031.55 1384.24 L4082.59 1384.24 L4082.59 1124.63 L4031.55 1124.63 L4031.55 1124.63  Z\n  \" fill=\"#009af9\" fill-rule=\"evenodd\" fill-opacity=\"1\"/>\n<polyline clip-path=\"url(#clip672)\" style=\"stroke:#000000; stroke-linecap:round; stroke-linejoin:round; stroke-width:4; stroke-opacity:1; fill:none\" points=\"\n  4031.55,1124.63 4031.55,1384.24 4082.59,1384.24 4082.59,1124.63 4031.55,1124.63 \n  \"/>\n<path clip-path=\"url(#clip672)\" d=\"\nM4082.59 1124.63 L4082.59 1384.24 L4133.63 1384.24 L4133.63 1124.63 L4082.59 1124.63 L4082.59 1124.63  Z\n  \" fill=\"#009af9\" fill-rule=\"evenodd\" fill-opacity=\"1\"/>\n<polyline clip-path=\"url(#clip672)\" style=\"stroke:#000000; stroke-linecap:round; stroke-linejoin:round; stroke-width:4; stroke-opacity:1; fill:none\" points=\"\n  4082.59,1124.63 4082.59,1384.24 4133.63,1384.24 4133.63,1124.63 4082.59,1124.63 \n  \"/>\n<path clip-path=\"url(#clip672)\" d=\"\nM4133.63 1124.63 L4133.63 1384.24 L4184.67 1384.24 L4184.67 1124.63 L4133.63 1124.63 L4133.63 1124.63  Z\n  \" fill=\"#009af9\" fill-rule=\"evenodd\" fill-opacity=\"1\"/>\n<polyline clip-path=\"url(#clip672)\" style=\"stroke:#000000; stroke-linecap:round; stroke-linejoin:round; stroke-width:4; stroke-opacity:1; fill:none\" points=\"\n  4133.63,1124.63 4133.63,1384.24 4184.67,1384.24 4184.67,1124.63 4133.63,1124.63 \n  \"/>\n<path clip-path=\"url(#clip672)\" d=\"\nM4184.67 1384.24 L4184.67 1384.24 L4235.7 1384.24 L4235.7 1384.24 L4184.67 1384.24 L4184.67 1384.24  Z\n  \" fill=\"#009af9\" fill-rule=\"evenodd\" fill-opacity=\"1\"/>\n<polyline clip-path=\"url(#clip672)\" style=\"stroke:#000000; stroke-linecap:round; stroke-linejoin:round; stroke-width:4; stroke-opacity:1; fill:none\" points=\"\n  4184.67,1384.24 4184.67,1384.24 4235.7,1384.24 4184.67,1384.24 \n  \"/>\n<path clip-path=\"url(#clip672)\" d=\"\nM4235.7 1384.24 L4235.7 1384.24 L4286.74 1384.24 L4286.74 1384.24 L4235.7 1384.24 L4235.7 1384.24  Z\n  \" fill=\"#009af9\" fill-rule=\"evenodd\" fill-opacity=\"1\"/>\n<polyline clip-path=\"url(#clip672)\" style=\"stroke:#000000; stroke-linecap:round; stroke-linejoin:round; stroke-width:4; stroke-opacity:1; fill:none\" points=\"\n  4235.7,1384.24 4235.7,1384.24 4286.74,1384.24 4235.7,1384.24 \n  \"/>\n<path clip-path=\"url(#clip672)\" d=\"\nM4286.74 1254.43 L4286.74 1384.24 L4337.78 1384.24 L4337.78 1254.43 L4286.74 1254.43 L4286.74 1254.43  Z\n  \" fill=\"#009af9\" fill-rule=\"evenodd\" fill-opacity=\"1\"/>\n<polyline clip-path=\"url(#clip672)\" style=\"stroke:#000000; stroke-linecap:round; stroke-linejoin:round; stroke-width:4; stroke-opacity:1; fill:none\" points=\"\n  4286.74,1254.43 4286.74,1384.24 4337.78,1384.24 4337.78,1254.43 4286.74,1254.43 \n  \"/>\n<path clip-path=\"url(#clip672)\" d=\"\nM4337.78 994.822 L4337.78 1384.24 L4388.81 1384.24 L4388.81 994.822 L4337.78 994.822 L4337.78 994.822  Z\n  \" fill=\"#009af9\" fill-rule=\"evenodd\" fill-opacity=\"1\"/>\n<polyline clip-path=\"url(#clip672)\" style=\"stroke:#000000; stroke-linecap:round; stroke-linejoin:round; stroke-width:4; stroke-opacity:1; fill:none\" points=\"\n  4337.78,994.822 4337.78,1384.24 4388.81,1384.24 4388.81,994.822 4337.78,994.822 \n  \"/>\n<path clip-path=\"url(#clip672)\" d=\"\nM4388.81 1124.63 L4388.81 1384.24 L4439.85 1384.24 L4439.85 1124.63 L4388.81 1124.63 L4388.81 1124.63  Z\n  \" fill=\"#009af9\" fill-rule=\"evenodd\" fill-opacity=\"1\"/>\n<polyline clip-path=\"url(#clip672)\" style=\"stroke:#000000; stroke-linecap:round; stroke-linejoin:round; stroke-width:4; stroke-opacity:1; fill:none\" points=\"\n  4388.81,1124.63 4388.81,1384.24 4439.85,1384.24 4439.85,1124.63 4388.81,1124.63 \n  \"/>\n<path clip-path=\"url(#clip672)\" d=\"\nM4439.85 735.212 L4439.85 1384.24 L4490.89 1384.24 L4490.89 735.212 L4439.85 735.212 L4439.85 735.212  Z\n  \" fill=\"#009af9\" fill-rule=\"evenodd\" fill-opacity=\"1\"/>\n<polyline clip-path=\"url(#clip672)\" style=\"stroke:#000000; stroke-linecap:round; stroke-linejoin:round; stroke-width:4; stroke-opacity:1; fill:none\" points=\"\n  4439.85,735.212 4439.85,1384.24 4490.89,1384.24 4490.89,735.212 4439.85,735.212 \n  \"/>\n<path clip-path=\"url(#clip672)\" d=\"\nM4490.89 1124.63 L4490.89 1384.24 L4541.92 1384.24 L4541.92 1124.63 L4490.89 1124.63 L4490.89 1124.63  Z\n  \" fill=\"#009af9\" fill-rule=\"evenodd\" fill-opacity=\"1\"/>\n<polyline clip-path=\"url(#clip672)\" style=\"stroke:#000000; stroke-linecap:round; stroke-linejoin:round; stroke-width:4; stroke-opacity:1; fill:none\" points=\"\n  4490.89,1124.63 4490.89,1384.24 4541.92,1384.24 4541.92,1124.63 4490.89,1124.63 \n  \"/>\n<path clip-path=\"url(#clip672)\" d=\"\nM4541.92 1254.43 L4541.92 1384.24 L4592.96 1384.24 L4592.96 1254.43 L4541.92 1254.43 L4541.92 1254.43  Z\n  \" fill=\"#009af9\" fill-rule=\"evenodd\" fill-opacity=\"1\"/>\n<polyline clip-path=\"url(#clip672)\" style=\"stroke:#000000; stroke-linecap:round; stroke-linejoin:round; stroke-width:4; stroke-opacity:1; fill:none\" points=\"\n  4541.92,1254.43 4541.92,1384.24 4592.96,1384.24 4592.96,1254.43 4541.92,1254.43 \n  \"/>\n<path clip-path=\"url(#clip672)\" d=\"\nM4592.96 1124.63 L4592.96 1384.24 L4644 1384.24 L4644 1124.63 L4592.96 1124.63 L4592.96 1124.63  Z\n  \" fill=\"#009af9\" fill-rule=\"evenodd\" fill-opacity=\"1\"/>\n<polyline clip-path=\"url(#clip672)\" style=\"stroke:#000000; stroke-linecap:round; stroke-linejoin:round; stroke-width:4; stroke-opacity:1; fill:none\" points=\"\n  4592.96,1124.63 4592.96,1384.24 4644,1384.24 4644,1124.63 4592.96,1124.63 \n  \"/>\n<path clip-path=\"url(#clip672)\" d=\"\nM4644 994.822 L4644 1384.24 L4695.04 1384.24 L4695.04 994.822 L4644 994.822 L4644 994.822  Z\n  \" fill=\"#009af9\" fill-rule=\"evenodd\" fill-opacity=\"1\"/>\n<polyline clip-path=\"url(#clip672)\" style=\"stroke:#000000; stroke-linecap:round; stroke-linejoin:round; stroke-width:4; stroke-opacity:1; fill:none\" points=\"\n  4644,994.822 4644,1384.24 4695.04,1384.24 4695.04,994.822 4644,994.822 \n  \"/>\n<path clip-path=\"url(#clip672)\" d=\"\nM4695.04 1254.43 L4695.04 1384.24 L4746.07 1384.24 L4746.07 1254.43 L4695.04 1254.43 L4695.04 1254.43  Z\n  \" fill=\"#009af9\" fill-rule=\"evenodd\" fill-opacity=\"1\"/>\n<polyline clip-path=\"url(#clip672)\" style=\"stroke:#000000; stroke-linecap:round; stroke-linejoin:round; stroke-width:4; stroke-opacity:1; fill:none\" points=\"\n  4695.04,1254.43 4695.04,1384.24 4746.07,1384.24 4746.07,1254.43 4695.04,1254.43 \n  \"/>\n<path clip-path=\"url(#clip672)\" d=\"\nM4746.07 1124.63 L4746.07 1384.24 L4797.11 1384.24 L4797.11 1124.63 L4746.07 1124.63 L4746.07 1124.63  Z\n  \" fill=\"#009af9\" fill-rule=\"evenodd\" fill-opacity=\"1\"/>\n<polyline clip-path=\"url(#clip672)\" style=\"stroke:#000000; stroke-linecap:round; stroke-linejoin:round; stroke-width:4; stroke-opacity:1; fill:none\" points=\"\n  4746.07,1124.63 4746.07,1384.24 4797.11,1384.24 4797.11,1124.63 4746.07,1124.63 \n  \"/>\n<path clip-path=\"url(#clip672)\" d=\"\nM4797.11 1384.24 L4797.11 1384.24 L4848.15 1384.24 L4848.15 1384.24 L4797.11 1384.24 L4797.11 1384.24  Z\n  \" fill=\"#009af9\" fill-rule=\"evenodd\" fill-opacity=\"1\"/>\n<polyline clip-path=\"url(#clip672)\" style=\"stroke:#000000; stroke-linecap:round; stroke-linejoin:round; stroke-width:4; stroke-opacity:1; fill:none\" points=\"\n  4797.11,1384.24 4797.11,1384.24 4848.15,1384.24 4797.11,1384.24 \n  \"/>\n<path clip-path=\"url(#clip672)\" d=\"\nM4848.15 1254.43 L4848.15 1384.24 L4899.18 1384.24 L4899.18 1254.43 L4848.15 1254.43 L4848.15 1254.43  Z\n  \" fill=\"#009af9\" fill-rule=\"evenodd\" fill-opacity=\"1\"/>\n<polyline clip-path=\"url(#clip672)\" style=\"stroke:#000000; stroke-linecap:round; stroke-linejoin:round; stroke-width:4; stroke-opacity:1; fill:none\" points=\"\n  4848.15,1254.43 4848.15,1384.24 4899.18,1384.24 4899.18,1254.43 4848.15,1254.43 \n  \"/>\n<path clip-path=\"url(#clip672)\" d=\"\nM4899.18 1384.24 L4899.18 1384.24 L4950.22 1384.24 L4950.22 1384.24 L4899.18 1384.24 L4899.18 1384.24  Z\n  \" fill=\"#009af9\" fill-rule=\"evenodd\" fill-opacity=\"1\"/>\n<polyline clip-path=\"url(#clip672)\" style=\"stroke:#000000; stroke-linecap:round; stroke-linejoin:round; stroke-width:4; stroke-opacity:1; fill:none\" points=\"\n  4899.18,1384.24 4899.18,1384.24 4950.22,1384.24 4899.18,1384.24 \n  \"/>\n<path clip-path=\"url(#clip672)\" d=\"\nM4950.22 1124.63 L4950.22 1384.24 L5001.26 1384.24 L5001.26 1124.63 L4950.22 1124.63 L4950.22 1124.63  Z\n  \" fill=\"#009af9\" fill-rule=\"evenodd\" fill-opacity=\"1\"/>\n<polyline clip-path=\"url(#clip672)\" style=\"stroke:#000000; stroke-linecap:round; stroke-linejoin:round; stroke-width:4; stroke-opacity:1; fill:none\" points=\"\n  4950.22,1124.63 4950.22,1384.24 5001.26,1384.24 5001.26,1124.63 4950.22,1124.63 \n  \"/>\n<path clip-path=\"url(#clip672)\" d=\"\nM5001.26 1124.63 L5001.26 1384.24 L5052.29 1384.24 L5052.29 1124.63 L5001.26 1124.63 L5001.26 1124.63  Z\n  \" fill=\"#009af9\" fill-rule=\"evenodd\" fill-opacity=\"1\"/>\n<polyline clip-path=\"url(#clip672)\" style=\"stroke:#000000; stroke-linecap:round; stroke-linejoin:round; stroke-width:4; stroke-opacity:1; fill:none\" points=\"\n  5001.26,1124.63 5001.26,1384.24 5052.29,1384.24 5052.29,1124.63 5001.26,1124.63 \n  \"/>\n<path clip-path=\"url(#clip672)\" d=\"\nM5052.29 1124.63 L5052.29 1384.24 L5103.33 1384.24 L5103.33 1124.63 L5052.29 1124.63 L5052.29 1124.63  Z\n  \" fill=\"#009af9\" fill-rule=\"evenodd\" fill-opacity=\"1\"/>\n<polyline clip-path=\"url(#clip672)\" style=\"stroke:#000000; stroke-linecap:round; stroke-linejoin:round; stroke-width:4; stroke-opacity:1; fill:none\" points=\"\n  5052.29,1124.63 5052.29,1384.24 5103.33,1384.24 5103.33,1124.63 5052.29,1124.63 \n  \"/>\n<path clip-path=\"url(#clip672)\" d=\"\nM5103.33 1254.43 L5103.33 1384.24 L5154.37 1384.24 L5154.37 1254.43 L5103.33 1254.43 L5103.33 1254.43  Z\n  \" fill=\"#009af9\" fill-rule=\"evenodd\" fill-opacity=\"1\"/>\n<polyline clip-path=\"url(#clip672)\" style=\"stroke:#000000; stroke-linecap:round; stroke-linejoin:round; stroke-width:4; stroke-opacity:1; fill:none\" points=\"\n  5103.33,1254.43 5103.33,1384.24 5154.37,1384.24 5154.37,1254.43 5103.33,1254.43 \n  \"/>\n<path clip-path=\"url(#clip672)\" d=\"\nM5154.37 994.822 L5154.37 1384.24 L5205.41 1384.24 L5205.41 994.822 L5154.37 994.822 L5154.37 994.822  Z\n  \" fill=\"#009af9\" fill-rule=\"evenodd\" fill-opacity=\"1\"/>\n<polyline clip-path=\"url(#clip672)\" style=\"stroke:#000000; stroke-linecap:round; stroke-linejoin:round; stroke-width:4; stroke-opacity:1; fill:none\" points=\"\n  5154.37,994.822 5154.37,1384.24 5205.41,1384.24 5205.41,994.822 5154.37,994.822 \n  \"/>\n<path clip-path=\"url(#clip672)\" d=\"\nM5205.41 1254.43 L5205.41 1384.24 L5256.44 1384.24 L5256.44 1254.43 L5205.41 1254.43 L5205.41 1254.43  Z\n  \" fill=\"#009af9\" fill-rule=\"evenodd\" fill-opacity=\"1\"/>\n<polyline clip-path=\"url(#clip672)\" style=\"stroke:#000000; stroke-linecap:round; stroke-linejoin:round; stroke-width:4; stroke-opacity:1; fill:none\" points=\"\n  5205.41,1254.43 5205.41,1384.24 5256.44,1384.24 5256.44,1254.43 5205.41,1254.43 \n  \"/>\n<path clip-path=\"url(#clip672)\" d=\"\nM5256.44 1254.43 L5256.44 1384.24 L5307.48 1384.24 L5307.48 1254.43 L5256.44 1254.43 L5256.44 1254.43  Z\n  \" fill=\"#009af9\" fill-rule=\"evenodd\" fill-opacity=\"1\"/>\n<polyline clip-path=\"url(#clip672)\" style=\"stroke:#000000; stroke-linecap:round; stroke-linejoin:round; stroke-width:4; stroke-opacity:1; fill:none\" points=\"\n  5256.44,1254.43 5256.44,1384.24 5307.48,1384.24 5307.48,1254.43 5256.44,1254.43 \n  \"/>\n<path clip-path=\"url(#clip672)\" d=\"\nM5307.48 1254.43 L5307.48 1384.24 L5358.52 1384.24 L5358.52 1254.43 L5307.48 1254.43 L5307.48 1254.43  Z\n  \" fill=\"#009af9\" fill-rule=\"evenodd\" fill-opacity=\"1\"/>\n<polyline clip-path=\"url(#clip672)\" style=\"stroke:#000000; stroke-linecap:round; stroke-linejoin:round; stroke-width:4; stroke-opacity:1; fill:none\" points=\"\n  5307.48,1254.43 5307.48,1384.24 5358.52,1384.24 5358.52,1254.43 5307.48,1254.43 \n  \"/>\n<path clip-path=\"url(#clip672)\" d=\"\nM5358.52 1254.43 L5358.52 1384.24 L5409.55 1384.24 L5409.55 1254.43 L5358.52 1254.43 L5358.52 1254.43  Z\n  \" fill=\"#009af9\" fill-rule=\"evenodd\" fill-opacity=\"1\"/>\n<polyline clip-path=\"url(#clip672)\" style=\"stroke:#000000; stroke-linecap:round; stroke-linejoin:round; stroke-width:4; stroke-opacity:1; fill:none\" points=\"\n  5358.52,1254.43 5358.52,1384.24 5409.55,1384.24 5409.55,1254.43 5358.52,1254.43 \n  \"/>\n<path clip-path=\"url(#clip672)\" d=\"\nM5409.55 1384.24 L5409.55 1384.24 L5460.59 1384.24 L5460.59 1384.24 L5409.55 1384.24 L5409.55 1384.24  Z\n  \" fill=\"#009af9\" fill-rule=\"evenodd\" fill-opacity=\"1\"/>\n<polyline clip-path=\"url(#clip672)\" style=\"stroke:#000000; stroke-linecap:round; stroke-linejoin:round; stroke-width:4; stroke-opacity:1; fill:none\" points=\"\n  5409.55,1384.24 5409.55,1384.24 5460.59,1384.24 5409.55,1384.24 \n  \"/>\n<path clip-path=\"url(#clip672)\" d=\"\nM5460.59 1254.43 L5460.59 1384.24 L5511.63 1384.24 L5511.63 1254.43 L5460.59 1254.43 L5460.59 1254.43  Z\n  \" fill=\"#009af9\" fill-rule=\"evenodd\" fill-opacity=\"1\"/>\n<polyline clip-path=\"url(#clip672)\" style=\"stroke:#000000; stroke-linecap:round; stroke-linejoin:round; stroke-width:4; stroke-opacity:1; fill:none\" points=\"\n  5460.59,1254.43 5460.59,1384.24 5511.63,1384.24 5511.63,1254.43 5460.59,1254.43 \n  \"/>\n<path clip-path=\"url(#clip672)\" d=\"\nM5511.63 1254.43 L5511.63 1384.24 L5562.66 1384.24 L5562.66 1254.43 L5511.63 1254.43 L5511.63 1254.43  Z\n  \" fill=\"#009af9\" fill-rule=\"evenodd\" fill-opacity=\"1\"/>\n<polyline clip-path=\"url(#clip672)\" style=\"stroke:#000000; stroke-linecap:round; stroke-linejoin:round; stroke-width:4; stroke-opacity:1; fill:none\" points=\"\n  5511.63,1254.43 5511.63,1384.24 5562.66,1384.24 5562.66,1254.43 5511.63,1254.43 \n  \"/>\n<path clip-path=\"url(#clip672)\" d=\"\nM5562.66 1384.24 L5562.66 1384.24 L5613.7 1384.24 L5613.7 1384.24 L5562.66 1384.24 L5562.66 1384.24  Z\n  \" fill=\"#009af9\" fill-rule=\"evenodd\" fill-opacity=\"1\"/>\n<polyline clip-path=\"url(#clip672)\" style=\"stroke:#000000; stroke-linecap:round; stroke-linejoin:round; stroke-width:4; stroke-opacity:1; fill:none\" points=\"\n  5562.66,1384.24 5562.66,1384.24 5613.7,1384.24 5562.66,1384.24 \n  \"/>\n<path clip-path=\"url(#clip672)\" d=\"\nM5613.7 1124.63 L5613.7 1384.24 L5664.74 1384.24 L5664.74 1124.63 L5613.7 1124.63 L5613.7 1124.63  Z\n  \" fill=\"#009af9\" fill-rule=\"evenodd\" fill-opacity=\"1\"/>\n<polyline clip-path=\"url(#clip672)\" style=\"stroke:#000000; stroke-linecap:round; stroke-linejoin:round; stroke-width:4; stroke-opacity:1; fill:none\" points=\"\n  5613.7,1124.63 5613.7,1384.24 5664.74,1384.24 5664.74,1124.63 5613.7,1124.63 \n  \"/>\n<path clip-path=\"url(#clip672)\" d=\"\nM5664.74 1384.24 L5664.74 1384.24 L5715.78 1384.24 L5715.78 1384.24 L5664.74 1384.24 L5664.74 1384.24  Z\n  \" fill=\"#009af9\" fill-rule=\"evenodd\" fill-opacity=\"1\"/>\n<polyline clip-path=\"url(#clip672)\" style=\"stroke:#000000; stroke-linecap:round; stroke-linejoin:round; stroke-width:4; stroke-opacity:1; fill:none\" points=\"\n  5664.74,1384.24 5664.74,1384.24 5715.78,1384.24 5664.74,1384.24 \n  \"/>\n<path clip-path=\"url(#clip672)\" d=\"\nM5715.78 1254.43 L5715.78 1384.24 L5766.81 1384.24 L5766.81 1254.43 L5715.78 1254.43 L5715.78 1254.43  Z\n  \" fill=\"#009af9\" fill-rule=\"evenodd\" fill-opacity=\"1\"/>\n<polyline clip-path=\"url(#clip672)\" style=\"stroke:#000000; stroke-linecap:round; stroke-linejoin:round; stroke-width:4; stroke-opacity:1; fill:none\" points=\"\n  5715.78,1254.43 5715.78,1384.24 5766.81,1384.24 5766.81,1254.43 5715.78,1254.43 \n  \"/>\n<path clip-path=\"url(#clip672)\" d=\"\nM5766.81 1384.24 L5766.81 1384.24 L5817.85 1384.24 L5817.85 1384.24 L5766.81 1384.24 L5766.81 1384.24  Z\n  \" fill=\"#009af9\" fill-rule=\"evenodd\" fill-opacity=\"1\"/>\n<polyline clip-path=\"url(#clip672)\" style=\"stroke:#000000; stroke-linecap:round; stroke-linejoin:round; stroke-width:4; stroke-opacity:1; fill:none\" points=\"\n  5766.81,1384.24 5766.81,1384.24 5817.85,1384.24 5766.81,1384.24 \n  \"/>\n<path clip-path=\"url(#clip672)\" d=\"\nM5817.85 1384.24 L5817.85 1384.24 L5868.89 1384.24 L5868.89 1384.24 L5817.85 1384.24 L5817.85 1384.24  Z\n  \" fill=\"#009af9\" fill-rule=\"evenodd\" fill-opacity=\"1\"/>\n<polyline clip-path=\"url(#clip672)\" style=\"stroke:#000000; stroke-linecap:round; stroke-linejoin:round; stroke-width:4; stroke-opacity:1; fill:none\" points=\"\n  5817.85,1384.24 5817.85,1384.24 5868.89,1384.24 5817.85,1384.24 \n  \"/>\n<path clip-path=\"url(#clip672)\" d=\"\nM5868.89 605.407 L5868.89 1384.24 L5919.92 1384.24 L5919.92 605.407 L5868.89 605.407 L5868.89 605.407  Z\n  \" fill=\"#009af9\" fill-rule=\"evenodd\" fill-opacity=\"1\"/>\n<polyline clip-path=\"url(#clip672)\" style=\"stroke:#000000; stroke-linecap:round; stroke-linejoin:round; stroke-width:4; stroke-opacity:1; fill:none\" points=\"\n  5868.89,605.407 5868.89,1384.24 5919.92,1384.24 5919.92,605.407 5868.89,605.407 \n  \"/>\n<path clip-path=\"url(#clip672)\" d=\"\nM5919.92 1254.43 L5919.92 1384.24 L5970.96 1384.24 L5970.96 1254.43 L5919.92 1254.43 L5919.92 1254.43  Z\n  \" fill=\"#009af9\" fill-rule=\"evenodd\" fill-opacity=\"1\"/>\n<polyline clip-path=\"url(#clip672)\" style=\"stroke:#000000; stroke-linecap:round; stroke-linejoin:round; stroke-width:4; stroke-opacity:1; fill:none\" points=\"\n  5919.92,1254.43 5919.92,1384.24 5970.96,1384.24 5970.96,1254.43 5919.92,1254.43 \n  \"/>\n<path clip-path=\"url(#clip672)\" d=\"\nM5970.96 1384.24 L5970.96 1384.24 L6022 1384.24 L6022 1384.24 L5970.96 1384.24 L5970.96 1384.24  Z\n  \" fill=\"#009af9\" fill-rule=\"evenodd\" fill-opacity=\"1\"/>\n<polyline clip-path=\"url(#clip672)\" style=\"stroke:#000000; stroke-linecap:round; stroke-linejoin:round; stroke-width:4; stroke-opacity:1; fill:none\" points=\"\n  5970.96,1384.24 5970.96,1384.24 6022,1384.24 5970.96,1384.24 \n  \"/>\n<path clip-path=\"url(#clip672)\" d=\"\nM6022 1254.43 L6022 1384.24 L6073.03 1384.24 L6073.03 1254.43 L6022 1254.43 L6022 1254.43  Z\n  \" fill=\"#009af9\" fill-rule=\"evenodd\" fill-opacity=\"1\"/>\n<polyline clip-path=\"url(#clip672)\" style=\"stroke:#000000; stroke-linecap:round; stroke-linejoin:round; stroke-width:4; stroke-opacity:1; fill:none\" points=\"\n  6022,1254.43 6022,1384.24 6073.03,1384.24 6073.03,1254.43 6022,1254.43 \n  \"/>\n<path clip-path=\"url(#clip672)\" d=\"\nM6073.03 994.822 L6073.03 1384.24 L6124.07 1384.24 L6124.07 994.822 L6073.03 994.822 L6073.03 994.822  Z\n  \" fill=\"#009af9\" fill-rule=\"evenodd\" fill-opacity=\"1\"/>\n<polyline clip-path=\"url(#clip672)\" style=\"stroke:#000000; stroke-linecap:round; stroke-linejoin:round; stroke-width:4; stroke-opacity:1; fill:none\" points=\"\n  6073.03,994.822 6073.03,1384.24 6124.07,1384.24 6124.07,994.822 6073.03,994.822 \n  \"/>\n<path clip-path=\"url(#clip672)\" d=\"\nM6124.07 1254.43 L6124.07 1384.24 L6175.11 1384.24 L6175.11 1254.43 L6124.07 1254.43 L6124.07 1254.43  Z\n  \" fill=\"#009af9\" fill-rule=\"evenodd\" fill-opacity=\"1\"/>\n<polyline clip-path=\"url(#clip672)\" style=\"stroke:#000000; stroke-linecap:round; stroke-linejoin:round; stroke-width:4; stroke-opacity:1; fill:none\" points=\"\n  6124.07,1254.43 6124.07,1384.24 6175.11,1384.24 6175.11,1254.43 6124.07,1254.43 \n  \"/>\n<path clip-path=\"url(#clip672)\" d=\"\nM6175.11 1254.43 L6175.11 1384.24 L6226.15 1384.24 L6226.15 1254.43 L6175.11 1254.43 L6175.11 1254.43  Z\n  \" fill=\"#009af9\" fill-rule=\"evenodd\" fill-opacity=\"1\"/>\n<polyline clip-path=\"url(#clip672)\" style=\"stroke:#000000; stroke-linecap:round; stroke-linejoin:round; stroke-width:4; stroke-opacity:1; fill:none\" points=\"\n  6175.11,1254.43 6175.11,1384.24 6226.15,1384.24 6226.15,1254.43 6175.11,1254.43 \n  \"/>\n<path clip-path=\"url(#clip672)\" d=\"\nM6226.15 1384.24 L6226.15 1384.24 L6277.18 1384.24 L6277.18 1384.24 L6226.15 1384.24 L6226.15 1384.24  Z\n  \" fill=\"#009af9\" fill-rule=\"evenodd\" fill-opacity=\"1\"/>\n<polyline clip-path=\"url(#clip672)\" style=\"stroke:#000000; stroke-linecap:round; stroke-linejoin:round; stroke-width:4; stroke-opacity:1; fill:none\" points=\"\n  6226.15,1384.24 6226.15,1384.24 6277.18,1384.24 6226.15,1384.24 \n  \"/>\n<path clip-path=\"url(#clip672)\" d=\"\nM6277.18 1384.24 L6277.18 1384.24 L6328.22 1384.24 L6328.22 1384.24 L6277.18 1384.24 L6277.18 1384.24  Z\n  \" fill=\"#009af9\" fill-rule=\"evenodd\" fill-opacity=\"1\"/>\n<polyline clip-path=\"url(#clip672)\" style=\"stroke:#000000; stroke-linecap:round; stroke-linejoin:round; stroke-width:4; stroke-opacity:1; fill:none\" points=\"\n  6277.18,1384.24 6277.18,1384.24 6328.22,1384.24 6277.18,1384.24 \n  \"/>\n<path clip-path=\"url(#clip672)\" d=\"\nM6328.22 1384.24 L6328.22 1384.24 L6379.26 1384.24 L6379.26 1384.24 L6328.22 1384.24 L6328.22 1384.24  Z\n  \" fill=\"#009af9\" fill-rule=\"evenodd\" fill-opacity=\"1\"/>\n<polyline clip-path=\"url(#clip672)\" style=\"stroke:#000000; stroke-linecap:round; stroke-linejoin:round; stroke-width:4; stroke-opacity:1; fill:none\" points=\"\n  6328.22,1384.24 6328.22,1384.24 6379.26,1384.24 6328.22,1384.24 \n  \"/>\n<path clip-path=\"url(#clip672)\" d=\"\nM6379.26 1384.24 L6379.26 1384.24 L6430.29 1384.24 L6430.29 1384.24 L6379.26 1384.24 L6379.26 1384.24  Z\n  \" fill=\"#009af9\" fill-rule=\"evenodd\" fill-opacity=\"1\"/>\n<polyline clip-path=\"url(#clip672)\" style=\"stroke:#000000; stroke-linecap:round; stroke-linejoin:round; stroke-width:4; stroke-opacity:1; fill:none\" points=\"\n  6379.26,1384.24 6379.26,1384.24 6430.29,1384.24 6379.26,1384.24 \n  \"/>\n<path clip-path=\"url(#clip672)\" d=\"\nM6430.29 1124.63 L6430.29 1384.24 L6481.33 1384.24 L6481.33 1124.63 L6430.29 1124.63 L6430.29 1124.63  Z\n  \" fill=\"#009af9\" fill-rule=\"evenodd\" fill-opacity=\"1\"/>\n<polyline clip-path=\"url(#clip672)\" style=\"stroke:#000000; stroke-linecap:round; stroke-linejoin:round; stroke-width:4; stroke-opacity:1; fill:none\" points=\"\n  6430.29,1124.63 6430.29,1384.24 6481.33,1384.24 6481.33,1124.63 6430.29,1124.63 \n  \"/>\n<path clip-path=\"url(#clip672)\" d=\"\nM6481.33 1254.43 L6481.33 1384.24 L6532.37 1384.24 L6532.37 1254.43 L6481.33 1254.43 L6481.33 1254.43  Z\n  \" fill=\"#009af9\" fill-rule=\"evenodd\" fill-opacity=\"1\"/>\n<polyline clip-path=\"url(#clip672)\" style=\"stroke:#000000; stroke-linecap:round; stroke-linejoin:round; stroke-width:4; stroke-opacity:1; fill:none\" points=\"\n  6481.33,1254.43 6481.33,1384.24 6532.37,1384.24 6532.37,1254.43 6481.33,1254.43 \n  \"/>\n<path clip-path=\"url(#clip672)\" d=\"\nM6532.37 1124.63 L6532.37 1384.24 L6583.4 1384.24 L6583.4 1124.63 L6532.37 1124.63 L6532.37 1124.63  Z\n  \" fill=\"#009af9\" fill-rule=\"evenodd\" fill-opacity=\"1\"/>\n<polyline clip-path=\"url(#clip672)\" style=\"stroke:#000000; stroke-linecap:round; stroke-linejoin:round; stroke-width:4; stroke-opacity:1; fill:none\" points=\"\n  6532.37,1124.63 6532.37,1384.24 6583.4,1384.24 6583.4,1124.63 6532.37,1124.63 \n  \"/>\n<path clip-path=\"url(#clip672)\" d=\"\nM6583.4 1384.24 L6583.4 1384.24 L6634.44 1384.24 L6634.44 1384.24 L6583.4 1384.24 L6583.4 1384.24  Z\n  \" fill=\"#009af9\" fill-rule=\"evenodd\" fill-opacity=\"1\"/>\n<polyline clip-path=\"url(#clip672)\" style=\"stroke:#000000; stroke-linecap:round; stroke-linejoin:round; stroke-width:4; stroke-opacity:1; fill:none\" points=\"\n  6583.4,1384.24 6583.4,1384.24 6634.44,1384.24 6583.4,1384.24 \n  \"/>\n<path clip-path=\"url(#clip672)\" d=\"\nM6634.44 1384.24 L6634.44 1384.24 L6685.48 1384.24 L6685.48 1384.24 L6634.44 1384.24 L6634.44 1384.24  Z\n  \" fill=\"#009af9\" fill-rule=\"evenodd\" fill-opacity=\"1\"/>\n<polyline clip-path=\"url(#clip672)\" style=\"stroke:#000000; stroke-linecap:round; stroke-linejoin:round; stroke-width:4; stroke-opacity:1; fill:none\" points=\"\n  6634.44,1384.24 6634.44,1384.24 6685.48,1384.24 6634.44,1384.24 \n  \"/>\n<path clip-path=\"url(#clip672)\" d=\"\nM6685.48 1384.24 L6685.48 1384.24 L6736.52 1384.24 L6736.52 1384.24 L6685.48 1384.24 L6685.48 1384.24  Z\n  \" fill=\"#009af9\" fill-rule=\"evenodd\" fill-opacity=\"1\"/>\n<polyline clip-path=\"url(#clip672)\" style=\"stroke:#000000; stroke-linecap:round; stroke-linejoin:round; stroke-width:4; stroke-opacity:1; fill:none\" points=\"\n  6685.48,1384.24 6685.48,1384.24 6736.52,1384.24 6685.48,1384.24 \n  \"/>\n<path clip-path=\"url(#clip672)\" d=\"\nM6736.52 1384.24 L6736.52 1384.24 L6787.55 1384.24 L6787.55 1384.24 L6736.52 1384.24 L6736.52 1384.24  Z\n  \" fill=\"#009af9\" fill-rule=\"evenodd\" fill-opacity=\"1\"/>\n<polyline clip-path=\"url(#clip672)\" style=\"stroke:#000000; stroke-linecap:round; stroke-linejoin:round; stroke-width:4; stroke-opacity:1; fill:none\" points=\"\n  6736.52,1384.24 6736.52,1384.24 6787.55,1384.24 6736.52,1384.24 \n  \"/>\n<path clip-path=\"url(#clip672)\" d=\"\nM6787.55 1384.24 L6787.55 1384.24 L6838.59 1384.24 L6838.59 1384.24 L6787.55 1384.24 L6787.55 1384.24  Z\n  \" fill=\"#009af9\" fill-rule=\"evenodd\" fill-opacity=\"1\"/>\n<polyline clip-path=\"url(#clip672)\" style=\"stroke:#000000; stroke-linecap:round; stroke-linejoin:round; stroke-width:4; stroke-opacity:1; fill:none\" points=\"\n  6787.55,1384.24 6787.55,1384.24 6838.59,1384.24 6787.55,1384.24 \n  \"/>\n<path clip-path=\"url(#clip672)\" d=\"\nM6838.59 1254.43 L6838.59 1384.24 L6889.63 1384.24 L6889.63 1254.43 L6838.59 1254.43 L6838.59 1254.43  Z\n  \" fill=\"#009af9\" fill-rule=\"evenodd\" fill-opacity=\"1\"/>\n<polyline clip-path=\"url(#clip672)\" style=\"stroke:#000000; stroke-linecap:round; stroke-linejoin:round; stroke-width:4; stroke-opacity:1; fill:none\" points=\"\n  6838.59,1254.43 6838.59,1384.24 6889.63,1384.24 6889.63,1254.43 6838.59,1254.43 \n  \"/>\n<path clip-path=\"url(#clip672)\" d=\"\nM6889.63 1384.24 L6889.63 1384.24 L6940.66 1384.24 L6940.66 1384.24 L6889.63 1384.24 L6889.63 1384.24  Z\n  \" fill=\"#009af9\" fill-rule=\"evenodd\" fill-opacity=\"1\"/>\n<polyline clip-path=\"url(#clip672)\" style=\"stroke:#000000; stroke-linecap:round; stroke-linejoin:round; stroke-width:4; stroke-opacity:1; fill:none\" points=\"\n  6889.63,1384.24 6889.63,1384.24 6940.66,1384.24 6889.63,1384.24 \n  \"/>\n<path clip-path=\"url(#clip672)\" d=\"\nM6940.66 1384.24 L6940.66 1384.24 L6991.7 1384.24 L6991.7 1384.24 L6940.66 1384.24 L6940.66 1384.24  Z\n  \" fill=\"#009af9\" fill-rule=\"evenodd\" fill-opacity=\"1\"/>\n<polyline clip-path=\"url(#clip672)\" style=\"stroke:#000000; stroke-linecap:round; stroke-linejoin:round; stroke-width:4; stroke-opacity:1; fill:none\" points=\"\n  6940.66,1384.24 6940.66,1384.24 6991.7,1384.24 6940.66,1384.24 \n  \"/>\n<path clip-path=\"url(#clip672)\" d=\"\nM6991.7 1384.24 L6991.7 1384.24 L7042.74 1384.24 L7042.74 1384.24 L6991.7 1384.24 L6991.7 1384.24  Z\n  \" fill=\"#009af9\" fill-rule=\"evenodd\" fill-opacity=\"1\"/>\n<polyline clip-path=\"url(#clip672)\" style=\"stroke:#000000; stroke-linecap:round; stroke-linejoin:round; stroke-width:4; stroke-opacity:1; fill:none\" points=\"\n  6991.7,1384.24 6991.7,1384.24 7042.74,1384.24 6991.7,1384.24 \n  \"/>\n<path clip-path=\"url(#clip672)\" d=\"\nM7042.74 1384.24 L7042.74 1384.24 L7093.77 1384.24 L7093.77 1384.24 L7042.74 1384.24 L7042.74 1384.24  Z\n  \" fill=\"#009af9\" fill-rule=\"evenodd\" fill-opacity=\"1\"/>\n<polyline clip-path=\"url(#clip672)\" style=\"stroke:#000000; stroke-linecap:round; stroke-linejoin:round; stroke-width:4; stroke-opacity:1; fill:none\" points=\"\n  7042.74,1384.24 7042.74,1384.24 7093.77,1384.24 7042.74,1384.24 \n  \"/>\n<path clip-path=\"url(#clip672)\" d=\"\nM7093.77 1384.24 L7093.77 1384.24 L7144.81 1384.24 L7144.81 1384.24 L7093.77 1384.24 L7093.77 1384.24  Z\n  \" fill=\"#009af9\" fill-rule=\"evenodd\" fill-opacity=\"1\"/>\n<polyline clip-path=\"url(#clip672)\" style=\"stroke:#000000; stroke-linecap:round; stroke-linejoin:round; stroke-width:4; stroke-opacity:1; fill:none\" points=\"\n  7093.77,1384.24 7093.77,1384.24 7144.81,1384.24 7093.77,1384.24 \n  \"/>\n<path clip-path=\"url(#clip672)\" d=\"\nM7144.81 1254.43 L7144.81 1384.24 L7195.85 1384.24 L7195.85 1254.43 L7144.81 1254.43 L7144.81 1254.43  Z\n  \" fill=\"#009af9\" fill-rule=\"evenodd\" fill-opacity=\"1\"/>\n<polyline clip-path=\"url(#clip672)\" style=\"stroke:#000000; stroke-linecap:round; stroke-linejoin:round; stroke-width:4; stroke-opacity:1; fill:none\" points=\"\n  7144.81,1254.43 7144.81,1384.24 7195.85,1384.24 7195.85,1254.43 7144.81,1254.43 \n  \"/>\n<path clip-path=\"url(#clip672)\" d=\"\nM7195.85 1254.43 L7195.85 1384.24 L7246.89 1384.24 L7246.89 1254.43 L7195.85 1254.43 L7195.85 1254.43  Z\n  \" fill=\"#009af9\" fill-rule=\"evenodd\" fill-opacity=\"1\"/>\n<polyline clip-path=\"url(#clip672)\" style=\"stroke:#000000; stroke-linecap:round; stroke-linejoin:round; stroke-width:4; stroke-opacity:1; fill:none\" points=\"\n  7195.85,1254.43 7195.85,1384.24 7246.89,1384.24 7246.89,1254.43 7195.85,1254.43 \n  \"/>\n<path clip-path=\"url(#clip672)\" d=\"\nM7246.89 1254.43 L7246.89 1384.24 L7297.92 1384.24 L7297.92 1254.43 L7246.89 1254.43 L7246.89 1254.43  Z\n  \" fill=\"#009af9\" fill-rule=\"evenodd\" fill-opacity=\"1\"/>\n<polyline clip-path=\"url(#clip672)\" style=\"stroke:#000000; stroke-linecap:round; stroke-linejoin:round; stroke-width:4; stroke-opacity:1; fill:none\" points=\"\n  7246.89,1254.43 7246.89,1384.24 7297.92,1384.24 7297.92,1254.43 7246.89,1254.43 \n  \"/>\n<path clip-path=\"url(#clip672)\" d=\"\nM7297.92 1384.24 L7297.92 1384.24 L7348.96 1384.24 L7348.96 1384.24 L7297.92 1384.24 L7297.92 1384.24  Z\n  \" fill=\"#009af9\" fill-rule=\"evenodd\" fill-opacity=\"1\"/>\n<polyline clip-path=\"url(#clip672)\" style=\"stroke:#000000; stroke-linecap:round; stroke-linejoin:round; stroke-width:4; stroke-opacity:1; fill:none\" points=\"\n  7297.92,1384.24 7297.92,1384.24 7348.96,1384.24 7297.92,1384.24 \n  \"/>\n<path clip-path=\"url(#clip672)\" d=\"\nM7348.96 1384.24 L7348.96 1384.24 L7400 1384.24 L7400 1384.24 L7348.96 1384.24 L7348.96 1384.24  Z\n  \" fill=\"#009af9\" fill-rule=\"evenodd\" fill-opacity=\"1\"/>\n<polyline clip-path=\"url(#clip672)\" style=\"stroke:#000000; stroke-linecap:round; stroke-linejoin:round; stroke-width:4; stroke-opacity:1; fill:none\" points=\"\n  7348.96,1384.24 7348.96,1384.24 7400,1384.24 7348.96,1384.24 \n  \"/>\n<path clip-path=\"url(#clip672)\" d=\"\nM7400 1254.43 L7400 1384.24 L7451.03 1384.24 L7451.03 1254.43 L7400 1254.43 L7400 1254.43  Z\n  \" fill=\"#009af9\" fill-rule=\"evenodd\" fill-opacity=\"1\"/>\n<polyline clip-path=\"url(#clip672)\" style=\"stroke:#000000; stroke-linecap:round; stroke-linejoin:round; stroke-width:4; stroke-opacity:1; fill:none\" points=\"\n  7400,1254.43 7400,1384.24 7451.03,1384.24 7451.03,1254.43 7400,1254.43 \n  \"/>\n<path clip-path=\"url(#clip672)\" d=\"\nM7451.03 1254.43 L7451.03 1384.24 L7502.07 1384.24 L7502.07 1254.43 L7451.03 1254.43 L7451.03 1254.43  Z\n  \" fill=\"#009af9\" fill-rule=\"evenodd\" fill-opacity=\"1\"/>\n<polyline clip-path=\"url(#clip672)\" style=\"stroke:#000000; stroke-linecap:round; stroke-linejoin:round; stroke-width:4; stroke-opacity:1; fill:none\" points=\"\n  7451.03,1254.43 7451.03,1384.24 7502.07,1384.24 7502.07,1254.43 7451.03,1254.43 \n  \"/>\n<path clip-path=\"url(#clip672)\" d=\"\nM7502.07 1384.24 L7502.07 1384.24 L7553.11 1384.24 L7553.11 1384.24 L7502.07 1384.24 L7502.07 1384.24  Z\n  \" fill=\"#009af9\" fill-rule=\"evenodd\" fill-opacity=\"1\"/>\n<polyline clip-path=\"url(#clip672)\" style=\"stroke:#000000; stroke-linecap:round; stroke-linejoin:round; stroke-width:4; stroke-opacity:1; fill:none\" points=\"\n  7502.07,1384.24 7502.07,1384.24 7553.11,1384.24 7502.07,1384.24 \n  \"/>\n<path clip-path=\"url(#clip672)\" d=\"\nM7553.11 1384.24 L7553.11 1384.24 L7604.15 1384.24 L7604.15 1384.24 L7553.11 1384.24 L7553.11 1384.24  Z\n  \" fill=\"#009af9\" fill-rule=\"evenodd\" fill-opacity=\"1\"/>\n<polyline clip-path=\"url(#clip672)\" style=\"stroke:#000000; stroke-linecap:round; stroke-linejoin:round; stroke-width:4; stroke-opacity:1; fill:none\" points=\"\n  7553.11,1384.24 7553.11,1384.24 7604.15,1384.24 7553.11,1384.24 \n  \"/>\n<path clip-path=\"url(#clip672)\" d=\"\nM7604.15 1254.43 L7604.15 1384.24 L7655.18 1384.24 L7655.18 1254.43 L7604.15 1254.43 L7604.15 1254.43  Z\n  \" fill=\"#009af9\" fill-rule=\"evenodd\" fill-opacity=\"1\"/>\n<polyline clip-path=\"url(#clip672)\" style=\"stroke:#000000; stroke-linecap:round; stroke-linejoin:round; stroke-width:4; stroke-opacity:1; fill:none\" points=\"\n  7604.15,1254.43 7604.15,1384.24 7655.18,1384.24 7655.18,1254.43 7604.15,1254.43 \n  \"/>\n<path clip-path=\"url(#clip672)\" d=\"\nM7655.18 1384.24 L7655.18 1384.24 L7706.22 1384.24 L7706.22 1384.24 L7655.18 1384.24 L7655.18 1384.24  Z\n  \" fill=\"#009af9\" fill-rule=\"evenodd\" fill-opacity=\"1\"/>\n<polyline clip-path=\"url(#clip672)\" style=\"stroke:#000000; stroke-linecap:round; stroke-linejoin:round; stroke-width:4; stroke-opacity:1; fill:none\" points=\"\n  7655.18,1384.24 7655.18,1384.24 7706.22,1384.24 7655.18,1384.24 \n  \"/>\n<path clip-path=\"url(#clip672)\" d=\"\nM7706.22 1384.24 L7706.22 1384.24 L7757.26 1384.24 L7757.26 1384.24 L7706.22 1384.24 L7706.22 1384.24  Z\n  \" fill=\"#009af9\" fill-rule=\"evenodd\" fill-opacity=\"1\"/>\n<polyline clip-path=\"url(#clip672)\" style=\"stroke:#000000; stroke-linecap:round; stroke-linejoin:round; stroke-width:4; stroke-opacity:1; fill:none\" points=\"\n  7706.22,1384.24 7706.22,1384.24 7757.26,1384.24 7706.22,1384.24 \n  \"/>\n<path clip-path=\"url(#clip672)\" d=\"\nM7757.26 1254.43 L7757.26 1384.24 L7808.29 1384.24 L7808.29 1254.43 L7757.26 1254.43 L7757.26 1254.43  Z\n  \" fill=\"#009af9\" fill-rule=\"evenodd\" fill-opacity=\"1\"/>\n<polyline clip-path=\"url(#clip672)\" style=\"stroke:#000000; stroke-linecap:round; stroke-linejoin:round; stroke-width:4; stroke-opacity:1; fill:none\" points=\"\n  7757.26,1254.43 7757.26,1384.24 7808.29,1384.24 7808.29,1254.43 7757.26,1254.43 \n  \"/>\n<path clip-path=\"url(#clip672)\" d=\"\nM7808.29 1384.24 L7808.29 1384.24 L7859.33 1384.24 L7859.33 1384.24 L7808.29 1384.24 L7808.29 1384.24  Z\n  \" fill=\"#009af9\" fill-rule=\"evenodd\" fill-opacity=\"1\"/>\n<polyline clip-path=\"url(#clip672)\" style=\"stroke:#000000; stroke-linecap:round; stroke-linejoin:round; stroke-width:4; stroke-opacity:1; fill:none\" points=\"\n  7808.29,1384.24 7808.29,1384.24 7859.33,1384.24 7808.29,1384.24 \n  \"/>\n<path clip-path=\"url(#clip672)\" d=\"\nM7859.33 1384.24 L7859.33 1384.24 L7910.37 1384.24 L7910.37 1384.24 L7859.33 1384.24 L7859.33 1384.24  Z\n  \" fill=\"#009af9\" fill-rule=\"evenodd\" fill-opacity=\"1\"/>\n<polyline clip-path=\"url(#clip672)\" style=\"stroke:#000000; stroke-linecap:round; stroke-linejoin:round; stroke-width:4; stroke-opacity:1; fill:none\" points=\"\n  7859.33,1384.24 7859.33,1384.24 7910.37,1384.24 7859.33,1384.24 \n  \"/>\n<path clip-path=\"url(#clip672)\" d=\"\nM7910.37 1254.43 L7910.37 1384.24 L7961.4 1384.24 L7961.4 1254.43 L7910.37 1254.43 L7910.37 1254.43  Z\n  \" fill=\"#009af9\" fill-rule=\"evenodd\" fill-opacity=\"1\"/>\n<polyline clip-path=\"url(#clip672)\" style=\"stroke:#000000; stroke-linecap:round; stroke-linejoin:round; stroke-width:4; stroke-opacity:1; fill:none\" points=\"\n  7910.37,1254.43 7910.37,1384.24 7961.4,1384.24 7961.4,1254.43 7910.37,1254.43 \n  \"/>\n<path clip-path=\"url(#clip672)\" d=\"\nM7961.4 1384.24 L7961.4 1384.24 L8012.44 1384.24 L8012.44 1384.24 L7961.4 1384.24 L7961.4 1384.24  Z\n  \" fill=\"#009af9\" fill-rule=\"evenodd\" fill-opacity=\"1\"/>\n<polyline clip-path=\"url(#clip672)\" style=\"stroke:#000000; stroke-linecap:round; stroke-linejoin:round; stroke-width:4; stroke-opacity:1; fill:none\" points=\"\n  7961.4,1384.24 7961.4,1384.24 8012.44,1384.24 7961.4,1384.24 \n  \"/>\n<path clip-path=\"url(#clip672)\" d=\"\nM8012.44 1124.63 L8012.44 1384.24 L8063.48 1384.24 L8063.48 1124.63 L8012.44 1124.63 L8012.44 1124.63  Z\n  \" fill=\"#009af9\" fill-rule=\"evenodd\" fill-opacity=\"1\"/>\n<polyline clip-path=\"url(#clip672)\" style=\"stroke:#000000; stroke-linecap:round; stroke-linejoin:round; stroke-width:4; stroke-opacity:1; fill:none\" points=\"\n  8012.44,1124.63 8012.44,1384.24 8063.48,1384.24 8063.48,1124.63 8012.44,1124.63 \n  \"/>\n<path clip-path=\"url(#clip672)\" d=\"\nM8063.48 1384.24 L8063.48 1384.24 L8114.52 1384.24 L8114.52 1384.24 L8063.48 1384.24 L8063.48 1384.24  Z\n  \" fill=\"#009af9\" fill-rule=\"evenodd\" fill-opacity=\"1\"/>\n<polyline clip-path=\"url(#clip672)\" style=\"stroke:#000000; stroke-linecap:round; stroke-linejoin:round; stroke-width:4; stroke-opacity:1; fill:none\" points=\"\n  8063.48,1384.24 8063.48,1384.24 8114.52,1384.24 8063.48,1384.24 \n  \"/>\n<path clip-path=\"url(#clip672)\" d=\"\nM8114.52 1254.43 L8114.52 1384.24 L8165.55 1384.24 L8165.55 1254.43 L8114.52 1254.43 L8114.52 1254.43  Z\n  \" fill=\"#009af9\" fill-rule=\"evenodd\" fill-opacity=\"1\"/>\n<polyline clip-path=\"url(#clip672)\" style=\"stroke:#000000; stroke-linecap:round; stroke-linejoin:round; stroke-width:4; stroke-opacity:1; fill:none\" points=\"\n  8114.52,1254.43 8114.52,1384.24 8165.55,1384.24 8165.55,1254.43 8114.52,1254.43 \n  \"/>\n<path clip-path=\"url(#clip672)\" d=\"\nM8165.55 1384.24 L8165.55 1384.24 L8216.59 1384.24 L8216.59 1384.24 L8165.55 1384.24 L8165.55 1384.24  Z\n  \" fill=\"#009af9\" fill-rule=\"evenodd\" fill-opacity=\"1\"/>\n<polyline clip-path=\"url(#clip672)\" style=\"stroke:#000000; stroke-linecap:round; stroke-linejoin:round; stroke-width:4; stroke-opacity:1; fill:none\" points=\"\n  8165.55,1384.24 8165.55,1384.24 8216.59,1384.24 8165.55,1384.24 \n  \"/>\n<path clip-path=\"url(#clip672)\" d=\"\nM8216.59 1384.24 L8216.59 1384.24 L8267.63 1384.24 L8267.63 1384.24 L8216.59 1384.24 L8216.59 1384.24  Z\n  \" fill=\"#009af9\" fill-rule=\"evenodd\" fill-opacity=\"1\"/>\n<polyline clip-path=\"url(#clip672)\" style=\"stroke:#000000; stroke-linecap:round; stroke-linejoin:round; stroke-width:4; stroke-opacity:1; fill:none\" points=\"\n  8216.59,1384.24 8216.59,1384.24 8267.63,1384.24 8216.59,1384.24 \n  \"/>\n<path clip-path=\"url(#clip672)\" d=\"\nM8267.63 1384.24 L8267.63 1384.24 L8318.66 1384.24 L8318.66 1384.24 L8267.63 1384.24 L8267.63 1384.24  Z\n  \" fill=\"#009af9\" fill-rule=\"evenodd\" fill-opacity=\"1\"/>\n<polyline clip-path=\"url(#clip672)\" style=\"stroke:#000000; stroke-linecap:round; stroke-linejoin:round; stroke-width:4; stroke-opacity:1; fill:none\" points=\"\n  8267.63,1384.24 8267.63,1384.24 8318.66,1384.24 8267.63,1384.24 \n  \"/>\n<path clip-path=\"url(#clip672)\" d=\"\nM8318.66 1384.24 L8318.66 1384.24 L8369.7 1384.24 L8369.7 1384.24 L8318.66 1384.24 L8318.66 1384.24  Z\n  \" fill=\"#009af9\" fill-rule=\"evenodd\" fill-opacity=\"1\"/>\n<polyline clip-path=\"url(#clip672)\" style=\"stroke:#000000; stroke-linecap:round; stroke-linejoin:round; stroke-width:4; stroke-opacity:1; fill:none\" points=\"\n  8318.66,1384.24 8318.66,1384.24 8369.7,1384.24 8318.66,1384.24 \n  \"/>\n<path clip-path=\"url(#clip672)\" d=\"\nM8369.7 1384.24 L8369.7 1384.24 L8420.74 1384.24 L8420.74 1384.24 L8369.7 1384.24 L8369.7 1384.24  Z\n  \" fill=\"#009af9\" fill-rule=\"evenodd\" fill-opacity=\"1\"/>\n<polyline clip-path=\"url(#clip672)\" style=\"stroke:#000000; stroke-linecap:round; stroke-linejoin:round; stroke-width:4; stroke-opacity:1; fill:none\" points=\"\n  8369.7,1384.24 8369.7,1384.24 8420.74,1384.24 8369.7,1384.24 \n  \"/>\n<path clip-path=\"url(#clip672)\" d=\"\nM8420.74 1384.24 L8420.74 1384.24 L8471.77 1384.24 L8471.77 1384.24 L8420.74 1384.24 L8420.74 1384.24  Z\n  \" fill=\"#009af9\" fill-rule=\"evenodd\" fill-opacity=\"1\"/>\n<polyline clip-path=\"url(#clip672)\" style=\"stroke:#000000; stroke-linecap:round; stroke-linejoin:round; stroke-width:4; stroke-opacity:1; fill:none\" points=\"\n  8420.74,1384.24 8420.74,1384.24 8471.77,1384.24 8420.74,1384.24 \n  \"/>\n<path clip-path=\"url(#clip672)\" d=\"\nM8471.77 1384.24 L8471.77 1384.24 L8522.81 1384.24 L8522.81 1384.24 L8471.77 1384.24 L8471.77 1384.24  Z\n  \" fill=\"#009af9\" fill-rule=\"evenodd\" fill-opacity=\"1\"/>\n<polyline clip-path=\"url(#clip672)\" style=\"stroke:#000000; stroke-linecap:round; stroke-linejoin:round; stroke-width:4; stroke-opacity:1; fill:none\" points=\"\n  8471.77,1384.24 8471.77,1384.24 8522.81,1384.24 8471.77,1384.24 \n  \"/>\n<path clip-path=\"url(#clip672)\" d=\"\nM8522.81 1384.24 L8522.81 1384.24 L8573.85 1384.24 L8573.85 1384.24 L8522.81 1384.24 L8522.81 1384.24  Z\n  \" fill=\"#009af9\" fill-rule=\"evenodd\" fill-opacity=\"1\"/>\n<polyline clip-path=\"url(#clip672)\" style=\"stroke:#000000; stroke-linecap:round; stroke-linejoin:round; stroke-width:4; stroke-opacity:1; fill:none\" points=\"\n  8522.81,1384.24 8522.81,1384.24 8573.85,1384.24 8522.81,1384.24 \n  \"/>\n<path clip-path=\"url(#clip672)\" d=\"\nM8573.85 1254.43 L8573.85 1384.24 L8624.89 1384.24 L8624.89 1254.43 L8573.85 1254.43 L8573.85 1254.43  Z\n  \" fill=\"#009af9\" fill-rule=\"evenodd\" fill-opacity=\"1\"/>\n<polyline clip-path=\"url(#clip672)\" style=\"stroke:#000000; stroke-linecap:round; stroke-linejoin:round; stroke-width:4; stroke-opacity:1; fill:none\" points=\"\n  8573.85,1254.43 8573.85,1384.24 8624.89,1384.24 8624.89,1254.43 8573.85,1254.43 \n  \"/>\n<path clip-path=\"url(#clip672)\" d=\"\nM8624.89 1384.24 L8624.89 1384.24 L8675.92 1384.24 L8675.92 1384.24 L8624.89 1384.24 L8624.89 1384.24  Z\n  \" fill=\"#009af9\" fill-rule=\"evenodd\" fill-opacity=\"1\"/>\n<polyline clip-path=\"url(#clip672)\" style=\"stroke:#000000; stroke-linecap:round; stroke-linejoin:round; stroke-width:4; stroke-opacity:1; fill:none\" points=\"\n  8624.89,1384.24 8624.89,1384.24 8675.92,1384.24 8624.89,1384.24 \n  \"/>\n<path clip-path=\"url(#clip672)\" d=\"\nM8675.92 1384.24 L8675.92 1384.24 L8726.96 1384.24 L8726.96 1384.24 L8675.92 1384.24 L8675.92 1384.24  Z\n  \" fill=\"#009af9\" fill-rule=\"evenodd\" fill-opacity=\"1\"/>\n<polyline clip-path=\"url(#clip672)\" style=\"stroke:#000000; stroke-linecap:round; stroke-linejoin:round; stroke-width:4; stroke-opacity:1; fill:none\" points=\"\n  8675.92,1384.24 8675.92,1384.24 8726.96,1384.24 8675.92,1384.24 \n  \"/>\n<path clip-path=\"url(#clip672)\" d=\"\nM8726.96 1384.24 L8726.96 1384.24 L8778 1384.24 L8778 1384.24 L8726.96 1384.24 L8726.96 1384.24  Z\n  \" fill=\"#009af9\" fill-rule=\"evenodd\" fill-opacity=\"1\"/>\n<polyline clip-path=\"url(#clip672)\" style=\"stroke:#000000; stroke-linecap:round; stroke-linejoin:round; stroke-width:4; stroke-opacity:1; fill:none\" points=\"\n  8726.96,1384.24 8726.96,1384.24 8778,1384.24 8726.96,1384.24 \n  \"/>\n<path clip-path=\"url(#clip672)\" d=\"\nM8778 1254.43 L8778 1384.24 L8829.03 1384.24 L8829.03 1254.43 L8778 1254.43 L8778 1254.43  Z\n  \" fill=\"#009af9\" fill-rule=\"evenodd\" fill-opacity=\"1\"/>\n<polyline clip-path=\"url(#clip672)\" style=\"stroke:#000000; stroke-linecap:round; stroke-linejoin:round; stroke-width:4; stroke-opacity:1; fill:none\" points=\"\n  8778,1254.43 8778,1384.24 8829.03,1384.24 8829.03,1254.43 8778,1254.43 \n  \"/>\n<path clip-path=\"url(#clip672)\" d=\"\nM8829.03 1384.24 L8829.03 1384.24 L8880.07 1384.24 L8880.07 1384.24 L8829.03 1384.24 L8829.03 1384.24  Z\n  \" fill=\"#009af9\" fill-rule=\"evenodd\" fill-opacity=\"1\"/>\n<polyline clip-path=\"url(#clip672)\" style=\"stroke:#000000; stroke-linecap:round; stroke-linejoin:round; stroke-width:4; stroke-opacity:1; fill:none\" points=\"\n  8829.03,1384.24 8829.03,1384.24 8880.07,1384.24 8829.03,1384.24 \n  \"/>\n<path clip-path=\"url(#clip672)\" d=\"\nM8880.07 1384.24 L8880.07 1384.24 L8931.11 1384.24 L8931.11 1384.24 L8880.07 1384.24 L8880.07 1384.24  Z\n  \" fill=\"#009af9\" fill-rule=\"evenodd\" fill-opacity=\"1\"/>\n<polyline clip-path=\"url(#clip672)\" style=\"stroke:#000000; stroke-linecap:round; stroke-linejoin:round; stroke-width:4; stroke-opacity:1; fill:none\" points=\"\n  8880.07,1384.24 8880.07,1384.24 8931.11,1384.24 8880.07,1384.24 \n  \"/>\n<path clip-path=\"url(#clip672)\" d=\"\nM8931.11 1384.24 L8931.11 1384.24 L8982.14 1384.24 L8982.14 1384.24 L8931.11 1384.24 L8931.11 1384.24  Z\n  \" fill=\"#009af9\" fill-rule=\"evenodd\" fill-opacity=\"1\"/>\n<polyline clip-path=\"url(#clip672)\" style=\"stroke:#000000; stroke-linecap:round; stroke-linejoin:round; stroke-width:4; stroke-opacity:1; fill:none\" points=\"\n  8931.11,1384.24 8931.11,1384.24 8982.14,1384.24 8931.11,1384.24 \n  \"/>\n<path clip-path=\"url(#clip672)\" d=\"\nM8982.14 1384.24 L8982.14 1384.24 L9033.18 1384.24 L9033.18 1384.24 L8982.14 1384.24 L8982.14 1384.24  Z\n  \" fill=\"#009af9\" fill-rule=\"evenodd\" fill-opacity=\"1\"/>\n<polyline clip-path=\"url(#clip672)\" style=\"stroke:#000000; stroke-linecap:round; stroke-linejoin:round; stroke-width:4; stroke-opacity:1; fill:none\" points=\"\n  8982.14,1384.24 8982.14,1384.24 9033.18,1384.24 8982.14,1384.24 \n  \"/>\n<path clip-path=\"url(#clip672)\" d=\"\nM9033.18 1384.24 L9033.18 1384.24 L9084.22 1384.24 L9084.22 1384.24 L9033.18 1384.24 L9033.18 1384.24  Z\n  \" fill=\"#009af9\" fill-rule=\"evenodd\" fill-opacity=\"1\"/>\n<polyline clip-path=\"url(#clip672)\" style=\"stroke:#000000; stroke-linecap:round; stroke-linejoin:round; stroke-width:4; stroke-opacity:1; fill:none\" points=\"\n  9033.18,1384.24 9033.18,1384.24 9084.22,1384.24 9033.18,1384.24 \n  \"/>\n<path clip-path=\"url(#clip672)\" d=\"\nM9084.22 1384.24 L9084.22 1384.24 L9135.26 1384.24 L9135.26 1384.24 L9084.22 1384.24 L9084.22 1384.24  Z\n  \" fill=\"#009af9\" fill-rule=\"evenodd\" fill-opacity=\"1\"/>\n<polyline clip-path=\"url(#clip672)\" style=\"stroke:#000000; stroke-linecap:round; stroke-linejoin:round; stroke-width:4; stroke-opacity:1; fill:none\" points=\"\n  9084.22,1384.24 9084.22,1384.24 9135.26,1384.24 9084.22,1384.24 \n  \"/>\n<path clip-path=\"url(#clip672)\" d=\"\nM9135.26 1254.43 L9135.26 1384.24 L9186.29 1384.24 L9186.29 1254.43 L9135.26 1254.43 L9135.26 1254.43  Z\n  \" fill=\"#009af9\" fill-rule=\"evenodd\" fill-opacity=\"1\"/>\n<polyline clip-path=\"url(#clip672)\" style=\"stroke:#000000; stroke-linecap:round; stroke-linejoin:round; stroke-width:4; stroke-opacity:1; fill:none\" points=\"\n  9135.26,1254.43 9135.26,1384.24 9186.29,1384.24 9186.29,1254.43 9135.26,1254.43 \n  \"/>\n<path clip-path=\"url(#clip672)\" d=\"\nM9186.29 1254.43 L9186.29 1384.24 L9237.33 1384.24 L9237.33 1254.43 L9186.29 1254.43 L9186.29 1254.43  Z\n  \" fill=\"#009af9\" fill-rule=\"evenodd\" fill-opacity=\"1\"/>\n<polyline clip-path=\"url(#clip672)\" style=\"stroke:#000000; stroke-linecap:round; stroke-linejoin:round; stroke-width:4; stroke-opacity:1; fill:none\" points=\"\n  9186.29,1254.43 9186.29,1384.24 9237.33,1384.24 9237.33,1254.43 9186.29,1254.43 \n  \"/>\n<path clip-path=\"url(#clip672)\" d=\"\nM9237.33 1384.24 L9237.33 1384.24 L9288.37 1384.24 L9288.37 1384.24 L9237.33 1384.24 L9237.33 1384.24  Z\n  \" fill=\"#009af9\" fill-rule=\"evenodd\" fill-opacity=\"1\"/>\n<polyline clip-path=\"url(#clip672)\" style=\"stroke:#000000; stroke-linecap:round; stroke-linejoin:round; stroke-width:4; stroke-opacity:1; fill:none\" points=\"\n  9237.33,1384.24 9237.33,1384.24 9288.37,1384.24 9237.33,1384.24 \n  \"/>\n<path clip-path=\"url(#clip672)\" d=\"\nM9288.37 1384.24 L9288.37 1384.24 L9339.4 1384.24 L9339.4 1384.24 L9288.37 1384.24 L9288.37 1384.24  Z\n  \" fill=\"#009af9\" fill-rule=\"evenodd\" fill-opacity=\"1\"/>\n<polyline clip-path=\"url(#clip672)\" style=\"stroke:#000000; stroke-linecap:round; stroke-linejoin:round; stroke-width:4; stroke-opacity:1; fill:none\" points=\"\n  9288.37,1384.24 9288.37,1384.24 9339.4,1384.24 9288.37,1384.24 \n  \"/>\n<path clip-path=\"url(#clip672)\" d=\"\nM9339.4 1384.24 L9339.4 1384.24 L9390.44 1384.24 L9390.44 1384.24 L9339.4 1384.24 L9339.4 1384.24  Z\n  \" fill=\"#009af9\" fill-rule=\"evenodd\" fill-opacity=\"1\"/>\n<polyline clip-path=\"url(#clip672)\" style=\"stroke:#000000; stroke-linecap:round; stroke-linejoin:round; stroke-width:4; stroke-opacity:1; fill:none\" points=\"\n  9339.4,1384.24 9339.4,1384.24 9390.44,1384.24 9339.4,1384.24 \n  \"/>\n<path clip-path=\"url(#clip672)\" d=\"\nM9390.44 1384.24 L9390.44 1384.24 L9441.48 1384.24 L9441.48 1384.24 L9390.44 1384.24 L9390.44 1384.24  Z\n  \" fill=\"#009af9\" fill-rule=\"evenodd\" fill-opacity=\"1\"/>\n<polyline clip-path=\"url(#clip672)\" style=\"stroke:#000000; stroke-linecap:round; stroke-linejoin:round; stroke-width:4; stroke-opacity:1; fill:none\" points=\"\n  9390.44,1384.24 9390.44,1384.24 9441.48,1384.24 9390.44,1384.24 \n  \"/>\n<path clip-path=\"url(#clip672)\" d=\"\nM9441.48 1384.24 L9441.48 1384.24 L9492.51 1384.24 L9492.51 1384.24 L9441.48 1384.24 L9441.48 1384.24  Z\n  \" fill=\"#009af9\" fill-rule=\"evenodd\" fill-opacity=\"1\"/>\n<polyline clip-path=\"url(#clip672)\" style=\"stroke:#000000; stroke-linecap:round; stroke-linejoin:round; stroke-width:4; stroke-opacity:1; fill:none\" points=\"\n  9441.48,1384.24 9441.48,1384.24 9492.51,1384.24 9441.48,1384.24 \n  \"/>\n<path clip-path=\"url(#clip672)\" d=\"\nM9492.51 1384.24 L9492.51 1384.24 L9543.55 1384.24 L9543.55 1384.24 L9492.51 1384.24 L9492.51 1384.24  Z\n  \" fill=\"#009af9\" fill-rule=\"evenodd\" fill-opacity=\"1\"/>\n<polyline clip-path=\"url(#clip672)\" style=\"stroke:#000000; stroke-linecap:round; stroke-linejoin:round; stroke-width:4; stroke-opacity:1; fill:none\" points=\"\n  9492.51,1384.24 9492.51,1384.24 9543.55,1384.24 9492.51,1384.24 \n  \"/>\n<path clip-path=\"url(#clip672)\" d=\"\nM9543.55 1384.24 L9543.55 1384.24 L9594.59 1384.24 L9594.59 1384.24 L9543.55 1384.24 L9543.55 1384.24  Z\n  \" fill=\"#009af9\" fill-rule=\"evenodd\" fill-opacity=\"1\"/>\n<polyline clip-path=\"url(#clip672)\" style=\"stroke:#000000; stroke-linecap:round; stroke-linejoin:round; stroke-width:4; stroke-opacity:1; fill:none\" points=\"\n  9543.55,1384.24 9543.55,1384.24 9594.59,1384.24 9543.55,1384.24 \n  \"/>\n<path clip-path=\"url(#clip672)\" d=\"\nM9594.59 1384.24 L9594.59 1384.24 L9645.63 1384.24 L9645.63 1384.24 L9594.59 1384.24 L9594.59 1384.24  Z\n  \" fill=\"#009af9\" fill-rule=\"evenodd\" fill-opacity=\"1\"/>\n<polyline clip-path=\"url(#clip672)\" style=\"stroke:#000000; stroke-linecap:round; stroke-linejoin:round; stroke-width:4; stroke-opacity:1; fill:none\" points=\"\n  9594.59,1384.24 9594.59,1384.24 9645.63,1384.24 9594.59,1384.24 \n  \"/>\n<path clip-path=\"url(#clip672)\" d=\"\nM9645.63 1384.24 L9645.63 1384.24 L9696.66 1384.24 L9696.66 1384.24 L9645.63 1384.24 L9645.63 1384.24  Z\n  \" fill=\"#009af9\" fill-rule=\"evenodd\" fill-opacity=\"1\"/>\n<polyline clip-path=\"url(#clip672)\" style=\"stroke:#000000; stroke-linecap:round; stroke-linejoin:round; stroke-width:4; stroke-opacity:1; fill:none\" points=\"\n  9645.63,1384.24 9645.63,1384.24 9696.66,1384.24 9645.63,1384.24 \n  \"/>\n<path clip-path=\"url(#clip672)\" d=\"\nM9696.66 1384.24 L9696.66 1384.24 L9747.7 1384.24 L9747.7 1384.24 L9696.66 1384.24 L9696.66 1384.24  Z\n  \" fill=\"#009af9\" fill-rule=\"evenodd\" fill-opacity=\"1\"/>\n<polyline clip-path=\"url(#clip672)\" style=\"stroke:#000000; stroke-linecap:round; stroke-linejoin:round; stroke-width:4; stroke-opacity:1; fill:none\" points=\"\n  9696.66,1384.24 9696.66,1384.24 9747.7,1384.24 9696.66,1384.24 \n  \"/>\n<path clip-path=\"url(#clip672)\" d=\"\nM9747.7 1384.24 L9747.7 1384.24 L9798.74 1384.24 L9798.74 1384.24 L9747.7 1384.24 L9747.7 1384.24  Z\n  \" fill=\"#009af9\" fill-rule=\"evenodd\" fill-opacity=\"1\"/>\n<polyline clip-path=\"url(#clip672)\" style=\"stroke:#000000; stroke-linecap:round; stroke-linejoin:round; stroke-width:4; stroke-opacity:1; fill:none\" points=\"\n  9747.7,1384.24 9747.7,1384.24 9798.74,1384.24 9747.7,1384.24 \n  \"/>\n<path clip-path=\"url(#clip672)\" d=\"\nM9798.74 1384.24 L9798.74 1384.24 L9849.77 1384.24 L9849.77 1384.24 L9798.74 1384.24 L9798.74 1384.24  Z\n  \" fill=\"#009af9\" fill-rule=\"evenodd\" fill-opacity=\"1\"/>\n<polyline clip-path=\"url(#clip672)\" style=\"stroke:#000000; stroke-linecap:round; stroke-linejoin:round; stroke-width:4; stroke-opacity:1; fill:none\" points=\"\n  9798.74,1384.24 9798.74,1384.24 9849.77,1384.24 9798.74,1384.24 \n  \"/>\n<path clip-path=\"url(#clip672)\" d=\"\nM9849.77 1384.24 L9849.77 1384.24 L9900.81 1384.24 L9900.81 1384.24 L9849.77 1384.24 L9849.77 1384.24  Z\n  \" fill=\"#009af9\" fill-rule=\"evenodd\" fill-opacity=\"1\"/>\n<polyline clip-path=\"url(#clip672)\" style=\"stroke:#000000; stroke-linecap:round; stroke-linejoin:round; stroke-width:4; stroke-opacity:1; fill:none\" points=\"\n  9849.77,1384.24 9849.77,1384.24 9900.81,1384.24 9849.77,1384.24 \n  \"/>\n<path clip-path=\"url(#clip672)\" d=\"\nM9900.81 1384.24 L9900.81 1384.24 L9951.85 1384.24 L9951.85 1384.24 L9900.81 1384.24 L9900.81 1384.24  Z\n  \" fill=\"#009af9\" fill-rule=\"evenodd\" fill-opacity=\"1\"/>\n<polyline clip-path=\"url(#clip672)\" style=\"stroke:#000000; stroke-linecap:round; stroke-linejoin:round; stroke-width:4; stroke-opacity:1; fill:none\" points=\"\n  9900.81,1384.24 9900.81,1384.24 9951.85,1384.24 9900.81,1384.24 \n  \"/>\n<path clip-path=\"url(#clip672)\" d=\"\nM9951.85 1384.24 L9951.85 1384.24 L10002.9 1384.24 L10002.9 1384.24 L9951.85 1384.24 L9951.85 1384.24  Z\n  \" fill=\"#009af9\" fill-rule=\"evenodd\" fill-opacity=\"1\"/>\n<polyline clip-path=\"url(#clip672)\" style=\"stroke:#000000; stroke-linecap:round; stroke-linejoin:round; stroke-width:4; stroke-opacity:1; fill:none\" points=\"\n  9951.85,1384.24 9951.85,1384.24 10002.9,1384.24 9951.85,1384.24 \n  \"/>\n<path clip-path=\"url(#clip672)\" d=\"\nM10002.9 1384.24 L10002.9 1384.24 L10053.9 1384.24 L10053.9 1384.24 L10002.9 1384.24 L10002.9 1384.24  Z\n  \" fill=\"#009af9\" fill-rule=\"evenodd\" fill-opacity=\"1\"/>\n<polyline clip-path=\"url(#clip672)\" style=\"stroke:#000000; stroke-linecap:round; stroke-linejoin:round; stroke-width:4; stroke-opacity:1; fill:none\" points=\"\n  10002.9,1384.24 10002.9,1384.24 10053.9,1384.24 10002.9,1384.24 \n  \"/>\n<path clip-path=\"url(#clip672)\" d=\"\nM10053.9 1384.24 L10053.9 1384.24 L10105 1384.24 L10105 1384.24 L10053.9 1384.24 L10053.9 1384.24  Z\n  \" fill=\"#009af9\" fill-rule=\"evenodd\" fill-opacity=\"1\"/>\n<polyline clip-path=\"url(#clip672)\" style=\"stroke:#000000; stroke-linecap:round; stroke-linejoin:round; stroke-width:4; stroke-opacity:1; fill:none\" points=\"\n  10053.9,1384.24 10053.9,1384.24 10105,1384.24 10053.9,1384.24 \n  \"/>\n<path clip-path=\"url(#clip672)\" d=\"\nM10105 1384.24 L10105 1384.24 L10156 1384.24 L10156 1384.24 L10105 1384.24 L10105 1384.24  Z\n  \" fill=\"#009af9\" fill-rule=\"evenodd\" fill-opacity=\"1\"/>\n<polyline clip-path=\"url(#clip672)\" style=\"stroke:#000000; stroke-linecap:round; stroke-linejoin:round; stroke-width:4; stroke-opacity:1; fill:none\" points=\"\n  10105,1384.24 10105,1384.24 10156,1384.24 10105,1384.24 \n  \"/>\n<path clip-path=\"url(#clip672)\" d=\"\nM10156 1384.24 L10156 1384.24 L10207 1384.24 L10207 1384.24 L10156 1384.24 L10156 1384.24  Z\n  \" fill=\"#009af9\" fill-rule=\"evenodd\" fill-opacity=\"1\"/>\n<polyline clip-path=\"url(#clip672)\" style=\"stroke:#000000; stroke-linecap:round; stroke-linejoin:round; stroke-width:4; stroke-opacity:1; fill:none\" points=\"\n  10156,1384.24 10156,1384.24 10207,1384.24 10156,1384.24 \n  \"/>\n<path clip-path=\"url(#clip672)\" d=\"\nM10207 1384.24 L10207 1384.24 L10258.1 1384.24 L10258.1 1384.24 L10207 1384.24 L10207 1384.24  Z\n  \" fill=\"#009af9\" fill-rule=\"evenodd\" fill-opacity=\"1\"/>\n<polyline clip-path=\"url(#clip672)\" style=\"stroke:#000000; stroke-linecap:round; stroke-linejoin:round; stroke-width:4; stroke-opacity:1; fill:none\" points=\"\n  10207,1384.24 10207,1384.24 10258.1,1384.24 10207,1384.24 \n  \"/>\n<path clip-path=\"url(#clip672)\" d=\"\nM10258.1 1384.24 L10258.1 1384.24 L10309.1 1384.24 L10309.1 1384.24 L10258.1 1384.24 L10258.1 1384.24  Z\n  \" fill=\"#009af9\" fill-rule=\"evenodd\" fill-opacity=\"1\"/>\n<polyline clip-path=\"url(#clip672)\" style=\"stroke:#000000; stroke-linecap:round; stroke-linejoin:round; stroke-width:4; stroke-opacity:1; fill:none\" points=\"\n  10258.1,1384.24 10258.1,1384.24 10309.1,1384.24 10258.1,1384.24 \n  \"/>\n<path clip-path=\"url(#clip672)\" d=\"\nM10309.1 1384.24 L10309.1 1384.24 L10360.1 1384.24 L10360.1 1384.24 L10309.1 1384.24 L10309.1 1384.24  Z\n  \" fill=\"#009af9\" fill-rule=\"evenodd\" fill-opacity=\"1\"/>\n<polyline clip-path=\"url(#clip672)\" style=\"stroke:#000000; stroke-linecap:round; stroke-linejoin:round; stroke-width:4; stroke-opacity:1; fill:none\" points=\"\n  10309.1,1384.24 10309.1,1384.24 10360.1,1384.24 10309.1,1384.24 \n  \"/>\n<path clip-path=\"url(#clip672)\" d=\"\nM10360.1 1384.24 L10360.1 1384.24 L10411.2 1384.24 L10411.2 1384.24 L10360.1 1384.24 L10360.1 1384.24  Z\n  \" fill=\"#009af9\" fill-rule=\"evenodd\" fill-opacity=\"1\"/>\n<polyline clip-path=\"url(#clip672)\" style=\"stroke:#000000; stroke-linecap:round; stroke-linejoin:round; stroke-width:4; stroke-opacity:1; fill:none\" points=\"\n  10360.1,1384.24 10360.1,1384.24 10411.2,1384.24 10360.1,1384.24 \n  \"/>\n<path clip-path=\"url(#clip672)\" d=\"\nM10411.2 1384.24 L10411.2 1384.24 L10462.2 1384.24 L10462.2 1384.24 L10411.2 1384.24 L10411.2 1384.24  Z\n  \" fill=\"#009af9\" fill-rule=\"evenodd\" fill-opacity=\"1\"/>\n<polyline clip-path=\"url(#clip672)\" style=\"stroke:#000000; stroke-linecap:round; stroke-linejoin:round; stroke-width:4; stroke-opacity:1; fill:none\" points=\"\n  10411.2,1384.24 10411.2,1384.24 10462.2,1384.24 10411.2,1384.24 \n  \"/>\n<path clip-path=\"url(#clip672)\" d=\"\nM10462.2 1384.24 L10462.2 1384.24 L10513.3 1384.24 L10513.3 1384.24 L10462.2 1384.24 L10462.2 1384.24  Z\n  \" fill=\"#009af9\" fill-rule=\"evenodd\" fill-opacity=\"1\"/>\n<polyline clip-path=\"url(#clip672)\" style=\"stroke:#000000; stroke-linecap:round; stroke-linejoin:round; stroke-width:4; stroke-opacity:1; fill:none\" points=\"\n  10462.2,1384.24 10462.2,1384.24 10513.3,1384.24 10462.2,1384.24 \n  \"/>\n<path clip-path=\"url(#clip672)\" d=\"\nM10513.3 1384.24 L10513.3 1384.24 L10564.3 1384.24 L10564.3 1384.24 L10513.3 1384.24 L10513.3 1384.24  Z\n  \" fill=\"#009af9\" fill-rule=\"evenodd\" fill-opacity=\"1\"/>\n<polyline clip-path=\"url(#clip672)\" style=\"stroke:#000000; stroke-linecap:round; stroke-linejoin:round; stroke-width:4; stroke-opacity:1; fill:none\" points=\"\n  10513.3,1384.24 10513.3,1384.24 10564.3,1384.24 10513.3,1384.24 \n  \"/>\n<path clip-path=\"url(#clip672)\" d=\"\nM10564.3 1384.24 L10564.3 1384.24 L10615.3 1384.24 L10615.3 1384.24 L10564.3 1384.24 L10564.3 1384.24  Z\n  \" fill=\"#009af9\" fill-rule=\"evenodd\" fill-opacity=\"1\"/>\n<polyline clip-path=\"url(#clip672)\" style=\"stroke:#000000; stroke-linecap:round; stroke-linejoin:round; stroke-width:4; stroke-opacity:1; fill:none\" points=\"\n  10564.3,1384.24 10564.3,1384.24 10615.3,1384.24 10564.3,1384.24 \n  \"/>\n<path clip-path=\"url(#clip672)\" d=\"\nM10615.3 1384.24 L10615.3 1384.24 L10666.4 1384.24 L10666.4 1384.24 L10615.3 1384.24 L10615.3 1384.24  Z\n  \" fill=\"#009af9\" fill-rule=\"evenodd\" fill-opacity=\"1\"/>\n<polyline clip-path=\"url(#clip672)\" style=\"stroke:#000000; stroke-linecap:round; stroke-linejoin:round; stroke-width:4; stroke-opacity:1; fill:none\" points=\"\n  10615.3,1384.24 10615.3,1384.24 10666.4,1384.24 10615.3,1384.24 \n  \"/>\n<path clip-path=\"url(#clip672)\" d=\"\nM10666.4 1384.24 L10666.4 1384.24 L10717.4 1384.24 L10717.4 1384.24 L10666.4 1384.24 L10666.4 1384.24  Z\n  \" fill=\"#009af9\" fill-rule=\"evenodd\" fill-opacity=\"1\"/>\n<polyline clip-path=\"url(#clip672)\" style=\"stroke:#000000; stroke-linecap:round; stroke-linejoin:round; stroke-width:4; stroke-opacity:1; fill:none\" points=\"\n  10666.4,1384.24 10666.4,1384.24 10717.4,1384.24 10666.4,1384.24 \n  \"/>\n<path clip-path=\"url(#clip672)\" d=\"\nM10717.4 1384.24 L10717.4 1384.24 L10768.4 1384.24 L10768.4 1384.24 L10717.4 1384.24 L10717.4 1384.24  Z\n  \" fill=\"#009af9\" fill-rule=\"evenodd\" fill-opacity=\"1\"/>\n<polyline clip-path=\"url(#clip672)\" style=\"stroke:#000000; stroke-linecap:round; stroke-linejoin:round; stroke-width:4; stroke-opacity:1; fill:none\" points=\"\n  10717.4,1384.24 10717.4,1384.24 10768.4,1384.24 10717.4,1384.24 \n  \"/>\n<path clip-path=\"url(#clip672)\" d=\"\nM10768.4 1384.24 L10768.4 1384.24 L10819.5 1384.24 L10819.5 1384.24 L10768.4 1384.24 L10768.4 1384.24  Z\n  \" fill=\"#009af9\" fill-rule=\"evenodd\" fill-opacity=\"1\"/>\n<polyline clip-path=\"url(#clip672)\" style=\"stroke:#000000; stroke-linecap:round; stroke-linejoin:round; stroke-width:4; stroke-opacity:1; fill:none\" points=\"\n  10768.4,1384.24 10768.4,1384.24 10819.5,1384.24 10768.4,1384.24 \n  \"/>\n<path clip-path=\"url(#clip672)\" d=\"\nM10819.5 1384.24 L10819.5 1384.24 L10870.5 1384.24 L10870.5 1384.24 L10819.5 1384.24 L10819.5 1384.24  Z\n  \" fill=\"#009af9\" fill-rule=\"evenodd\" fill-opacity=\"1\"/>\n<polyline clip-path=\"url(#clip672)\" style=\"stroke:#000000; stroke-linecap:round; stroke-linejoin:round; stroke-width:4; stroke-opacity:1; fill:none\" points=\"\n  10819.5,1384.24 10819.5,1384.24 10870.5,1384.24 10819.5,1384.24 \n  \"/>\n<path clip-path=\"url(#clip672)\" d=\"\nM10870.5 1384.24 L10870.5 1384.24 L10921.6 1384.24 L10921.6 1384.24 L10870.5 1384.24 L10870.5 1384.24  Z\n  \" fill=\"#009af9\" fill-rule=\"evenodd\" fill-opacity=\"1\"/>\n<polyline clip-path=\"url(#clip672)\" style=\"stroke:#000000; stroke-linecap:round; stroke-linejoin:round; stroke-width:4; stroke-opacity:1; fill:none\" points=\"\n  10870.5,1384.24 10870.5,1384.24 10921.6,1384.24 10870.5,1384.24 \n  \"/>\n<path clip-path=\"url(#clip672)\" d=\"\nM10921.6 1384.24 L10921.6 1384.24 L10972.6 1384.24 L10972.6 1384.24 L10921.6 1384.24 L10921.6 1384.24  Z\n  \" fill=\"#009af9\" fill-rule=\"evenodd\" fill-opacity=\"1\"/>\n<polyline clip-path=\"url(#clip672)\" style=\"stroke:#000000; stroke-linecap:round; stroke-linejoin:round; stroke-width:4; stroke-opacity:1; fill:none\" points=\"\n  10921.6,1384.24 10921.6,1384.24 10972.6,1384.24 10921.6,1384.24 \n  \"/>\n<path clip-path=\"url(#clip672)\" d=\"\nM10972.6 1384.24 L10972.6 1384.24 L11023.6 1384.24 L11023.6 1384.24 L10972.6 1384.24 L10972.6 1384.24  Z\n  \" fill=\"#009af9\" fill-rule=\"evenodd\" fill-opacity=\"1\"/>\n<polyline clip-path=\"url(#clip672)\" style=\"stroke:#000000; stroke-linecap:round; stroke-linejoin:round; stroke-width:4; stroke-opacity:1; fill:none\" points=\"\n  10972.6,1384.24 10972.6,1384.24 11023.6,1384.24 10972.6,1384.24 \n  \"/>\n<path clip-path=\"url(#clip672)\" d=\"\nM11023.6 1384.24 L11023.6 1384.24 L11074.7 1384.24 L11074.7 1384.24 L11023.6 1384.24 L11023.6 1384.24  Z\n  \" fill=\"#009af9\" fill-rule=\"evenodd\" fill-opacity=\"1\"/>\n<polyline clip-path=\"url(#clip672)\" style=\"stroke:#000000; stroke-linecap:round; stroke-linejoin:round; stroke-width:4; stroke-opacity:1; fill:none\" points=\"\n  11023.6,1384.24 11023.6,1384.24 11074.7,1384.24 11023.6,1384.24 \n  \"/>\n<path clip-path=\"url(#clip672)\" d=\"\nM11074.7 1384.24 L11074.7 1384.24 L11125.7 1384.24 L11125.7 1384.24 L11074.7 1384.24 L11074.7 1384.24  Z\n  \" fill=\"#009af9\" fill-rule=\"evenodd\" fill-opacity=\"1\"/>\n<polyline clip-path=\"url(#clip672)\" style=\"stroke:#000000; stroke-linecap:round; stroke-linejoin:round; stroke-width:4; stroke-opacity:1; fill:none\" points=\"\n  11074.7,1384.24 11074.7,1384.24 11125.7,1384.24 11074.7,1384.24 \n  \"/>\n<path clip-path=\"url(#clip672)\" d=\"\nM11125.7 1384.24 L11125.7 1384.24 L11176.7 1384.24 L11176.7 1384.24 L11125.7 1384.24 L11125.7 1384.24  Z\n  \" fill=\"#009af9\" fill-rule=\"evenodd\" fill-opacity=\"1\"/>\n<polyline clip-path=\"url(#clip672)\" style=\"stroke:#000000; stroke-linecap:round; stroke-linejoin:round; stroke-width:4; stroke-opacity:1; fill:none\" points=\"\n  11125.7,1384.24 11125.7,1384.24 11176.7,1384.24 11125.7,1384.24 \n  \"/>\n<path clip-path=\"url(#clip672)\" d=\"\nM11176.7 1384.24 L11176.7 1384.24 L11227.8 1384.24 L11227.8 1384.24 L11176.7 1384.24 L11176.7 1384.24  Z\n  \" fill=\"#009af9\" fill-rule=\"evenodd\" fill-opacity=\"1\"/>\n<polyline clip-path=\"url(#clip672)\" style=\"stroke:#000000; stroke-linecap:round; stroke-linejoin:round; stroke-width:4; stroke-opacity:1; fill:none\" points=\"\n  11176.7,1384.24 11176.7,1384.24 11227.8,1384.24 11176.7,1384.24 \n  \"/>\n<path clip-path=\"url(#clip672)\" d=\"\nM11227.8 1384.24 L11227.8 1384.24 L11278.8 1384.24 L11278.8 1384.24 L11227.8 1384.24 L11227.8 1384.24  Z\n  \" fill=\"#009af9\" fill-rule=\"evenodd\" fill-opacity=\"1\"/>\n<polyline clip-path=\"url(#clip672)\" style=\"stroke:#000000; stroke-linecap:round; stroke-linejoin:round; stroke-width:4; stroke-opacity:1; fill:none\" points=\"\n  11227.8,1384.24 11227.8,1384.24 11278.8,1384.24 11227.8,1384.24 \n  \"/>\n<path clip-path=\"url(#clip672)\" d=\"\nM11278.8 1384.24 L11278.8 1384.24 L11329.8 1384.24 L11329.8 1384.24 L11278.8 1384.24 L11278.8 1384.24  Z\n  \" fill=\"#009af9\" fill-rule=\"evenodd\" fill-opacity=\"1\"/>\n<polyline clip-path=\"url(#clip672)\" style=\"stroke:#000000; stroke-linecap:round; stroke-linejoin:round; stroke-width:4; stroke-opacity:1; fill:none\" points=\"\n  11278.8,1384.24 11278.8,1384.24 11329.8,1384.24 11278.8,1384.24 \n  \"/>\n<path clip-path=\"url(#clip672)\" d=\"\nM11329.8 1384.24 L11329.8 1384.24 L11380.9 1384.24 L11380.9 1384.24 L11329.8 1384.24 L11329.8 1384.24  Z\n  \" fill=\"#009af9\" fill-rule=\"evenodd\" fill-opacity=\"1\"/>\n<polyline clip-path=\"url(#clip672)\" style=\"stroke:#000000; stroke-linecap:round; stroke-linejoin:round; stroke-width:4; stroke-opacity:1; fill:none\" points=\"\n  11329.8,1384.24 11329.8,1384.24 11380.9,1384.24 11329.8,1384.24 \n  \"/>\n<path clip-path=\"url(#clip672)\" d=\"\nM11380.9 1384.24 L11380.9 1384.24 L11431.9 1384.24 L11431.9 1384.24 L11380.9 1384.24 L11380.9 1384.24  Z\n  \" fill=\"#009af9\" fill-rule=\"evenodd\" fill-opacity=\"1\"/>\n<polyline clip-path=\"url(#clip672)\" style=\"stroke:#000000; stroke-linecap:round; stroke-linejoin:round; stroke-width:4; stroke-opacity:1; fill:none\" points=\"\n  11380.9,1384.24 11380.9,1384.24 11431.9,1384.24 11380.9,1384.24 \n  \"/>\n<path clip-path=\"url(#clip672)\" d=\"\nM11431.9 1384.24 L11431.9 1384.24 L11483 1384.24 L11483 1384.24 L11431.9 1384.24 L11431.9 1384.24  Z\n  \" fill=\"#009af9\" fill-rule=\"evenodd\" fill-opacity=\"1\"/>\n<polyline clip-path=\"url(#clip672)\" style=\"stroke:#000000; stroke-linecap:round; stroke-linejoin:round; stroke-width:4; stroke-opacity:1; fill:none\" points=\"\n  11431.9,1384.24 11431.9,1384.24 11483,1384.24 11431.9,1384.24 \n  \"/>\n<path clip-path=\"url(#clip672)\" d=\"\nM11483 1384.24 L11483 1384.24 L11534 1384.24 L11534 1384.24 L11483 1384.24 L11483 1384.24  Z\n  \" fill=\"#009af9\" fill-rule=\"evenodd\" fill-opacity=\"1\"/>\n<polyline clip-path=\"url(#clip672)\" style=\"stroke:#000000; stroke-linecap:round; stroke-linejoin:round; stroke-width:4; stroke-opacity:1; fill:none\" points=\"\n  11483,1384.24 11483,1384.24 11534,1384.24 11483,1384.24 \n  \"/>\n<path clip-path=\"url(#clip672)\" d=\"\nM11534 1384.24 L11534 1384.24 L11585 1384.24 L11585 1384.24 L11534 1384.24 L11534 1384.24  Z\n  \" fill=\"#009af9\" fill-rule=\"evenodd\" fill-opacity=\"1\"/>\n<polyline clip-path=\"url(#clip672)\" style=\"stroke:#000000; stroke-linecap:round; stroke-linejoin:round; stroke-width:4; stroke-opacity:1; fill:none\" points=\"\n  11534,1384.24 11534,1384.24 11585,1384.24 11534,1384.24 \n  \"/>\n<path clip-path=\"url(#clip672)\" d=\"\nM11585 1384.24 L11585 1384.24 L11636.1 1384.24 L11636.1 1384.24 L11585 1384.24 L11585 1384.24  Z\n  \" fill=\"#009af9\" fill-rule=\"evenodd\" fill-opacity=\"1\"/>\n<polyline clip-path=\"url(#clip672)\" style=\"stroke:#000000; stroke-linecap:round; stroke-linejoin:round; stroke-width:4; stroke-opacity:1; fill:none\" points=\"\n  11585,1384.24 11585,1384.24 11636.1,1384.24 11585,1384.24 \n  \"/>\n<path clip-path=\"url(#clip672)\" d=\"\nM11636.1 1384.24 L11636.1 1384.24 L11687.1 1384.24 L11687.1 1384.24 L11636.1 1384.24 L11636.1 1384.24  Z\n  \" fill=\"#009af9\" fill-rule=\"evenodd\" fill-opacity=\"1\"/>\n<polyline clip-path=\"url(#clip672)\" style=\"stroke:#000000; stroke-linecap:round; stroke-linejoin:round; stroke-width:4; stroke-opacity:1; fill:none\" points=\"\n  11636.1,1384.24 11636.1,1384.24 11687.1,1384.24 11636.1,1384.24 \n  \"/>\n<path clip-path=\"url(#clip672)\" d=\"\nM11687.1 1384.24 L11687.1 1384.24 L11738.1 1384.24 L11738.1 1384.24 L11687.1 1384.24 L11687.1 1384.24  Z\n  \" fill=\"#009af9\" fill-rule=\"evenodd\" fill-opacity=\"1\"/>\n<polyline clip-path=\"url(#clip672)\" style=\"stroke:#000000; stroke-linecap:round; stroke-linejoin:round; stroke-width:4; stroke-opacity:1; fill:none\" points=\"\n  11687.1,1384.24 11687.1,1384.24 11738.1,1384.24 11687.1,1384.24 \n  \"/>\n<path clip-path=\"url(#clip672)\" d=\"\nM11738.1 1384.24 L11738.1 1384.24 L11789.2 1384.24 L11789.2 1384.24 L11738.1 1384.24 L11738.1 1384.24  Z\n  \" fill=\"#009af9\" fill-rule=\"evenodd\" fill-opacity=\"1\"/>\n<polyline clip-path=\"url(#clip672)\" style=\"stroke:#000000; stroke-linecap:round; stroke-linejoin:round; stroke-width:4; stroke-opacity:1; fill:none\" points=\"\n  11738.1,1384.24 11738.1,1384.24 11789.2,1384.24 11738.1,1384.24 \n  \"/>\n<path clip-path=\"url(#clip672)\" d=\"\nM11789.2 1384.24 L11789.2 1384.24 L11840.2 1384.24 L11840.2 1384.24 L11789.2 1384.24 L11789.2 1384.24  Z\n  \" fill=\"#009af9\" fill-rule=\"evenodd\" fill-opacity=\"1\"/>\n<polyline clip-path=\"url(#clip672)\" style=\"stroke:#000000; stroke-linecap:round; stroke-linejoin:round; stroke-width:4; stroke-opacity:1; fill:none\" points=\"\n  11789.2,1384.24 11789.2,1384.24 11840.2,1384.24 11789.2,1384.24 \n  \"/>\n<path clip-path=\"url(#clip672)\" d=\"\nM11840.2 1384.24 L11840.2 1384.24 L11891.3 1384.24 L11891.3 1384.24 L11840.2 1384.24 L11840.2 1384.24  Z\n  \" fill=\"#009af9\" fill-rule=\"evenodd\" fill-opacity=\"1\"/>\n<polyline clip-path=\"url(#clip672)\" style=\"stroke:#000000; stroke-linecap:round; stroke-linejoin:round; stroke-width:4; stroke-opacity:1; fill:none\" points=\"\n  11840.2,1384.24 11840.2,1384.24 11891.3,1384.24 11840.2,1384.24 \n  \"/>\n<path clip-path=\"url(#clip672)\" d=\"\nM11891.3 1384.24 L11891.3 1384.24 L11942.3 1384.24 L11942.3 1384.24 L11891.3 1384.24 L11891.3 1384.24  Z\n  \" fill=\"#009af9\" fill-rule=\"evenodd\" fill-opacity=\"1\"/>\n<polyline clip-path=\"url(#clip672)\" style=\"stroke:#000000; stroke-linecap:round; stroke-linejoin:round; stroke-width:4; stroke-opacity:1; fill:none\" points=\"\n  11891.3,1384.24 11891.3,1384.24 11942.3,1384.24 11891.3,1384.24 \n  \"/>\n<path clip-path=\"url(#clip672)\" d=\"\nM11942.3 1254.43 L11942.3 1384.24 L11993.3 1384.24 L11993.3 1254.43 L11942.3 1254.43 L11942.3 1254.43  Z\n  \" fill=\"#009af9\" fill-rule=\"evenodd\" fill-opacity=\"1\"/>\n<polyline clip-path=\"url(#clip672)\" style=\"stroke:#000000; stroke-linecap:round; stroke-linejoin:round; stroke-width:4; stroke-opacity:1; fill:none\" points=\"\n  11942.3,1254.43 11942.3,1384.24 11993.3,1384.24 11993.3,1254.43 11942.3,1254.43 \n  \"/>\n<path clip-path=\"url(#clip672)\" d=\"\nM11993.3 1384.24 L11993.3 1384.24 L12044.4 1384.24 L12044.4 1384.24 L11993.3 1384.24 L11993.3 1384.24  Z\n  \" fill=\"#009af9\" fill-rule=\"evenodd\" fill-opacity=\"1\"/>\n<polyline clip-path=\"url(#clip672)\" style=\"stroke:#000000; stroke-linecap:round; stroke-linejoin:round; stroke-width:4; stroke-opacity:1; fill:none\" points=\"\n  11993.3,1384.24 11993.3,1384.24 12044.4,1384.24 11993.3,1384.24 \n  \"/>\n<path clip-path=\"url(#clip672)\" d=\"\nM12044.4 1384.24 L12044.4 1384.24 L12095.4 1384.24 L12095.4 1384.24 L12044.4 1384.24 L12044.4 1384.24  Z\n  \" fill=\"#009af9\" fill-rule=\"evenodd\" fill-opacity=\"1\"/>\n<polyline clip-path=\"url(#clip672)\" style=\"stroke:#000000; stroke-linecap:round; stroke-linejoin:round; stroke-width:4; stroke-opacity:1; fill:none\" points=\"\n  12044.4,1384.24 12044.4,1384.24 12095.4,1384.24 12044.4,1384.24 \n  \"/>\n<path clip-path=\"url(#clip672)\" d=\"\nM12095.4 1384.24 L12095.4 1384.24 L12146.4 1384.24 L12146.4 1384.24 L12095.4 1384.24 L12095.4 1384.24  Z\n  \" fill=\"#009af9\" fill-rule=\"evenodd\" fill-opacity=\"1\"/>\n<polyline clip-path=\"url(#clip672)\" style=\"stroke:#000000; stroke-linecap:round; stroke-linejoin:round; stroke-width:4; stroke-opacity:1; fill:none\" points=\"\n  12095.4,1384.24 12095.4,1384.24 12146.4,1384.24 12095.4,1384.24 \n  \"/>\n<path clip-path=\"url(#clip672)\" d=\"\nM12146.4 1384.24 L12146.4 1384.24 L12197.5 1384.24 L12197.5 1384.24 L12146.4 1384.24 L12146.4 1384.24  Z\n  \" fill=\"#009af9\" fill-rule=\"evenodd\" fill-opacity=\"1\"/>\n<polyline clip-path=\"url(#clip672)\" style=\"stroke:#000000; stroke-linecap:round; stroke-linejoin:round; stroke-width:4; stroke-opacity:1; fill:none\" points=\"\n  12146.4,1384.24 12146.4,1384.24 12197.5,1384.24 12146.4,1384.24 \n  \"/>\n<path clip-path=\"url(#clip672)\" d=\"\nM12197.5 1384.24 L12197.5 1384.24 L12248.5 1384.24 L12248.5 1384.24 L12197.5 1384.24 L12197.5 1384.24  Z\n  \" fill=\"#009af9\" fill-rule=\"evenodd\" fill-opacity=\"1\"/>\n<polyline clip-path=\"url(#clip672)\" style=\"stroke:#000000; stroke-linecap:round; stroke-linejoin:round; stroke-width:4; stroke-opacity:1; fill:none\" points=\"\n  12197.5,1384.24 12197.5,1384.24 12248.5,1384.24 12197.5,1384.24 \n  \"/>\n<path clip-path=\"url(#clip672)\" d=\"\nM12248.5 1384.24 L12248.5 1384.24 L12299.6 1384.24 L12299.6 1384.24 L12248.5 1384.24 L12248.5 1384.24  Z\n  \" fill=\"#009af9\" fill-rule=\"evenodd\" fill-opacity=\"1\"/>\n<polyline clip-path=\"url(#clip672)\" style=\"stroke:#000000; stroke-linecap:round; stroke-linejoin:round; stroke-width:4; stroke-opacity:1; fill:none\" points=\"\n  12248.5,1384.24 12248.5,1384.24 12299.6,1384.24 12248.5,1384.24 \n  \"/>\n<path clip-path=\"url(#clip672)\" d=\"\nM12299.6 1384.24 L12299.6 1384.24 L12350.6 1384.24 L12350.6 1384.24 L12299.6 1384.24 L12299.6 1384.24  Z\n  \" fill=\"#009af9\" fill-rule=\"evenodd\" fill-opacity=\"1\"/>\n<polyline clip-path=\"url(#clip672)\" style=\"stroke:#000000; stroke-linecap:round; stroke-linejoin:round; stroke-width:4; stroke-opacity:1; fill:none\" points=\"\n  12299.6,1384.24 12299.6,1384.24 12350.6,1384.24 12299.6,1384.24 \n  \"/>\n<path clip-path=\"url(#clip672)\" d=\"\nM12350.6 1384.24 L12350.6 1384.24 L12401.6 1384.24 L12401.6 1384.24 L12350.6 1384.24 L12350.6 1384.24  Z\n  \" fill=\"#009af9\" fill-rule=\"evenodd\" fill-opacity=\"1\"/>\n<polyline clip-path=\"url(#clip672)\" style=\"stroke:#000000; stroke-linecap:round; stroke-linejoin:round; stroke-width:4; stroke-opacity:1; fill:none\" points=\"\n  12350.6,1384.24 12350.6,1384.24 12401.6,1384.24 12350.6,1384.24 \n  \"/>\n<path clip-path=\"url(#clip672)\" d=\"\nM12401.6 1384.24 L12401.6 1384.24 L12452.7 1384.24 L12452.7 1384.24 L12401.6 1384.24 L12401.6 1384.24  Z\n  \" fill=\"#009af9\" fill-rule=\"evenodd\" fill-opacity=\"1\"/>\n<polyline clip-path=\"url(#clip672)\" style=\"stroke:#000000; stroke-linecap:round; stroke-linejoin:round; stroke-width:4; stroke-opacity:1; fill:none\" points=\"\n  12401.6,1384.24 12401.6,1384.24 12452.7,1384.24 12401.6,1384.24 \n  \"/>\n<path clip-path=\"url(#clip672)\" d=\"\nM12452.7 1384.24 L12452.7 1384.24 L12503.7 1384.24 L12503.7 1384.24 L12452.7 1384.24 L12452.7 1384.24  Z\n  \" fill=\"#009af9\" fill-rule=\"evenodd\" fill-opacity=\"1\"/>\n<polyline clip-path=\"url(#clip672)\" style=\"stroke:#000000; stroke-linecap:round; stroke-linejoin:round; stroke-width:4; stroke-opacity:1; fill:none\" points=\"\n  12452.7,1384.24 12452.7,1384.24 12503.7,1384.24 12452.7,1384.24 \n  \"/>\n<path clip-path=\"url(#clip672)\" d=\"\nM12503.7 1384.24 L12503.7 1384.24 L12554.7 1384.24 L12554.7 1384.24 L12503.7 1384.24 L12503.7 1384.24  Z\n  \" fill=\"#009af9\" fill-rule=\"evenodd\" fill-opacity=\"1\"/>\n<polyline clip-path=\"url(#clip672)\" style=\"stroke:#000000; stroke-linecap:round; stroke-linejoin:round; stroke-width:4; stroke-opacity:1; fill:none\" points=\"\n  12503.7,1384.24 12503.7,1384.24 12554.7,1384.24 12503.7,1384.24 \n  \"/>\n<path clip-path=\"url(#clip672)\" d=\"\nM12554.7 1384.24 L12554.7 1384.24 L12605.8 1384.24 L12605.8 1384.24 L12554.7 1384.24 L12554.7 1384.24  Z\n  \" fill=\"#009af9\" fill-rule=\"evenodd\" fill-opacity=\"1\"/>\n<polyline clip-path=\"url(#clip672)\" style=\"stroke:#000000; stroke-linecap:round; stroke-linejoin:round; stroke-width:4; stroke-opacity:1; fill:none\" points=\"\n  12554.7,1384.24 12554.7,1384.24 12605.8,1384.24 12554.7,1384.24 \n  \"/>\n<path clip-path=\"url(#clip672)\" d=\"\nM12605.8 1384.24 L12605.8 1384.24 L12656.8 1384.24 L12656.8 1384.24 L12605.8 1384.24 L12605.8 1384.24  Z\n  \" fill=\"#009af9\" fill-rule=\"evenodd\" fill-opacity=\"1\"/>\n<polyline clip-path=\"url(#clip672)\" style=\"stroke:#000000; stroke-linecap:round; stroke-linejoin:round; stroke-width:4; stroke-opacity:1; fill:none\" points=\"\n  12605.8,1384.24 12605.8,1384.24 12656.8,1384.24 12605.8,1384.24 \n  \"/>\n<path clip-path=\"url(#clip672)\" d=\"\nM12656.8 1384.24 L12656.8 1384.24 L12707.8 1384.24 L12707.8 1384.24 L12656.8 1384.24 L12656.8 1384.24  Z\n  \" fill=\"#009af9\" fill-rule=\"evenodd\" fill-opacity=\"1\"/>\n<polyline clip-path=\"url(#clip672)\" style=\"stroke:#000000; stroke-linecap:round; stroke-linejoin:round; stroke-width:4; stroke-opacity:1; fill:none\" points=\"\n  12656.8,1384.24 12656.8,1384.24 12707.8,1384.24 12656.8,1384.24 \n  \"/>\n<path clip-path=\"url(#clip672)\" d=\"\nM12707.8 1384.24 L12707.8 1384.24 L12758.9 1384.24 L12758.9 1384.24 L12707.8 1384.24 L12707.8 1384.24  Z\n  \" fill=\"#009af9\" fill-rule=\"evenodd\" fill-opacity=\"1\"/>\n<polyline clip-path=\"url(#clip672)\" style=\"stroke:#000000; stroke-linecap:round; stroke-linejoin:round; stroke-width:4; stroke-opacity:1; fill:none\" points=\"\n  12707.8,1384.24 12707.8,1384.24 12758.9,1384.24 12707.8,1384.24 \n  \"/>\n<path clip-path=\"url(#clip672)\" d=\"\nM12758.9 1384.24 L12758.9 1384.24 L12809.9 1384.24 L12809.9 1384.24 L12758.9 1384.24 L12758.9 1384.24  Z\n  \" fill=\"#009af9\" fill-rule=\"evenodd\" fill-opacity=\"1\"/>\n<polyline clip-path=\"url(#clip672)\" style=\"stroke:#000000; stroke-linecap:round; stroke-linejoin:round; stroke-width:4; stroke-opacity:1; fill:none\" points=\"\n  12758.9,1384.24 12758.9,1384.24 12809.9,1384.24 12758.9,1384.24 \n  \"/>\n<path clip-path=\"url(#clip672)\" d=\"\nM12809.9 1384.24 L12809.9 1384.24 L12861 1384.24 L12861 1384.24 L12809.9 1384.24 L12809.9 1384.24  Z\n  \" fill=\"#009af9\" fill-rule=\"evenodd\" fill-opacity=\"1\"/>\n<polyline clip-path=\"url(#clip672)\" style=\"stroke:#000000; stroke-linecap:round; stroke-linejoin:round; stroke-width:4; stroke-opacity:1; fill:none\" points=\"\n  12809.9,1384.24 12809.9,1384.24 12861,1384.24 12809.9,1384.24 \n  \"/>\n<path clip-path=\"url(#clip672)\" d=\"\nM12861 1384.24 L12861 1384.24 L12912 1384.24 L12912 1384.24 L12861 1384.24 L12861 1384.24  Z\n  \" fill=\"#009af9\" fill-rule=\"evenodd\" fill-opacity=\"1\"/>\n<polyline clip-path=\"url(#clip672)\" style=\"stroke:#000000; stroke-linecap:round; stroke-linejoin:round; stroke-width:4; stroke-opacity:1; fill:none\" points=\"\n  12861,1384.24 12861,1384.24 12912,1384.24 12861,1384.24 \n  \"/>\n<path clip-path=\"url(#clip672)\" d=\"\nM12912 1384.24 L12912 1384.24 L12963 1384.24 L12963 1384.24 L12912 1384.24 L12912 1384.24  Z\n  \" fill=\"#009af9\" fill-rule=\"evenodd\" fill-opacity=\"1\"/>\n<polyline clip-path=\"url(#clip672)\" style=\"stroke:#000000; stroke-linecap:round; stroke-linejoin:round; stroke-width:4; stroke-opacity:1; fill:none\" points=\"\n  12912,1384.24 12912,1384.24 12963,1384.24 12912,1384.24 \n  \"/>\n<path clip-path=\"url(#clip672)\" d=\"\nM12963 1384.24 L12963 1384.24 L13014.1 1384.24 L13014.1 1384.24 L12963 1384.24 L12963 1384.24  Z\n  \" fill=\"#009af9\" fill-rule=\"evenodd\" fill-opacity=\"1\"/>\n<polyline clip-path=\"url(#clip672)\" style=\"stroke:#000000; stroke-linecap:round; stroke-linejoin:round; stroke-width:4; stroke-opacity:1; fill:none\" points=\"\n  12963,1384.24 12963,1384.24 13014.1,1384.24 12963,1384.24 \n  \"/>\n<path clip-path=\"url(#clip672)\" d=\"\nM13014.1 1384.24 L13014.1 1384.24 L13065.1 1384.24 L13065.1 1384.24 L13014.1 1384.24 L13014.1 1384.24  Z\n  \" fill=\"#009af9\" fill-rule=\"evenodd\" fill-opacity=\"1\"/>\n<polyline clip-path=\"url(#clip672)\" style=\"stroke:#000000; stroke-linecap:round; stroke-linejoin:round; stroke-width:4; stroke-opacity:1; fill:none\" points=\"\n  13014.1,1384.24 13014.1,1384.24 13065.1,1384.24 13014.1,1384.24 \n  \"/>\n<path clip-path=\"url(#clip672)\" d=\"\nM13065.1 1254.43 L13065.1 1384.24 L13116.1 1384.24 L13116.1 1254.43 L13065.1 1254.43 L13065.1 1254.43  Z\n  \" fill=\"#009af9\" fill-rule=\"evenodd\" fill-opacity=\"1\"/>\n<polyline clip-path=\"url(#clip672)\" style=\"stroke:#000000; stroke-linecap:round; stroke-linejoin:round; stroke-width:4; stroke-opacity:1; fill:none\" points=\"\n  13065.1,1254.43 13065.1,1384.24 13116.1,1384.24 13116.1,1254.43 13065.1,1254.43 \n  \"/>\n<path clip-path=\"url(#clip672)\" d=\"\nM13116.1 1384.24 L13116.1 1384.24 L13167.2 1384.24 L13167.2 1384.24 L13116.1 1384.24 L13116.1 1384.24  Z\n  \" fill=\"#009af9\" fill-rule=\"evenodd\" fill-opacity=\"1\"/>\n<polyline clip-path=\"url(#clip672)\" style=\"stroke:#000000; stroke-linecap:round; stroke-linejoin:round; stroke-width:4; stroke-opacity:1; fill:none\" points=\"\n  13116.1,1384.24 13116.1,1384.24 13167.2,1384.24 13116.1,1384.24 \n  \"/>\n<path clip-path=\"url(#clip672)\" d=\"\nM13167.2 1384.24 L13167.2 1384.24 L13218.2 1384.24 L13218.2 1384.24 L13167.2 1384.24 L13167.2 1384.24  Z\n  \" fill=\"#009af9\" fill-rule=\"evenodd\" fill-opacity=\"1\"/>\n<polyline clip-path=\"url(#clip672)\" style=\"stroke:#000000; stroke-linecap:round; stroke-linejoin:round; stroke-width:4; stroke-opacity:1; fill:none\" points=\"\n  13167.2,1384.24 13167.2,1384.24 13218.2,1384.24 13167.2,1384.24 \n  \"/>\n<path clip-path=\"url(#clip672)\" d=\"\nM13218.2 1254.43 L13218.2 1384.24 L13269.3 1384.24 L13269.3 1254.43 L13218.2 1254.43 L13218.2 1254.43  Z\n  \" fill=\"#009af9\" fill-rule=\"evenodd\" fill-opacity=\"1\"/>\n<polyline clip-path=\"url(#clip672)\" style=\"stroke:#000000; stroke-linecap:round; stroke-linejoin:round; stroke-width:4; stroke-opacity:1; fill:none\" points=\"\n  13218.2,1254.43 13218.2,1384.24 13269.3,1384.24 13269.3,1254.43 13218.2,1254.43 \n  \"/>\n<circle clip-path=\"url(#clip672)\" style=\"fill:#009af9; stroke:none; fill-opacity:0\" cx=\"280.334\" cy=\"1254.43\" r=\"2\"/>\n<circle clip-path=\"url(#clip672)\" style=\"fill:#009af9; stroke:none; fill-opacity:0\" cx=\"331.371\" cy=\"735.212\" r=\"2\"/>\n<circle clip-path=\"url(#clip672)\" style=\"fill:#009af9; stroke:none; fill-opacity:0\" cx=\"382.408\" cy=\"994.822\" r=\"2\"/>\n<circle clip-path=\"url(#clip672)\" style=\"fill:#009af9; stroke:none; fill-opacity:0\" cx=\"433.445\" cy=\"994.822\" r=\"2\"/>\n<circle clip-path=\"url(#clip672)\" style=\"fill:#009af9; stroke:none; fill-opacity:0\" cx=\"484.482\" cy=\"475.601\" r=\"2\"/>\n<circle clip-path=\"url(#clip672)\" style=\"fill:#009af9; stroke:none; fill-opacity:0\" cx=\"535.519\" cy=\"86.1857\" r=\"2\"/>\n<circle clip-path=\"url(#clip672)\" style=\"fill:#009af9; stroke:none; fill-opacity:0\" cx=\"586.556\" cy=\"735.212\" r=\"2\"/>\n<circle clip-path=\"url(#clip672)\" style=\"fill:#009af9; stroke:none; fill-opacity:0\" cx=\"637.593\" cy=\"605.407\" r=\"2\"/>\n<circle clip-path=\"url(#clip672)\" style=\"fill:#009af9; stroke:none; fill-opacity:0\" cx=\"688.63\" cy=\"865.017\" r=\"2\"/>\n<circle clip-path=\"url(#clip672)\" style=\"fill:#009af9; stroke:none; fill-opacity:0\" cx=\"739.667\" cy=\"994.822\" r=\"2\"/>\n<circle clip-path=\"url(#clip672)\" style=\"fill:#009af9; stroke:none; fill-opacity:0\" cx=\"790.704\" cy=\"215.991\" r=\"2\"/>\n<circle clip-path=\"url(#clip672)\" style=\"fill:#009af9; stroke:none; fill-opacity:0\" cx=\"841.741\" cy=\"865.017\" r=\"2\"/>\n<circle clip-path=\"url(#clip672)\" style=\"fill:#009af9; stroke:none; fill-opacity:0\" cx=\"892.778\" cy=\"345.796\" r=\"2\"/>\n<circle clip-path=\"url(#clip672)\" style=\"fill:#009af9; stroke:none; fill-opacity:0\" cx=\"943.815\" cy=\"994.822\" r=\"2\"/>\n<circle clip-path=\"url(#clip672)\" style=\"fill:#009af9; stroke:none; fill-opacity:0\" cx=\"994.852\" cy=\"735.212\" r=\"2\"/>\n<circle clip-path=\"url(#clip672)\" style=\"fill:#009af9; stroke:none; fill-opacity:0\" cx=\"1045.89\" cy=\"605.407\" r=\"2\"/>\n<circle clip-path=\"url(#clip672)\" style=\"fill:#009af9; stroke:none; fill-opacity:0\" cx=\"1096.93\" cy=\"994.822\" r=\"2\"/>\n<circle clip-path=\"url(#clip672)\" style=\"fill:#009af9; stroke:none; fill-opacity:0\" cx=\"1147.96\" cy=\"1124.63\" r=\"2\"/>\n<circle clip-path=\"url(#clip672)\" style=\"fill:#009af9; stroke:none; fill-opacity:0\" cx=\"1199\" cy=\"735.212\" r=\"2\"/>\n<circle clip-path=\"url(#clip672)\" style=\"fill:#009af9; stroke:none; fill-opacity:0\" cx=\"1250.04\" cy=\"865.017\" r=\"2\"/>\n<circle clip-path=\"url(#clip672)\" style=\"fill:#009af9; stroke:none; fill-opacity:0\" cx=\"1301.07\" cy=\"345.796\" r=\"2\"/>\n<circle clip-path=\"url(#clip672)\" style=\"fill:#009af9; stroke:none; fill-opacity:0\" cx=\"1352.11\" cy=\"865.017\" r=\"2\"/>\n<circle clip-path=\"url(#clip672)\" style=\"fill:#009af9; stroke:none; fill-opacity:0\" cx=\"1403.15\" cy=\"735.212\" r=\"2\"/>\n<circle clip-path=\"url(#clip672)\" style=\"fill:#009af9; stroke:none; fill-opacity:0\" cx=\"1454.18\" cy=\"1124.63\" r=\"2\"/>\n<circle clip-path=\"url(#clip672)\" style=\"fill:#009af9; stroke:none; fill-opacity:0\" cx=\"1505.22\" cy=\"605.407\" r=\"2\"/>\n<circle clip-path=\"url(#clip672)\" style=\"fill:#009af9; stroke:none; fill-opacity:0\" cx=\"1556.26\" cy=\"865.017\" r=\"2\"/>\n<circle clip-path=\"url(#clip672)\" style=\"fill:#009af9; stroke:none; fill-opacity:0\" cx=\"1607.3\" cy=\"345.796\" r=\"2\"/>\n<circle clip-path=\"url(#clip672)\" style=\"fill:#009af9; stroke:none; fill-opacity:0\" cx=\"1658.33\" cy=\"865.017\" r=\"2\"/>\n<circle clip-path=\"url(#clip672)\" style=\"fill:#009af9; stroke:none; fill-opacity:0\" cx=\"1709.37\" cy=\"865.017\" r=\"2\"/>\n<circle clip-path=\"url(#clip672)\" style=\"fill:#009af9; stroke:none; fill-opacity:0\" cx=\"1760.41\" cy=\"994.822\" r=\"2\"/>\n<circle clip-path=\"url(#clip672)\" style=\"fill:#009af9; stroke:none; fill-opacity:0\" cx=\"1811.44\" cy=\"735.212\" r=\"2\"/>\n<circle clip-path=\"url(#clip672)\" style=\"fill:#009af9; stroke:none; fill-opacity:0\" cx=\"1862.48\" cy=\"865.017\" r=\"2\"/>\n<circle clip-path=\"url(#clip672)\" style=\"fill:#009af9; stroke:none; fill-opacity:0\" cx=\"1913.52\" cy=\"994.822\" r=\"2\"/>\n<circle clip-path=\"url(#clip672)\" style=\"fill:#009af9; stroke:none; fill-opacity:0\" cx=\"1964.56\" cy=\"1384.24\" r=\"2\"/>\n<circle clip-path=\"url(#clip672)\" style=\"fill:#009af9; stroke:none; fill-opacity:0\" cx=\"2015.59\" cy=\"345.796\" r=\"2\"/>\n<circle clip-path=\"url(#clip672)\" style=\"fill:#009af9; stroke:none; fill-opacity:0\" cx=\"2066.63\" cy=\"865.017\" r=\"2\"/>\n<circle clip-path=\"url(#clip672)\" style=\"fill:#009af9; stroke:none; fill-opacity:0\" cx=\"2117.67\" cy=\"735.212\" r=\"2\"/>\n<circle clip-path=\"url(#clip672)\" style=\"fill:#009af9; stroke:none; fill-opacity:0\" cx=\"2168.7\" cy=\"994.822\" r=\"2\"/>\n<circle clip-path=\"url(#clip672)\" style=\"fill:#009af9; stroke:none; fill-opacity:0\" cx=\"2219.74\" cy=\"865.017\" r=\"2\"/>\n<circle clip-path=\"url(#clip672)\" style=\"fill:#009af9; stroke:none; fill-opacity:0\" cx=\"2270.78\" cy=\"994.822\" r=\"2\"/>\n<circle clip-path=\"url(#clip672)\" style=\"fill:#009af9; stroke:none; fill-opacity:0\" cx=\"2321.81\" cy=\"1254.43\" r=\"2\"/>\n</svg>\n"
     },
     "execution_count": 18,
     "metadata": {},
     "output_type": "execute_result"
    }
   ],
   "source": [
    "using Statistics # bring in statistical support for standard deviations\n",
    "t = c_bench.times / 1e6 # times in milliseconds\n",
    "m, σ = minimum(t), std(t)\n",
    "\n",
    "histogram(t, bins=500,\n",
    "    xlim=(m - 0.01, m + σ),\n",
    "    xlabel=\"milliseconds\", ylabel=\"count\", label=\"\")"
   ]
  },
  {
   "cell_type": "markdown",
   "metadata": {},
   "source": [
    "# 2. C with -ffast-math\n",
    "\n",
    "If we allow C to re-arrange the floating point operations, then it'll vectorize with SIMD (single instruction, multiple data) instructions."
   ]
  },
  {
   "cell_type": "code",
   "execution_count": 19,
   "metadata": {},
   "outputs": [
    {
     "data": {
      "text/plain": [
       "c_sum_fastmath (generic function with 1 method)"
      ]
     },
     "execution_count": 19,
     "metadata": {},
     "output_type": "execute_result"
    }
   ],
   "source": [
    "const Clib_fastmath = tempname()   # make a temporary file\n",
    "\n",
    "# The same as above but with a -ffast-math flag added\n",
    "open(`gcc -fPIC -O3 -msse3 -xc -shared -ffast-math -o $(Clib_fastmath * \".\" * Libdl.dlext) -`, \"w\") do f\n",
    "    print(f, C_code) \n",
    "end\n",
    "\n",
    "# define a Julia function that calls the C function:\n",
    "c_sum_fastmath(X::Array{Float64}) = ccall((\"c_sum\", Clib_fastmath), Float64, (Csize_t, Ptr{Float64}), length(X), X)"
   ]
  },
  {
   "cell_type": "code",
   "execution_count": 20,
   "metadata": {},
   "outputs": [
    {
     "data": {
      "text/plain": [
       "BenchmarkTools.Trial: 703 samples with 1 evaluation.\n",
       " Range \u001b[90m(\u001b[39m\u001b[36m\u001b[1mmin\u001b[22m\u001b[39m … \u001b[35mmax\u001b[39m\u001b[90m):  \u001b[39m\u001b[36m\u001b[1m6.086 ms\u001b[22m\u001b[39m … \u001b[35m 10.970 ms\u001b[39m  \u001b[90m┊\u001b[39m GC \u001b[90m(\u001b[39mmin … max\u001b[90m): \u001b[39m0.00% … 0.00%\n",
       " Time  \u001b[90m(\u001b[39m\u001b[34m\u001b[1mmedian\u001b[22m\u001b[39m\u001b[90m):     \u001b[39m\u001b[34m\u001b[1m7.018 ms               \u001b[22m\u001b[39m\u001b[90m┊\u001b[39m GC \u001b[90m(\u001b[39mmedian\u001b[90m):    \u001b[39m0.00%\n",
       " Time  \u001b[90m(\u001b[39m\u001b[32m\u001b[1mmean\u001b[22m\u001b[39m ± \u001b[32mσ\u001b[39m\u001b[90m):   \u001b[39m\u001b[32m\u001b[1m7.096 ms\u001b[22m\u001b[39m ± \u001b[32m572.433 μs\u001b[39m  \u001b[90m┊\u001b[39m GC \u001b[90m(\u001b[39mmean ± σ\u001b[90m):  \u001b[39m0.00% ± 0.00%\n",
       "\n",
       "  \u001b[39m \u001b[39m \u001b[39m \u001b[39m \u001b[39m \u001b[39m \u001b[39m \u001b[39m \u001b[39m▂\u001b[39m \u001b[39m▅\u001b[39m▆\u001b[39m█\u001b[39m▂\u001b[39m▅\u001b[39m█\u001b[39m \u001b[39m▃\u001b[39m▅\u001b[39m \u001b[34m▃\u001b[39m\u001b[39m▄\u001b[32m▂\u001b[39m\u001b[39m▃\u001b[39m▂\u001b[39m \u001b[39m▆\u001b[39m▂\u001b[39m \u001b[39m▃\u001b[39m▁\u001b[39m \u001b[39m \u001b[39m \u001b[39m \u001b[39m \u001b[39m \u001b[39m \u001b[39m \u001b[39m \u001b[39m \u001b[39m \u001b[39m \u001b[39m \u001b[39m \u001b[39m \u001b[39m \u001b[39m \u001b[39m \u001b[39m \u001b[39m \u001b[39m \u001b[39m \u001b[39m \u001b[39m \u001b[39m \u001b[39m \u001b[39m \u001b[39m \u001b[39m \u001b[39m \n",
       "  \u001b[39m▃\u001b[39m▁\u001b[39m▃\u001b[39m▆\u001b[39m▅\u001b[39m▆\u001b[39m█\u001b[39m▇\u001b[39m█\u001b[39m█\u001b[39m█\u001b[39m█\u001b[39m█\u001b[39m█\u001b[39m█\u001b[39m█\u001b[39m█\u001b[39m█\u001b[39m█\u001b[39m█\u001b[34m█\u001b[39m\u001b[39m█\u001b[32m█\u001b[39m\u001b[39m█\u001b[39m█\u001b[39m▇\u001b[39m█\u001b[39m█\u001b[39m▇\u001b[39m█\u001b[39m█\u001b[39m▅\u001b[39m▆\u001b[39m▅\u001b[39m█\u001b[39m▅\u001b[39m▆\u001b[39m▅\u001b[39m▅\u001b[39m▂\u001b[39m▅\u001b[39m▅\u001b[39m▂\u001b[39m▁\u001b[39m▄\u001b[39m▃\u001b[39m▂\u001b[39m▄\u001b[39m▃\u001b[39m▂\u001b[39m▄\u001b[39m▃\u001b[39m▂\u001b[39m▂\u001b[39m▃\u001b[39m▁\u001b[39m▃\u001b[39m▃\u001b[39m▂\u001b[39m \u001b[39m▅\n",
       "  6.09 ms\u001b[90m         Histogram: frequency by time\u001b[39m        8.82 ms \u001b[0m\u001b[1m<\u001b[22m\n",
       "\n",
       " Memory estimate\u001b[90m: \u001b[39m\u001b[33m0 bytes\u001b[39m, allocs estimate\u001b[90m: \u001b[39m\u001b[33m0\u001b[39m."
      ]
     },
     "execution_count": 20,
     "metadata": {},
     "output_type": "execute_result"
    }
   ],
   "source": [
    "c_fastmath_bench = @benchmark $c_sum_fastmath($a)"
   ]
  },
  {
   "cell_type": "code",
   "execution_count": 21,
   "metadata": {},
   "outputs": [
    {
     "data": {
      "text/plain": [
       "6.085681"
      ]
     },
     "execution_count": 21,
     "metadata": {},
     "output_type": "execute_result"
    }
   ],
   "source": [
    "d[\"C -ffast-math\"] = minimum(c_fastmath_bench.times) / 1e6  # in milliseconds"
   ]
  },
  {
   "cell_type": "markdown",
   "metadata": {},
   "source": [
    "# 3. Python's built in `sum` "
   ]
  },
  {
   "cell_type": "markdown",
   "metadata": {},
   "source": [
    "The `PyCall` package provides a Julia interface to Python:"
   ]
  },
  {
   "cell_type": "code",
   "execution_count": 22,
   "metadata": {
    "scrolled": true
   },
   "outputs": [
    {
     "name": "stderr",
     "output_type": "stream",
     "text": [
      "\u001b[32m\u001b[1m   Resolving\u001b[22m\u001b[39m package versions...\n",
      "\u001b[32m\u001b[1m  No Changes\u001b[22m\u001b[39m to `~/Documents/code/julia_courses/Introduction-to-Julia/Project.toml`\n",
      "\u001b[32m\u001b[1m  No Changes\u001b[22m\u001b[39m to `~/Documents/code/julia_courses/Introduction-to-Julia/Manifest.toml`\n"
     ]
    }
   ],
   "source": [
    "using Pkg; Pkg.add(\"PyCall\")\n",
    "using PyCall"
   ]
  },
  {
   "cell_type": "code",
   "execution_count": 23,
   "metadata": {},
   "outputs": [
    {
     "data": {
      "text/plain": [
       "PyObject <built-in function sum>"
      ]
     },
     "execution_count": 23,
     "metadata": {},
     "output_type": "execute_result"
    }
   ],
   "source": [
    "# get the Python built-in \"sum\" function:\n",
    "pysum = pybuiltin(\"sum\")"
   ]
  },
  {
   "cell_type": "code",
   "execution_count": 24,
   "metadata": {},
   "outputs": [
    {
     "data": {
      "text/plain": [
       "5.000209785831712e6"
      ]
     },
     "execution_count": 24,
     "metadata": {},
     "output_type": "execute_result"
    }
   ],
   "source": [
    "pysum(a)"
   ]
  },
  {
   "cell_type": "code",
   "execution_count": 25,
   "metadata": {},
   "outputs": [
    {
     "data": {
      "text/plain": [
       "true"
      ]
     },
     "execution_count": 25,
     "metadata": {},
     "output_type": "execute_result"
    }
   ],
   "source": [
    "pysum(a) ≈ sum(a)"
   ]
  },
  {
   "cell_type": "code",
   "execution_count": 26,
   "metadata": {},
   "outputs": [
    {
     "data": {
      "text/plain": [
       "BenchmarkTools.Trial: 6 samples with 1 evaluation.\n",
       " Range \u001b[90m(\u001b[39m\u001b[36m\u001b[1mmin\u001b[22m\u001b[39m … \u001b[35mmax\u001b[39m\u001b[90m):  \u001b[39m\u001b[36m\u001b[1m799.178 ms\u001b[22m\u001b[39m … \u001b[35m957.239 ms\u001b[39m  \u001b[90m┊\u001b[39m GC \u001b[90m(\u001b[39mmin … max\u001b[90m): \u001b[39m0.00% … 0.00%\n",
       " Time  \u001b[90m(\u001b[39m\u001b[34m\u001b[1mmedian\u001b[22m\u001b[39m\u001b[90m):     \u001b[39m\u001b[34m\u001b[1m853.038 ms               \u001b[22m\u001b[39m\u001b[90m┊\u001b[39m GC \u001b[90m(\u001b[39mmedian\u001b[90m):    \u001b[39m0.00%\n",
       " Time  \u001b[90m(\u001b[39m\u001b[32m\u001b[1mmean\u001b[22m\u001b[39m ± \u001b[32mσ\u001b[39m\u001b[90m):   \u001b[39m\u001b[32m\u001b[1m863.533 ms\u001b[22m\u001b[39m ± \u001b[32m 53.831 ms\u001b[39m  \u001b[90m┊\u001b[39m GC \u001b[90m(\u001b[39mmean ± σ\u001b[90m):  \u001b[39m0.00% ± 0.00%\n",
       "\n",
       "  \u001b[39m█\u001b[39m \u001b[39m \u001b[39m \u001b[39m \u001b[39m \u001b[39m \u001b[39m \u001b[39m \u001b[39m \u001b[39m \u001b[39m \u001b[39m \u001b[39m█\u001b[39m \u001b[39m \u001b[39m \u001b[34m█\u001b[39m\u001b[39m \u001b[39m \u001b[39m \u001b[39m \u001b[39m \u001b[39m \u001b[39m█\u001b[32m \u001b[39m\u001b[39m \u001b[39m \u001b[39m \u001b[39m \u001b[39m \u001b[39m \u001b[39m█\u001b[39m \u001b[39m \u001b[39m \u001b[39m \u001b[39m \u001b[39m \u001b[39m \u001b[39m \u001b[39m \u001b[39m \u001b[39m \u001b[39m \u001b[39m \u001b[39m \u001b[39m \u001b[39m \u001b[39m \u001b[39m \u001b[39m \u001b[39m \u001b[39m \u001b[39m \u001b[39m \u001b[39m \u001b[39m \u001b[39m \u001b[39m \u001b[39m█\u001b[39m \u001b[39m \n",
       "  \u001b[39m█\u001b[39m▁\u001b[39m▁\u001b[39m▁\u001b[39m▁\u001b[39m▁\u001b[39m▁\u001b[39m▁\u001b[39m▁\u001b[39m▁\u001b[39m▁\u001b[39m▁\u001b[39m▁\u001b[39m█\u001b[39m▁\u001b[39m▁\u001b[39m▁\u001b[34m█\u001b[39m\u001b[39m▁\u001b[39m▁\u001b[39m▁\u001b[39m▁\u001b[39m▁\u001b[39m▁\u001b[39m█\u001b[32m▁\u001b[39m\u001b[39m▁\u001b[39m▁\u001b[39m▁\u001b[39m▁\u001b[39m▁\u001b[39m▁\u001b[39m█\u001b[39m▁\u001b[39m▁\u001b[39m▁\u001b[39m▁\u001b[39m▁\u001b[39m▁\u001b[39m▁\u001b[39m▁\u001b[39m▁\u001b[39m▁\u001b[39m▁\u001b[39m▁\u001b[39m▁\u001b[39m▁\u001b[39m▁\u001b[39m▁\u001b[39m▁\u001b[39m▁\u001b[39m▁\u001b[39m▁\u001b[39m▁\u001b[39m▁\u001b[39m▁\u001b[39m▁\u001b[39m▁\u001b[39m▁\u001b[39m▁\u001b[39m█\u001b[39m \u001b[39m▁\n",
       "  799 ms\u001b[90m           Histogram: frequency by time\u001b[39m          957 ms \u001b[0m\u001b[1m<\u001b[22m\n",
       "\n",
       " Memory estimate\u001b[90m: \u001b[39m\u001b[33m240 bytes\u001b[39m, allocs estimate\u001b[90m: \u001b[39m\u001b[33m6\u001b[39m."
      ]
     },
     "execution_count": 26,
     "metadata": {},
     "output_type": "execute_result"
    }
   ],
   "source": [
    "py_list_bench = @benchmark $pysum($a)"
   ]
  },
  {
   "cell_type": "code",
   "execution_count": 27,
   "metadata": {},
   "outputs": [
    {
     "data": {
      "text/plain": [
       "Dict{Any, Any} with 3 entries:\n",
       "  \"C\"               => 10.6528\n",
       "  \"Python built-in\" => 799.178\n",
       "  \"C -ffast-math\"   => 6.08568"
      ]
     },
     "execution_count": 27,
     "metadata": {},
     "output_type": "execute_result"
    }
   ],
   "source": [
    "d[\"Python built-in\"] = minimum(py_list_bench.times) / 1e6\n",
    "d"
   ]
  },
  {
   "cell_type": "markdown",
   "metadata": {},
   "source": [
    "# 4. Python: `numpy` \n",
    "\n",
    "## Takes advantage of hardware \"SIMD\", but only works when it works.\n",
    "\n",
    "`numpy` is an optimized C library, callable from Python.\n",
    "It may be installed within Julia as follows:"
   ]
  },
  {
   "cell_type": "code",
   "execution_count": 28,
   "metadata": {},
   "outputs": [
    {
     "name": "stderr",
     "output_type": "stream",
     "text": [
      "\u001b[32m\u001b[1m   Resolving\u001b[22m\u001b[39m package versions...\n",
      "\u001b[32m\u001b[1m  No Changes\u001b[22m\u001b[39m to `~/Documents/code/julia_courses/Introduction-to-Julia/Project.toml`\n",
      "\u001b[32m\u001b[1m  No Changes\u001b[22m\u001b[39m to `~/Documents/code/julia_courses/Introduction-to-Julia/Manifest.toml`\n"
     ]
    }
   ],
   "source": [
    "using Pkg; Pkg.add(\"Conda\")\n",
    "using Conda"
   ]
  },
  {
   "cell_type": "code",
   "execution_count": 29,
   "metadata": {},
   "outputs": [
    {
     "name": "stderr",
     "output_type": "stream",
     "text": [
      "\u001b[36m\u001b[1m[ \u001b[22m\u001b[39m\u001b[36m\u001b[1mInfo: \u001b[22m\u001b[39mRunning `conda install -y numpy` in root environment\n"
     ]
    },
    {
     "name": "stdout",
     "output_type": "stream",
     "text": [
      "Collecting package metadata (current_repodata.json): ...working... done\n",
      "Solving environment: ...working... done\n",
      "\n",
      "# All requested packages already installed.\n",
      "\n"
     ]
    }
   ],
   "source": [
    "Conda.add(\"numpy\")"
   ]
  },
  {
   "cell_type": "code",
   "execution_count": 30,
   "metadata": {},
   "outputs": [
    {
     "data": {
      "text/plain": [
       "BenchmarkTools.Trial: 834 samples with 1 evaluation.\n",
       " Range \u001b[90m(\u001b[39m\u001b[36m\u001b[1mmin\u001b[22m\u001b[39m … \u001b[35mmax\u001b[39m\u001b[90m):  \u001b[39m\u001b[36m\u001b[1m4.321 ms\u001b[22m\u001b[39m … \u001b[35m15.821 ms\u001b[39m  \u001b[90m┊\u001b[39m GC \u001b[90m(\u001b[39mmin … max\u001b[90m): \u001b[39m0.00% … 0.00%\n",
       " Time  \u001b[90m(\u001b[39m\u001b[34m\u001b[1mmedian\u001b[22m\u001b[39m\u001b[90m):     \u001b[39m\u001b[34m\u001b[1m5.504 ms              \u001b[22m\u001b[39m\u001b[90m┊\u001b[39m GC \u001b[90m(\u001b[39mmedian\u001b[90m):    \u001b[39m0.00%\n",
       " Time  \u001b[90m(\u001b[39m\u001b[32m\u001b[1mmean\u001b[22m\u001b[39m ± \u001b[32mσ\u001b[39m\u001b[90m):   \u001b[39m\u001b[32m\u001b[1m5.987 ms\u001b[22m\u001b[39m ± \u001b[32m 1.360 ms\u001b[39m  \u001b[90m┊\u001b[39m GC \u001b[90m(\u001b[39mmean ± σ\u001b[90m):  \u001b[39m0.00% ± 0.00%\n",
       "\n",
       "  \u001b[39m \u001b[39m \u001b[39m \u001b[39m \u001b[39m▃\u001b[39m▇\u001b[39m▇\u001b[39m▃\u001b[39m█\u001b[39m▅\u001b[39m▆\u001b[39m▁\u001b[34m \u001b[39m\u001b[39m \u001b[39m \u001b[39m \u001b[32m \u001b[39m\u001b[39m▃\u001b[39m▂\u001b[39m▂\u001b[39m \u001b[39m \u001b[39m \u001b[39m \u001b[39m \u001b[39m \u001b[39m \u001b[39m \u001b[39m \u001b[39m \u001b[39m \u001b[39m \u001b[39m \u001b[39m \u001b[39m \u001b[39m \u001b[39m \u001b[39m \u001b[39m \u001b[39m \u001b[39m \u001b[39m \u001b[39m \u001b[39m \u001b[39m \u001b[39m \u001b[39m \u001b[39m \u001b[39m \u001b[39m \u001b[39m \u001b[39m \u001b[39m \u001b[39m \u001b[39m \u001b[39m \u001b[39m \u001b[39m \u001b[39m \u001b[39m \n",
       "  \u001b[39m▃\u001b[39m▃\u001b[39m▅\u001b[39m▇\u001b[39m█\u001b[39m█\u001b[39m█\u001b[39m█\u001b[39m█\u001b[39m█\u001b[39m█\u001b[39m█\u001b[34m▆\u001b[39m\u001b[39m▆\u001b[39m▅\u001b[39m█\u001b[32m▇\u001b[39m\u001b[39m█\u001b[39m█\u001b[39m█\u001b[39m▅\u001b[39m▅\u001b[39m▄\u001b[39m▄\u001b[39m▆\u001b[39m▄\u001b[39m▅\u001b[39m▄\u001b[39m▆\u001b[39m▄\u001b[39m▅\u001b[39m▃\u001b[39m▃\u001b[39m▂\u001b[39m▃\u001b[39m▃\u001b[39m▂\u001b[39m▃\u001b[39m▃\u001b[39m▂\u001b[39m▃\u001b[39m▂\u001b[39m▄\u001b[39m▃\u001b[39m▁\u001b[39m▃\u001b[39m▃\u001b[39m▃\u001b[39m▂\u001b[39m▃\u001b[39m▄\u001b[39m▁\u001b[39m▂\u001b[39m▂\u001b[39m▃\u001b[39m▁\u001b[39m▂\u001b[39m▃\u001b[39m \u001b[39m▄\n",
       "  4.32 ms\u001b[90m        Histogram: frequency by time\u001b[39m        10.2 ms \u001b[0m\u001b[1m<\u001b[22m\n",
       "\n",
       " Memory estimate\u001b[90m: \u001b[39m\u001b[33m240 bytes\u001b[39m, allocs estimate\u001b[90m: \u001b[39m\u001b[33m6\u001b[39m."
      ]
     },
     "execution_count": 30,
     "metadata": {},
     "output_type": "execute_result"
    }
   ],
   "source": [
    "numpy_sum = pyimport(\"numpy\")[\"sum\"]\n",
    "\n",
    "py_numpy_bench = @benchmark $numpy_sum($a)"
   ]
  },
  {
   "cell_type": "code",
   "execution_count": 31,
   "metadata": {},
   "outputs": [
    {
     "data": {
      "text/plain": [
       "5.00020978583077e6"
      ]
     },
     "execution_count": 31,
     "metadata": {},
     "output_type": "execute_result"
    }
   ],
   "source": [
    "numpy_sum(a)"
   ]
  },
  {
   "cell_type": "code",
   "execution_count": 32,
   "metadata": {},
   "outputs": [
    {
     "data": {
      "text/plain": [
       "true"
      ]
     },
     "execution_count": 32,
     "metadata": {},
     "output_type": "execute_result"
    }
   ],
   "source": [
    "numpy_sum(a) ≈ sum(a)"
   ]
  },
  {
   "cell_type": "code",
   "execution_count": 33,
   "metadata": {
    "scrolled": true
   },
   "outputs": [
    {
     "data": {
      "text/plain": [
       "Dict{Any, Any} with 4 entries:\n",
       "  \"C\"               => 10.6528\n",
       "  \"Python numpy\"    => 4.3206\n",
       "  \"Python built-in\" => 799.178\n",
       "  \"C -ffast-math\"   => 6.08568"
      ]
     },
     "execution_count": 33,
     "metadata": {},
     "output_type": "execute_result"
    }
   ],
   "source": [
    "d[\"Python numpy\"] = minimum(py_numpy_bench.times) / 1e6\n",
    "d"
   ]
  },
  {
   "cell_type": "markdown",
   "metadata": {},
   "source": [
    "# 5. Python, hand-written "
   ]
  },
  {
   "cell_type": "code",
   "execution_count": 34,
   "metadata": {},
   "outputs": [
    {
     "data": {
      "text/plain": [
       "PyObject <function py_sum at 0x7fbb583eac20>"
      ]
     },
     "execution_count": 34,
     "metadata": {},
     "output_type": "execute_result"
    }
   ],
   "source": [
    "py\"\"\"\n",
    "def py_sum(A):\n",
    "    s = 0.0\n",
    "    for a in A:\n",
    "        s += a\n",
    "    return s\n",
    "\"\"\"\n",
    "\n",
    "sum_py = py\"py_sum\""
   ]
  },
  {
   "cell_type": "code",
   "execution_count": 35,
   "metadata": {},
   "outputs": [
    {
     "data": {
      "text/plain": [
       "BenchmarkTools.Trial: 5 samples with 1 evaluation.\n",
       " Range \u001b[90m(\u001b[39m\u001b[36m\u001b[1mmin\u001b[22m\u001b[39m … \u001b[35mmax\u001b[39m\u001b[90m):  \u001b[39m\u001b[36m\u001b[1m920.522 ms\u001b[22m\u001b[39m … \u001b[35m  1.114 s\u001b[39m  \u001b[90m┊\u001b[39m GC \u001b[90m(\u001b[39mmin … max\u001b[90m): \u001b[39m0.00% … 0.00%\n",
       " Time  \u001b[90m(\u001b[39m\u001b[34m\u001b[1mmedian\u001b[22m\u001b[39m\u001b[90m):     \u001b[39m\u001b[34m\u001b[1m   1.055 s              \u001b[22m\u001b[39m\u001b[90m┊\u001b[39m GC \u001b[90m(\u001b[39mmedian\u001b[90m):    \u001b[39m0.00%\n",
       " Time  \u001b[90m(\u001b[39m\u001b[32m\u001b[1mmean\u001b[22m\u001b[39m ± \u001b[32mσ\u001b[39m\u001b[90m):   \u001b[39m\u001b[32m\u001b[1m   1.044 s\u001b[22m\u001b[39m ± \u001b[32m75.599 ms\u001b[39m  \u001b[90m┊\u001b[39m GC \u001b[90m(\u001b[39mmean ± σ\u001b[90m):  \u001b[39m0.00% ± 0.00%\n",
       "\n",
       "  \u001b[39m█\u001b[39m \u001b[39m \u001b[39m \u001b[39m \u001b[39m \u001b[39m \u001b[39m \u001b[39m \u001b[39m \u001b[39m \u001b[39m \u001b[39m \u001b[39m \u001b[39m \u001b[39m \u001b[39m \u001b[39m \u001b[39m \u001b[39m \u001b[39m \u001b[39m \u001b[39m \u001b[39m \u001b[39m \u001b[39m \u001b[39m \u001b[39m \u001b[39m \u001b[39m \u001b[39m \u001b[39m \u001b[39m \u001b[39m \u001b[39m \u001b[39m \u001b[34m█\u001b[39m\u001b[39m \u001b[32m \u001b[39m\u001b[39m \u001b[39m \u001b[39m█\u001b[39m \u001b[39m \u001b[39m \u001b[39m \u001b[39m \u001b[39m \u001b[39m \u001b[39m \u001b[39m \u001b[39m \u001b[39m \u001b[39m█\u001b[39m \u001b[39m \u001b[39m \u001b[39m \u001b[39m \u001b[39m█\u001b[39m \u001b[39m \n",
       "  \u001b[39m█\u001b[39m▁\u001b[39m▁\u001b[39m▁\u001b[39m▁\u001b[39m▁\u001b[39m▁\u001b[39m▁\u001b[39m▁\u001b[39m▁\u001b[39m▁\u001b[39m▁\u001b[39m▁\u001b[39m▁\u001b[39m▁\u001b[39m▁\u001b[39m▁\u001b[39m▁\u001b[39m▁\u001b[39m▁\u001b[39m▁\u001b[39m▁\u001b[39m▁\u001b[39m▁\u001b[39m▁\u001b[39m▁\u001b[39m▁\u001b[39m▁\u001b[39m▁\u001b[39m▁\u001b[39m▁\u001b[39m▁\u001b[39m▁\u001b[39m▁\u001b[39m▁\u001b[39m▁\u001b[34m█\u001b[39m\u001b[39m▁\u001b[32m▁\u001b[39m\u001b[39m▁\u001b[39m▁\u001b[39m█\u001b[39m▁\u001b[39m▁\u001b[39m▁\u001b[39m▁\u001b[39m▁\u001b[39m▁\u001b[39m▁\u001b[39m▁\u001b[39m▁\u001b[39m▁\u001b[39m▁\u001b[39m█\u001b[39m▁\u001b[39m▁\u001b[39m▁\u001b[39m▁\u001b[39m▁\u001b[39m█\u001b[39m \u001b[39m▁\n",
       "  921 ms\u001b[90m          Histogram: frequency by time\u001b[39m          1.11 s \u001b[0m\u001b[1m<\u001b[22m\n",
       "\n",
       " Memory estimate\u001b[90m: \u001b[39m\u001b[33m240 bytes\u001b[39m, allocs estimate\u001b[90m: \u001b[39m\u001b[33m6\u001b[39m."
      ]
     },
     "execution_count": 35,
     "metadata": {},
     "output_type": "execute_result"
    }
   ],
   "source": [
    "py_hand = @benchmark $sum_py($a)"
   ]
  },
  {
   "cell_type": "code",
   "execution_count": 36,
   "metadata": {},
   "outputs": [
    {
     "data": {
      "text/plain": [
       "5.000209785831712e6"
      ]
     },
     "execution_count": 36,
     "metadata": {},
     "output_type": "execute_result"
    }
   ],
   "source": [
    "sum_py(a)"
   ]
  },
  {
   "cell_type": "code",
   "execution_count": 37,
   "metadata": {},
   "outputs": [
    {
     "data": {
      "text/plain": [
       "true"
      ]
     },
     "execution_count": 37,
     "metadata": {},
     "output_type": "execute_result"
    }
   ],
   "source": [
    "sum_py(a) ≈ sum(a)"
   ]
  },
  {
   "cell_type": "code",
   "execution_count": 38,
   "metadata": {
    "scrolled": true
   },
   "outputs": [
    {
     "data": {
      "text/plain": [
       "Dict{Any, Any} with 5 entries:\n",
       "  \"C\"                   => 10.6528\n",
       "  \"Python numpy\"        => 4.3206\n",
       "  \"Python hand-written\" => 920.522\n",
       "  \"Python built-in\"     => 799.178\n",
       "  \"C -ffast-math\"       => 6.08568"
      ]
     },
     "execution_count": 38,
     "metadata": {},
     "output_type": "execute_result"
    }
   ],
   "source": [
    "d[\"Python hand-written\"] = minimum(py_hand.times) / 1e6\n",
    "d"
   ]
  },
  {
   "cell_type": "markdown",
   "metadata": {},
   "source": [
    "# 6. Julia (built-in) \n",
    "\n",
    "## Written directly in Julia, not in C!"
   ]
  },
  {
   "cell_type": "code",
   "execution_count": 39,
   "metadata": {},
   "outputs": [
    {
     "data": {
      "text/html": [
       "sum(a::<b>AbstractArray</b>; <i>dims, kw...</i>) in Base at <a href=\"https://github.com/JuliaLang/julia/tree/0434deb161e17103eabdd7d82b17a1cd6b410572/base/reducedim.jl#L994\" target=\"_blank\">reducedim.jl:994</a>"
      ],
      "text/plain": [
       "sum(a::AbstractArray; dims, kw...) in Base at reducedim.jl:994"
      ]
     },
     "execution_count": 39,
     "metadata": {},
     "output_type": "execute_result"
    }
   ],
   "source": [
    "@which sum(a)"
   ]
  },
  {
   "cell_type": "code",
   "execution_count": 40,
   "metadata": {},
   "outputs": [
    {
     "data": {
      "text/plain": [
       "BenchmarkTools.Trial: 641 samples with 1 evaluation.\n",
       " Range \u001b[90m(\u001b[39m\u001b[36m\u001b[1mmin\u001b[22m\u001b[39m … \u001b[35mmax\u001b[39m\u001b[90m):  \u001b[39m\u001b[36m\u001b[1m6.562 ms\u001b[22m\u001b[39m … \u001b[35m 11.365 ms\u001b[39m  \u001b[90m┊\u001b[39m GC \u001b[90m(\u001b[39mmin … max\u001b[90m): \u001b[39m0.00% … 0.00%\n",
       " Time  \u001b[90m(\u001b[39m\u001b[34m\u001b[1mmedian\u001b[22m\u001b[39m\u001b[90m):     \u001b[39m\u001b[34m\u001b[1m7.768 ms               \u001b[22m\u001b[39m\u001b[90m┊\u001b[39m GC \u001b[90m(\u001b[39mmedian\u001b[90m):    \u001b[39m0.00%\n",
       " Time  \u001b[90m(\u001b[39m\u001b[32m\u001b[1mmean\u001b[22m\u001b[39m ± \u001b[32mσ\u001b[39m\u001b[90m):   \u001b[39m\u001b[32m\u001b[1m7.778 ms\u001b[22m\u001b[39m ± \u001b[32m724.335 μs\u001b[39m  \u001b[90m┊\u001b[39m GC \u001b[90m(\u001b[39mmean ± σ\u001b[90m):  \u001b[39m0.00% ± 0.00%\n",
       "\n",
       "  \u001b[39m \u001b[39m \u001b[39m \u001b[39m \u001b[39m \u001b[39m▅\u001b[39m█\u001b[39m▇\u001b[39m▂\u001b[39m▆\u001b[39m▆\u001b[39m▆\u001b[39m▃\u001b[39m▃\u001b[39m \u001b[39m \u001b[39m \u001b[39m \u001b[39m▂\u001b[39m \u001b[39m \u001b[34m▁\u001b[39m\u001b[39m▃\u001b[39m▅\u001b[39m▂\u001b[39m▆\u001b[39m▄\u001b[39m▂\u001b[39m▅\u001b[39m▅\u001b[39m▂\u001b[39m \u001b[39m \u001b[39m \u001b[39m \u001b[39m \u001b[39m \u001b[39m▁\u001b[39m \u001b[39m \u001b[39m \u001b[39m \u001b[39m \u001b[39m \u001b[39m \u001b[39m \u001b[39m \u001b[39m \u001b[39m \u001b[39m \u001b[39m \u001b[39m \u001b[39m \u001b[39m \u001b[39m \u001b[39m \u001b[39m \u001b[39m \u001b[39m \u001b[39m \u001b[39m \n",
       "  \u001b[39m▄\u001b[39m▅\u001b[39m▅\u001b[39m▃\u001b[39m▄\u001b[39m█\u001b[39m█\u001b[39m█\u001b[39m█\u001b[39m█\u001b[39m█\u001b[39m█\u001b[39m█\u001b[39m█\u001b[39m█\u001b[39m▆\u001b[39m▆\u001b[39m▇\u001b[39m█\u001b[39m▇\u001b[39m█\u001b[34m█\u001b[39m\u001b[39m█\u001b[39m█\u001b[39m█\u001b[39m█\u001b[39m█\u001b[39m█\u001b[39m█\u001b[39m█\u001b[39m█\u001b[39m▆\u001b[39m▇\u001b[39m▆\u001b[39m▇\u001b[39m▆\u001b[39m▄\u001b[39m█\u001b[39m▅\u001b[39m▅\u001b[39m▅\u001b[39m▄\u001b[39m▂\u001b[39m▃\u001b[39m▂\u001b[39m▂\u001b[39m▃\u001b[39m▃\u001b[39m▁\u001b[39m▂\u001b[39m▁\u001b[39m▃\u001b[39m▂\u001b[39m▂\u001b[39m▂\u001b[39m▂\u001b[39m▂\u001b[39m▂\u001b[39m▃\u001b[39m \u001b[39m▅\n",
       "  6.56 ms\u001b[90m         Histogram: frequency by time\u001b[39m        9.97 ms \u001b[0m\u001b[1m<\u001b[22m\n",
       "\n",
       " Memory estimate\u001b[90m: \u001b[39m\u001b[33m0 bytes\u001b[39m, allocs estimate\u001b[90m: \u001b[39m\u001b[33m0\u001b[39m."
      ]
     },
     "execution_count": 40,
     "metadata": {},
     "output_type": "execute_result"
    }
   ],
   "source": [
    "j_bench = @benchmark sum($a)"
   ]
  },
  {
   "cell_type": "code",
   "execution_count": 41,
   "metadata": {
    "scrolled": true
   },
   "outputs": [
    {
     "data": {
      "text/plain": [
       "Dict{Any, Any} with 6 entries:\n",
       "  \"C\"                   => 10.6528\n",
       "  \"Python numpy\"        => 4.3206\n",
       "  \"Python hand-written\" => 920.522\n",
       "  \"Python built-in\"     => 799.178\n",
       "  \"Julia built-in\"      => 6.56182\n",
       "  \"C -ffast-math\"       => 6.08568"
      ]
     },
     "execution_count": 41,
     "metadata": {},
     "output_type": "execute_result"
    }
   ],
   "source": [
    "d[\"Julia built-in\"] = minimum(j_bench.times) / 1e6\n",
    "d"
   ]
  },
  {
   "cell_type": "markdown",
   "metadata": {},
   "source": [
    "# 7. Julia (hand-written) "
   ]
  },
  {
   "cell_type": "code",
   "execution_count": 42,
   "metadata": {
    "scrolled": true
   },
   "outputs": [
    {
     "data": {
      "text/plain": [
       "mysum (generic function with 1 method)"
      ]
     },
     "execution_count": 42,
     "metadata": {},
     "output_type": "execute_result"
    }
   ],
   "source": [
    "function mysum(A)   \n",
    "    s = 0.0 # s = zero(eltype(a))\n",
    "    for a in A\n",
    "        s += a\n",
    "    end\n",
    "    s\n",
    "end"
   ]
  },
  {
   "cell_type": "code",
   "execution_count": 43,
   "metadata": {},
   "outputs": [
    {
     "data": {
      "text/plain": [
       "BenchmarkTools.Trial: 436 samples with 1 evaluation.\n",
       " Range \u001b[90m(\u001b[39m\u001b[36m\u001b[1mmin\u001b[22m\u001b[39m … \u001b[35mmax\u001b[39m\u001b[90m):  \u001b[39m\u001b[36m\u001b[1m10.509 ms\u001b[22m\u001b[39m … \u001b[35m 19.562 ms\u001b[39m  \u001b[90m┊\u001b[39m GC \u001b[90m(\u001b[39mmin … max\u001b[90m): \u001b[39m0.00% … 0.00%\n",
       " Time  \u001b[90m(\u001b[39m\u001b[34m\u001b[1mmedian\u001b[22m\u001b[39m\u001b[90m):     \u001b[39m\u001b[34m\u001b[1m11.296 ms               \u001b[22m\u001b[39m\u001b[90m┊\u001b[39m GC \u001b[90m(\u001b[39mmedian\u001b[90m):    \u001b[39m0.00%\n",
       " Time  \u001b[90m(\u001b[39m\u001b[32m\u001b[1mmean\u001b[22m\u001b[39m ± \u001b[32mσ\u001b[39m\u001b[90m):   \u001b[39m\u001b[32m\u001b[1m11.464 ms\u001b[22m\u001b[39m ± \u001b[32m808.281 μs\u001b[39m  \u001b[90m┊\u001b[39m GC \u001b[90m(\u001b[39mmean ± σ\u001b[90m):  \u001b[39m0.00% ± 0.00%\n",
       "\n",
       "  \u001b[39m \u001b[39m \u001b[39m \u001b[39m \u001b[39m \u001b[39m█\u001b[39m▃\u001b[39m \u001b[39m \u001b[39m \u001b[39m \u001b[39m \u001b[39m \u001b[39m▂\u001b[34m▁\u001b[39m\u001b[39m \u001b[39m \u001b[32m \u001b[39m\u001b[39m \u001b[39m \u001b[39m \u001b[39m \u001b[39m \u001b[39m \u001b[39m \u001b[39m \u001b[39m \u001b[39m \u001b[39m \u001b[39m \u001b[39m \u001b[39m \u001b[39m \u001b[39m \u001b[39m \u001b[39m \u001b[39m \u001b[39m \u001b[39m \u001b[39m \u001b[39m \u001b[39m \u001b[39m \u001b[39m \u001b[39m \u001b[39m \u001b[39m \u001b[39m \u001b[39m \u001b[39m \u001b[39m \u001b[39m \u001b[39m \u001b[39m \u001b[39m \u001b[39m \u001b[39m \u001b[39m \u001b[39m \u001b[39m \u001b[39m \u001b[39m \n",
       "  \u001b[39m▂\u001b[39m▁\u001b[39m▄\u001b[39m▃\u001b[39m▇\u001b[39m█\u001b[39m█\u001b[39m▆\u001b[39m▅\u001b[39m▇\u001b[39m▇\u001b[39m▆\u001b[39m█\u001b[39m█\u001b[34m█\u001b[39m\u001b[39m█\u001b[39m█\u001b[32m█\u001b[39m\u001b[39m▇\u001b[39m▅\u001b[39m▆\u001b[39m▃\u001b[39m▅\u001b[39m▃\u001b[39m▄\u001b[39m▃\u001b[39m▃\u001b[39m▃\u001b[39m▃\u001b[39m▃\u001b[39m▃\u001b[39m▂\u001b[39m▃\u001b[39m▃\u001b[39m▂\u001b[39m▃\u001b[39m▂\u001b[39m▂\u001b[39m▃\u001b[39m▁\u001b[39m▂\u001b[39m▁\u001b[39m▂\u001b[39m▂\u001b[39m▃\u001b[39m▃\u001b[39m▃\u001b[39m▃\u001b[39m▁\u001b[39m▃\u001b[39m▂\u001b[39m▁\u001b[39m▁\u001b[39m▁\u001b[39m▃\u001b[39m▁\u001b[39m▁\u001b[39m▃\u001b[39m▂\u001b[39m▃\u001b[39m \u001b[39m▃\n",
       "  10.5 ms\u001b[90m         Histogram: frequency by time\u001b[39m         13.9 ms \u001b[0m\u001b[1m<\u001b[22m\n",
       "\n",
       " Memory estimate\u001b[90m: \u001b[39m\u001b[33m0 bytes\u001b[39m, allocs estimate\u001b[90m: \u001b[39m\u001b[33m0\u001b[39m."
      ]
     },
     "execution_count": 43,
     "metadata": {},
     "output_type": "execute_result"
    }
   ],
   "source": [
    "j_bench_hand = @benchmark mysum($a)"
   ]
  },
  {
   "cell_type": "code",
   "execution_count": 44,
   "metadata": {
    "scrolled": true
   },
   "outputs": [
    {
     "data": {
      "text/plain": [
       "Dict{Any, Any} with 7 entries:\n",
       "  \"C\"                   => 10.6528\n",
       "  \"Python numpy\"        => 4.3206\n",
       "  \"Julia hand-written\"  => 10.5085\n",
       "  \"Python hand-written\" => 920.522\n",
       "  \"Python built-in\"     => 799.178\n",
       "  \"Julia built-in\"      => 6.56182\n",
       "  \"C -ffast-math\"       => 6.08568"
      ]
     },
     "execution_count": 44,
     "metadata": {},
     "output_type": "execute_result"
    }
   ],
   "source": [
    "d[\"Julia hand-written\"] = minimum(j_bench_hand.times) / 1e6\n",
    "d"
   ]
  },
  {
   "cell_type": "markdown",
   "metadata": {},
   "source": [
    "# 8. Julia (hand-written w. simd) "
   ]
  },
  {
   "cell_type": "code",
   "execution_count": 45,
   "metadata": {},
   "outputs": [
    {
     "data": {
      "text/plain": [
       "mysum_simd (generic function with 1 method)"
      ]
     },
     "execution_count": 45,
     "metadata": {},
     "output_type": "execute_result"
    }
   ],
   "source": [
    "function mysum_simd(A)   \n",
    "    s = 0.0 # s = zero(eltype(A))\n",
    "    @simd for a in A\n",
    "        s += a\n",
    "    end\n",
    "    s\n",
    "end"
   ]
  },
  {
   "cell_type": "code",
   "execution_count": 46,
   "metadata": {},
   "outputs": [
    {
     "data": {
      "text/plain": [
       "BenchmarkTools.Trial: 650 samples with 1 evaluation.\n",
       " Range \u001b[90m(\u001b[39m\u001b[36m\u001b[1mmin\u001b[22m\u001b[39m … \u001b[35mmax\u001b[39m\u001b[90m):  \u001b[39m\u001b[36m\u001b[1m6.592 ms\u001b[22m\u001b[39m … \u001b[35m 10.938 ms\u001b[39m  \u001b[90m┊\u001b[39m GC \u001b[90m(\u001b[39mmin … max\u001b[90m): \u001b[39m0.00% … 0.00%\n",
       " Time  \u001b[90m(\u001b[39m\u001b[34m\u001b[1mmedian\u001b[22m\u001b[39m\u001b[90m):     \u001b[39m\u001b[34m\u001b[1m7.560 ms               \u001b[22m\u001b[39m\u001b[90m┊\u001b[39m GC \u001b[90m(\u001b[39mmedian\u001b[90m):    \u001b[39m0.00%\n",
       " Time  \u001b[90m(\u001b[39m\u001b[32m\u001b[1mmean\u001b[22m\u001b[39m ± \u001b[32mσ\u001b[39m\u001b[90m):   \u001b[39m\u001b[32m\u001b[1m7.670 ms\u001b[22m\u001b[39m ± \u001b[32m732.623 μs\u001b[39m  \u001b[90m┊\u001b[39m GC \u001b[90m(\u001b[39mmean ± σ\u001b[90m):  \u001b[39m0.00% ± 0.00%\n",
       "\n",
       "  \u001b[39m \u001b[39m \u001b[39m▂\u001b[39m▆\u001b[39m▄\u001b[39m▅\u001b[39m▃\u001b[39m▅\u001b[39m█\u001b[39m▄\u001b[39m▄\u001b[39m▂\u001b[39m▁\u001b[39m \u001b[39m \u001b[39m▂\u001b[34m▁\u001b[39m\u001b[39m \u001b[32m▂\u001b[39m\u001b[39m \u001b[39m \u001b[39m▂\u001b[39m▂\u001b[39m▄\u001b[39m \u001b[39m▄\u001b[39m▃\u001b[39m \u001b[39m \u001b[39m \u001b[39m \u001b[39m \u001b[39m \u001b[39m \u001b[39m \u001b[39m \u001b[39m \u001b[39m \u001b[39m \u001b[39m \u001b[39m \u001b[39m \u001b[39m \u001b[39m \u001b[39m \u001b[39m \u001b[39m \u001b[39m \u001b[39m \u001b[39m \u001b[39m \u001b[39m \u001b[39m \u001b[39m \u001b[39m \u001b[39m \u001b[39m \u001b[39m \u001b[39m \u001b[39m \u001b[39m \n",
       "  \u001b[39m▃\u001b[39m▄\u001b[39m█\u001b[39m█\u001b[39m█\u001b[39m█\u001b[39m█\u001b[39m█\u001b[39m█\u001b[39m█\u001b[39m█\u001b[39m█\u001b[39m█\u001b[39m█\u001b[39m█\u001b[39m█\u001b[34m█\u001b[39m\u001b[39m▇\u001b[32m█\u001b[39m\u001b[39m█\u001b[39m█\u001b[39m█\u001b[39m█\u001b[39m█\u001b[39m█\u001b[39m█\u001b[39m█\u001b[39m▇\u001b[39m▇\u001b[39m▅\u001b[39m▅\u001b[39m▄\u001b[39m▆\u001b[39m▄\u001b[39m▆\u001b[39m▆\u001b[39m▂\u001b[39m▄\u001b[39m▂\u001b[39m▂\u001b[39m▁\u001b[39m▂\u001b[39m▂\u001b[39m▂\u001b[39m▄\u001b[39m▃\u001b[39m▂\u001b[39m▃\u001b[39m▁\u001b[39m▂\u001b[39m▂\u001b[39m▂\u001b[39m▃\u001b[39m▁\u001b[39m▁\u001b[39m▃\u001b[39m▁\u001b[39m▁\u001b[39m▃\u001b[39m \u001b[39m▄\n",
       "  6.59 ms\u001b[90m         Histogram: frequency by time\u001b[39m        10.2 ms \u001b[0m\u001b[1m<\u001b[22m\n",
       "\n",
       " Memory estimate\u001b[90m: \u001b[39m\u001b[33m0 bytes\u001b[39m, allocs estimate\u001b[90m: \u001b[39m\u001b[33m0\u001b[39m."
      ]
     },
     "execution_count": 46,
     "metadata": {},
     "output_type": "execute_result"
    }
   ],
   "source": [
    "j_bench_hand_simd = @benchmark mysum_simd($a)"
   ]
  },
  {
   "cell_type": "code",
   "execution_count": 47,
   "metadata": {},
   "outputs": [
    {
     "data": {
      "text/plain": [
       "5.000209785830762e6"
      ]
     },
     "execution_count": 47,
     "metadata": {},
     "output_type": "execute_result"
    }
   ],
   "source": [
    "mysum_simd(a)"
   ]
  },
  {
   "cell_type": "code",
   "execution_count": 48,
   "metadata": {
    "scrolled": true
   },
   "outputs": [
    {
     "data": {
      "text/plain": [
       "Dict{Any, Any} with 8 entries:\n",
       "  \"Julia hand-written simd\" => 6.59241\n",
       "  \"C\"                       => 10.6528\n",
       "  \"Python numpy\"            => 4.3206\n",
       "  \"Julia hand-written\"      => 10.5085\n",
       "  \"Python hand-written\"     => 920.522\n",
       "  \"Python built-in\"         => 799.178\n",
       "  \"Julia built-in\"          => 6.56182\n",
       "  \"C -ffast-math\"           => 6.08568"
      ]
     },
     "execution_count": 48,
     "metadata": {},
     "output_type": "execute_result"
    }
   ],
   "source": [
    "d[\"Julia hand-written simd\"] = minimum(j_bench_hand_simd.times) / 1e6\n",
    "d"
   ]
  },
  {
   "cell_type": "markdown",
   "metadata": {},
   "source": [
    "# Summary"
   ]
  },
  {
   "cell_type": "code",
   "execution_count": 49,
   "metadata": {
    "scrolled": true
   },
   "outputs": [
    {
     "name": "stdout",
     "output_type": "stream",
     "text": [
      "Python numpy................4.3\n",
      "C -ffast-math...............6.1\n",
      "Julia built-in..............6.6\n",
      "Julia hand-written simd.....6.6\n",
      "Julia hand-written.........10.5\n",
      "C..........................10.7\n",
      "Python built-in...........799.2\n",
      "Python hand-written.......920.5\n"
     ]
    }
   ],
   "source": [
    "for (key, value) in sort(collect(d), by=last)\n",
    "    println(rpad(key, 25, \".\"), lpad(round(value; digits=1), 6, \".\"))\n",
    "end"
   ]
  }
 ],
 "metadata": {
  "anaconda-cloud": {},
  "kernelspec": {
   "display_name": "Julia 1.8.3",
   "language": "julia",
   "name": "julia-1.8"
  },
  "language_info": {
   "file_extension": ".jl",
   "mimetype": "application/julia",
   "name": "julia",
   "version": "1.8.3"
  },
  "toc": {
   "colors": {
    "hover_highlight": "#DAA520",
    "running_highlight": "#FF0000",
    "selected_highlight": "#FFD700"
   },
   "moveMenuLeft": true,
   "nav_menu": {
    "height": "212px",
    "width": "252px"
   },
   "navigate_menu": true,
   "number_sections": true,
   "sideBar": true,
   "threshold": "2",
   "toc_cell": false,
   "toc_section_display": "block",
   "toc_window_display": false
  }
 },
 "nbformat": 4,
 "nbformat_minor": 4
}
